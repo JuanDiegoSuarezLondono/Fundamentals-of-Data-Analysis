{
 "cells": [
  {
   "cell_type": "markdown",
   "id": "14d9977f",
   "metadata": {},
   "source": [
    "### Adding Life Expectancy Data, Logarithmic Axes"
   ]
  },
  {
   "cell_type": "code",
   "execution_count": 2,
   "id": "143941c7",
   "metadata": {},
   "outputs": [],
   "source": [
    "import pandas as pd\n",
    "import seaborn as sns\n",
    "import plotly.express as px\n",
    "pd.options.display.max_rows = 10\n",
    "gdp = pd.read_csv(\"gdp.csv\")\n",
    "pop = pd.read_csv(\"population.csv\")\n",
    "pop = pop.rename(columns = {\"Total population (Gapminder, HYDE & UN)\" : \"population\"})\n",
    "gdp2017 = gdp.query(\"Year == 2017\")\n",
    "pop2017 = pop.query(\"Year == 2017\")\n",
    "gdp_and_pop_2017 = pd.merge(left = gdp2017, right = pop2017, left_on = \"Entity\", right_on = \"Entity\", how = \"outer\")\n",
    "gdp_and_pop_2017[\"gdp_per_capita\"] = gdp_and_pop_2017[\"GDP (constant 2010 US$)\"] / gdp_and_pop_2017[\"population\"]\n",
    "gdp_and_pop = pd.merge(left = gdp, right = pop, left_on = [\"Entity\", \"Year\"], right_on = [\"Entity\", \"Year\"], how = \"left\")\n",
    "gdp_and_pop[\"gdp_per_capita\"] = gdp_and_pop[\"GDP (constant 2010 US$)\"] / gdp_and_pop[\"population\"]\n",
    "gdp_and_pop_by_entity = gdp_and_pop.set_index(\"Entity\")\n",
    "gdp_per_capitas_1960 = gdp_and_pop_by_entity.query(\"Year == 1960\")[[\"gdp_per_capita\"]]\n",
    "gdp_and_pop_by_entity[\"gdp_per_capita_ratio\"] = gdp_and_pop_by_entity[\"gdp_per_capita\"] / gdp_per_capitas_1960[\"gdp_per_capita\"]\n",
    "gdp_and_pop = gdp_and_pop_by_entity.reset_index()\n",
    "gdp_per_cap_ratio_history = gdp_and_pop.dropna()\n",
    "gdp_and_pop_by_entity = gdp_per_cap_ratio_history.set_index(\"Entity\")\n",
    "gdp_and_pop_by_entity[\"pop_ratio\"] = gdp_and_pop_by_entity[\"population\"] / gdp_and_pop_by_entity.query(\"Year == 1960\")[\"population\"]\n",
    "gdp_and_pop_by_entity[\"gdp_ratio\"] = gdp_and_pop_by_entity[\"GDP (constant 2010 US$)\"] / gdp_and_pop_by_entity.query(\"Year == 1960\")[\"GDP (constant 2010 US$)\"]\n",
    "gdp_and_pop = gdp_and_pop_by_entity.reset_index()"
   ]
  },
  {
   "cell_type": "code",
   "execution_count": 12,
   "id": "6ec0b792",
   "metadata": {
    "scrolled": true
   },
   "outputs": [
    {
     "data": {
      "text/html": [
       "<div>\n",
       "<style scoped>\n",
       "    .dataframe tbody tr th:only-of-type {\n",
       "        vertical-align: middle;\n",
       "    }\n",
       "\n",
       "    .dataframe tbody tr th {\n",
       "        vertical-align: top;\n",
       "    }\n",
       "\n",
       "    .dataframe thead th {\n",
       "        text-align: right;\n",
       "    }\n",
       "</style>\n",
       "<table border=\"1\" class=\"dataframe\">\n",
       "  <thead>\n",
       "    <tr style=\"text-align: right;\">\n",
       "      <th></th>\n",
       "      <th>Entity</th>\n",
       "      <th>Code</th>\n",
       "      <th>Year</th>\n",
       "      <th>Life expectancy</th>\n",
       "    </tr>\n",
       "  </thead>\n",
       "  <tbody>\n",
       "    <tr>\n",
       "      <th>0</th>\n",
       "      <td>Afghanistan</td>\n",
       "      <td>AFG</td>\n",
       "      <td>1950</td>\n",
       "      <td>27.7</td>\n",
       "    </tr>\n",
       "    <tr>\n",
       "      <th>1</th>\n",
       "      <td>Afghanistan</td>\n",
       "      <td>AFG</td>\n",
       "      <td>1951</td>\n",
       "      <td>28.0</td>\n",
       "    </tr>\n",
       "    <tr>\n",
       "      <th>2</th>\n",
       "      <td>Afghanistan</td>\n",
       "      <td>AFG</td>\n",
       "      <td>1952</td>\n",
       "      <td>28.4</td>\n",
       "    </tr>\n",
       "    <tr>\n",
       "      <th>3</th>\n",
       "      <td>Afghanistan</td>\n",
       "      <td>AFG</td>\n",
       "      <td>1953</td>\n",
       "      <td>28.9</td>\n",
       "    </tr>\n",
       "    <tr>\n",
       "      <th>4</th>\n",
       "      <td>Afghanistan</td>\n",
       "      <td>AFG</td>\n",
       "      <td>1954</td>\n",
       "      <td>29.2</td>\n",
       "    </tr>\n",
       "    <tr>\n",
       "      <th>...</th>\n",
       "      <td>...</td>\n",
       "      <td>...</td>\n",
       "      <td>...</td>\n",
       "      <td>...</td>\n",
       "    </tr>\n",
       "    <tr>\n",
       "      <th>20444</th>\n",
       "      <td>Zimbabwe</td>\n",
       "      <td>ZWE</td>\n",
       "      <td>2017</td>\n",
       "      <td>60.7</td>\n",
       "    </tr>\n",
       "    <tr>\n",
       "      <th>20445</th>\n",
       "      <td>Zimbabwe</td>\n",
       "      <td>ZWE</td>\n",
       "      <td>2018</td>\n",
       "      <td>61.4</td>\n",
       "    </tr>\n",
       "    <tr>\n",
       "      <th>20446</th>\n",
       "      <td>Zimbabwe</td>\n",
       "      <td>ZWE</td>\n",
       "      <td>2019</td>\n",
       "      <td>61.3</td>\n",
       "    </tr>\n",
       "    <tr>\n",
       "      <th>20447</th>\n",
       "      <td>Zimbabwe</td>\n",
       "      <td>ZWE</td>\n",
       "      <td>2020</td>\n",
       "      <td>61.1</td>\n",
       "    </tr>\n",
       "    <tr>\n",
       "      <th>20448</th>\n",
       "      <td>Zimbabwe</td>\n",
       "      <td>ZWE</td>\n",
       "      <td>2021</td>\n",
       "      <td>59.3</td>\n",
       "    </tr>\n",
       "  </tbody>\n",
       "</table>\n",
       "<p>20449 rows × 4 columns</p>\n",
       "</div>"
      ],
      "text/plain": [
       "            Entity Code  Year  Life expectancy\n",
       "0      Afghanistan  AFG  1950             27.7\n",
       "1      Afghanistan  AFG  1951             28.0\n",
       "2      Afghanistan  AFG  1952             28.4\n",
       "3      Afghanistan  AFG  1953             28.9\n",
       "4      Afghanistan  AFG  1954             29.2\n",
       "...            ...  ...   ...              ...\n",
       "20444     Zimbabwe  ZWE  2017             60.7\n",
       "20445     Zimbabwe  ZWE  2018             61.4\n",
       "20446     Zimbabwe  ZWE  2019             61.3\n",
       "20447     Zimbabwe  ZWE  2020             61.1\n",
       "20448     Zimbabwe  ZWE  2021             59.3\n",
       "\n",
       "[20449 rows x 4 columns]"
      ]
     },
     "execution_count": 12,
     "metadata": {},
     "output_type": "execute_result"
    }
   ],
   "source": [
    "# read life expectancy data\n",
    "life_exp = pd.read_csv(\"life_expectancy.csv\")\n",
    "life_exp = life_exp.rename(columns = {\"Life expectancy at birth (historical)\":\"Life expectancy\"})\n",
    "life_exp"
   ]
  },
  {
   "cell_type": "code",
   "execution_count": null,
   "id": "7a3c3bb9",
   "metadata": {},
   "outputs": [],
   "source": [
    "# ingore that Code column\n",
    "life_exp = life_exp[[\"Entity\",\"Year\",\"Life expectacy\"]]"
   ]
  },
  {
   "cell_type": "code",
   "execution_count": 14,
   "id": "23e32e82",
   "metadata": {},
   "outputs": [],
   "source": [
    "#left join the tables\n",
    "gdp_pop_le = pd.merge(left = gdp_and_pop, right = life_exp, left_on = [\"Entity\",\"Year\"], right_on = [\"Entity\", \"Year\"], how = \"left\")"
   ]
  },
  {
   "cell_type": "code",
   "execution_count": 15,
   "id": "2ad1e293",
   "metadata": {},
   "outputs": [
    {
     "data": {
      "text/html": [
       "<div>\n",
       "<style scoped>\n",
       "    .dataframe tbody tr th:only-of-type {\n",
       "        vertical-align: middle;\n",
       "    }\n",
       "\n",
       "    .dataframe tbody tr th {\n",
       "        vertical-align: top;\n",
       "    }\n",
       "\n",
       "    .dataframe thead th {\n",
       "        text-align: right;\n",
       "    }\n",
       "</style>\n",
       "<table border=\"1\" class=\"dataframe\">\n",
       "  <thead>\n",
       "    <tr style=\"text-align: right;\">\n",
       "      <th></th>\n",
       "      <th>Entity</th>\n",
       "      <th>Code_x</th>\n",
       "      <th>Year</th>\n",
       "      <th>GDP (constant 2010 US$)</th>\n",
       "      <th>Code_y</th>\n",
       "      <th>population</th>\n",
       "      <th>gdp_per_capita</th>\n",
       "      <th>gdp_per_capita_ratio</th>\n",
       "      <th>pop_ratio</th>\n",
       "      <th>gdp_ratio</th>\n",
       "      <th>Code</th>\n",
       "      <th>Life expectancy</th>\n",
       "    </tr>\n",
       "  </thead>\n",
       "  <tbody>\n",
       "    <tr>\n",
       "      <th>0</th>\n",
       "      <td>Algeria</td>\n",
       "      <td>DZA</td>\n",
       "      <td>1960</td>\n",
       "      <td>2.743440e+10</td>\n",
       "      <td>DZA</td>\n",
       "      <td>11058000.0</td>\n",
       "      <td>2480.954892</td>\n",
       "      <td>1.000000</td>\n",
       "      <td>1.000000</td>\n",
       "      <td>1.000000</td>\n",
       "      <td>DZA</td>\n",
       "      <td>40.5</td>\n",
       "    </tr>\n",
       "    <tr>\n",
       "      <th>1</th>\n",
       "      <td>Algeria</td>\n",
       "      <td>DZA</td>\n",
       "      <td>1961</td>\n",
       "      <td>2.370183e+10</td>\n",
       "      <td>DZA</td>\n",
       "      <td>11336000.0</td>\n",
       "      <td>2090.845811</td>\n",
       "      <td>0.842758</td>\n",
       "      <td>1.025140</td>\n",
       "      <td>0.863946</td>\n",
       "      <td>DZA</td>\n",
       "      <td>40.5</td>\n",
       "    </tr>\n",
       "    <tr>\n",
       "      <th>2</th>\n",
       "      <td>Algeria</td>\n",
       "      <td>DZA</td>\n",
       "      <td>1962</td>\n",
       "      <td>1.903611e+10</td>\n",
       "      <td>DZA</td>\n",
       "      <td>11620000.0</td>\n",
       "      <td>1638.219736</td>\n",
       "      <td>0.660318</td>\n",
       "      <td>1.050823</td>\n",
       "      <td>0.693878</td>\n",
       "      <td>DZA</td>\n",
       "      <td>39.3</td>\n",
       "    </tr>\n",
       "    <tr>\n",
       "      <th>3</th>\n",
       "      <td>Algeria</td>\n",
       "      <td>DZA</td>\n",
       "      <td>1963</td>\n",
       "      <td>2.556811e+10</td>\n",
       "      <td>DZA</td>\n",
       "      <td>11913000.0</td>\n",
       "      <td>2146.236350</td>\n",
       "      <td>0.865085</td>\n",
       "      <td>1.077320</td>\n",
       "      <td>0.931973</td>\n",
       "      <td>DZA</td>\n",
       "      <td>42.9</td>\n",
       "    </tr>\n",
       "    <tr>\n",
       "      <th>4</th>\n",
       "      <td>Algeria</td>\n",
       "      <td>DZA</td>\n",
       "      <td>1964</td>\n",
       "      <td>2.706114e+10</td>\n",
       "      <td>DZA</td>\n",
       "      <td>12222000.0</td>\n",
       "      <td>2214.133643</td>\n",
       "      <td>0.892452</td>\n",
       "      <td>1.105263</td>\n",
       "      <td>0.986395</td>\n",
       "      <td>DZA</td>\n",
       "      <td>42.8</td>\n",
       "    </tr>\n",
       "    <tr>\n",
       "      <th>...</th>\n",
       "      <td>...</td>\n",
       "      <td>...</td>\n",
       "      <td>...</td>\n",
       "      <td>...</td>\n",
       "      <td>...</td>\n",
       "      <td>...</td>\n",
       "      <td>...</td>\n",
       "      <td>...</td>\n",
       "      <td>...</td>\n",
       "      <td>...</td>\n",
       "      <td>...</td>\n",
       "      <td>...</td>\n",
       "    </tr>\n",
       "    <tr>\n",
       "      <th>5207</th>\n",
       "      <td>Zimbabwe</td>\n",
       "      <td>ZWE</td>\n",
       "      <td>2013</td>\n",
       "      <td>1.418193e+10</td>\n",
       "      <td>ZWE</td>\n",
       "      <td>13350000.0</td>\n",
       "      <td>1062.316603</td>\n",
       "      <td>1.192968</td>\n",
       "      <td>3.534551</td>\n",
       "      <td>4.216605</td>\n",
       "      <td>ZWE</td>\n",
       "      <td>57.5</td>\n",
       "    </tr>\n",
       "    <tr>\n",
       "      <th>5208</th>\n",
       "      <td>Zimbabwe</td>\n",
       "      <td>ZWE</td>\n",
       "      <td>2014</td>\n",
       "      <td>1.448359e+10</td>\n",
       "      <td>ZWE</td>\n",
       "      <td>13587000.0</td>\n",
       "      <td>1065.988675</td>\n",
       "      <td>1.197091</td>\n",
       "      <td>3.597299</td>\n",
       "      <td>4.306296</td>\n",
       "      <td>ZWE</td>\n",
       "      <td>58.8</td>\n",
       "    </tr>\n",
       "    <tr>\n",
       "      <th>5209</th>\n",
       "      <td>Zimbabwe</td>\n",
       "      <td>ZWE</td>\n",
       "      <td>2015</td>\n",
       "      <td>1.472830e+10</td>\n",
       "      <td>ZWE</td>\n",
       "      <td>13815000.0</td>\n",
       "      <td>1066.109450</td>\n",
       "      <td>1.197227</td>\n",
       "      <td>3.657665</td>\n",
       "      <td>4.379055</td>\n",
       "      <td>ZWE</td>\n",
       "      <td>59.6</td>\n",
       "    </tr>\n",
       "    <tr>\n",
       "      <th>5210</th>\n",
       "      <td>Zimbabwe</td>\n",
       "      <td>ZWE</td>\n",
       "      <td>2016</td>\n",
       "      <td>1.481899e+10</td>\n",
       "      <td>ZWE</td>\n",
       "      <td>14030000.0</td>\n",
       "      <td>1056.235654</td>\n",
       "      <td>1.186139</td>\n",
       "      <td>3.714588</td>\n",
       "      <td>4.406017</td>\n",
       "      <td>ZWE</td>\n",
       "      <td>60.3</td>\n",
       "    </tr>\n",
       "    <tr>\n",
       "      <th>5211</th>\n",
       "      <td>Zimbabwe</td>\n",
       "      <td>ZWE</td>\n",
       "      <td>2017</td>\n",
       "      <td>1.532981e+10</td>\n",
       "      <td>ZWE</td>\n",
       "      <td>14237000.0</td>\n",
       "      <td>1076.758501</td>\n",
       "      <td>1.209186</td>\n",
       "      <td>3.769394</td>\n",
       "      <td>4.557897</td>\n",
       "      <td>ZWE</td>\n",
       "      <td>60.7</td>\n",
       "    </tr>\n",
       "  </tbody>\n",
       "</table>\n",
       "<p>5212 rows × 12 columns</p>\n",
       "</div>"
      ],
      "text/plain": [
       "        Entity Code_x  Year  GDP (constant 2010 US$) Code_y  population  \\\n",
       "0      Algeria    DZA  1960             2.743440e+10    DZA  11058000.0   \n",
       "1      Algeria    DZA  1961             2.370183e+10    DZA  11336000.0   \n",
       "2      Algeria    DZA  1962             1.903611e+10    DZA  11620000.0   \n",
       "3      Algeria    DZA  1963             2.556811e+10    DZA  11913000.0   \n",
       "4      Algeria    DZA  1964             2.706114e+10    DZA  12222000.0   \n",
       "...        ...    ...   ...                      ...    ...         ...   \n",
       "5207  Zimbabwe    ZWE  2013             1.418193e+10    ZWE  13350000.0   \n",
       "5208  Zimbabwe    ZWE  2014             1.448359e+10    ZWE  13587000.0   \n",
       "5209  Zimbabwe    ZWE  2015             1.472830e+10    ZWE  13815000.0   \n",
       "5210  Zimbabwe    ZWE  2016             1.481899e+10    ZWE  14030000.0   \n",
       "5211  Zimbabwe    ZWE  2017             1.532981e+10    ZWE  14237000.0   \n",
       "\n",
       "      gdp_per_capita  gdp_per_capita_ratio  pop_ratio  gdp_ratio Code  \\\n",
       "0        2480.954892              1.000000   1.000000   1.000000  DZA   \n",
       "1        2090.845811              0.842758   1.025140   0.863946  DZA   \n",
       "2        1638.219736              0.660318   1.050823   0.693878  DZA   \n",
       "3        2146.236350              0.865085   1.077320   0.931973  DZA   \n",
       "4        2214.133643              0.892452   1.105263   0.986395  DZA   \n",
       "...              ...                   ...        ...        ...  ...   \n",
       "5207     1062.316603              1.192968   3.534551   4.216605  ZWE   \n",
       "5208     1065.988675              1.197091   3.597299   4.306296  ZWE   \n",
       "5209     1066.109450              1.197227   3.657665   4.379055  ZWE   \n",
       "5210     1056.235654              1.186139   3.714588   4.406017  ZWE   \n",
       "5211     1076.758501              1.209186   3.769394   4.557897  ZWE   \n",
       "\n",
       "      Life expectancy  \n",
       "0                40.5  \n",
       "1                40.5  \n",
       "2                39.3  \n",
       "3                42.9  \n",
       "4                42.8  \n",
       "...               ...  \n",
       "5207             57.5  \n",
       "5208             58.8  \n",
       "5209             59.6  \n",
       "5210             60.3  \n",
       "5211             60.7  \n",
       "\n",
       "[5212 rows x 12 columns]"
      ]
     },
     "execution_count": 15,
     "metadata": {},
     "output_type": "execute_result"
    }
   ],
   "source": [
    "# example and reflect on the data\n",
    "gdp_pop_le"
   ]
  },
  {
   "cell_type": "code",
   "execution_count": 19,
   "id": "cc4ff77a",
   "metadata": {
    "scrolled": false
   },
   "outputs": [
    {
     "data": {
      "application/vnd.plotly.v1+json": {
       "config": {
        "plotlyServerURL": "https://plot.ly"
       },
       "data": [
        {
         "hovertemplate": "Entity=Algeria<br>gdp_per_capita=%{x}<br>Life expectancy=%{y}<extra></extra>",
         "legendgroup": "Algeria",
         "marker": {
          "color": "#636efa",
          "symbol": "circle"
         },
         "mode": "markers",
         "name": "Algeria",
         "orientation": "v",
         "showlegend": true,
         "type": "scatter",
         "x": [
          4816.917875943996
         ],
         "xaxis": "x",
         "y": [
          75.7
         ],
         "yaxis": "y"
        },
        {
         "hovertemplate": "Entity=Argentina<br>gdp_per_capita=%{x}<br>Life expectancy=%{y}<extra></extra>",
         "legendgroup": "Argentina",
         "marker": {
          "color": "#EF553B",
          "symbol": "circle"
         },
         "mode": "markers",
         "name": "Argentina",
         "orientation": "v",
         "showlegend": true,
         "type": "scatter",
         "x": [
          10477.146319354326
         ],
         "xaxis": "x",
         "y": [
          76.8
         ],
         "yaxis": "y"
        },
        {
         "hovertemplate": "Entity=Australia<br>gdp_per_capita=%{x}<br>Life expectancy=%{y}<extra></extra>",
         "legendgroup": "Australia",
         "marker": {
          "color": "#00cc96",
          "symbol": "circle"
         },
         "mode": "markers",
         "name": "Australia",
         "orientation": "v",
         "showlegend": true,
         "type": "scatter",
         "x": [
          55957.626590364045
         ],
         "xaxis": "x",
         "y": [
          83
         ],
         "yaxis": "y"
        },
        {
         "hovertemplate": "Entity=Austria<br>gdp_per_capita=%{x}<br>Life expectancy=%{y}<extra></extra>",
         "legendgroup": "Austria",
         "marker": {
          "color": "#ab63fa",
          "symbol": "circle"
         },
         "mode": "markers",
         "name": "Austria",
         "orientation": "v",
         "showlegend": true,
         "type": "scatter",
         "x": [
          49069.142261829365
         ],
         "xaxis": "x",
         "y": [
          81.6
         ],
         "yaxis": "y"
        },
        {
         "hovertemplate": "Entity=Bahamas<br>gdp_per_capita=%{x}<br>Life expectancy=%{y}<extra></extra>",
         "legendgroup": "Bahamas",
         "marker": {
          "color": "#FFA15A",
          "symbol": "circle"
         },
         "mode": "markers",
         "name": "Bahamas",
         "orientation": "v",
         "showlegend": true,
         "type": "scatter",
         "x": [
          27467.183467529583
         ],
         "xaxis": "x",
         "y": [
          73.6
         ],
         "yaxis": "y"
        },
        {
         "hovertemplate": "Entity=Bangladesh<br>gdp_per_capita=%{x}<br>Life expectancy=%{y}<extra></extra>",
         "legendgroup": "Bangladesh",
         "marker": {
          "color": "#19d3f3",
          "symbol": "circle"
         },
         "mode": "markers",
         "name": "Bangladesh",
         "orientation": "v",
         "showlegend": true,
         "type": "scatter",
         "x": [
          1127.1701207960982
         ],
         "xaxis": "x",
         "y": [
          71.8
         ],
         "yaxis": "y"
        },
        {
         "hovertemplate": "Entity=Belgium<br>gdp_per_capita=%{x}<br>Life expectancy=%{y}<extra></extra>",
         "legendgroup": "Belgium",
         "marker": {
          "color": "#FF6692",
          "symbol": "circle"
         },
         "mode": "markers",
         "name": "Belgium",
         "orientation": "v",
         "showlegend": true,
         "type": "scatter",
         "x": [
          45885.52670298003
         ],
         "xaxis": "x",
         "y": [
          81.4
         ],
         "yaxis": "y"
        },
        {
         "hovertemplate": "Entity=Belize<br>gdp_per_capita=%{x}<br>Life expectancy=%{y}<extra></extra>",
         "legendgroup": "Belize",
         "marker": {
          "color": "#B6E880",
          "symbol": "circle"
         },
         "mode": "markers",
         "name": "Belize",
         "orientation": "v",
         "showlegend": true,
         "type": "scatter",
         "x": [
          4300.087271401622
         ],
         "xaxis": "x",
         "y": [
          73.6
         ],
         "yaxis": "y"
        },
        {
         "hovertemplate": "Entity=Benin<br>gdp_per_capita=%{x}<br>Life expectancy=%{y}<extra></extra>",
         "legendgroup": "Benin",
         "marker": {
          "color": "#FF97FF",
          "symbol": "circle"
         },
         "mode": "markers",
         "name": "Benin",
         "orientation": "v",
         "showlegend": true,
         "type": "scatter",
         "x": [
          860.0059374439847
         ],
         "xaxis": "x",
         "y": [
          59.9
         ],
         "yaxis": "y"
        },
        {
         "hovertemplate": "Entity=Bolivia<br>gdp_per_capita=%{x}<br>Life expectancy=%{y}<extra></extra>",
         "legendgroup": "Bolivia",
         "marker": {
          "color": "#FECB52",
          "symbol": "circle"
         },
         "mode": "markers",
         "name": "Bolivia",
         "orientation": "v",
         "showlegend": true,
         "type": "scatter",
         "x": [
          2490.9237281358346
         ],
         "xaxis": "x",
         "y": [
          67.7
         ],
         "yaxis": "y"
        },
        {
         "hovertemplate": "Entity=Botswana<br>gdp_per_capita=%{x}<br>Life expectancy=%{y}<extra></extra>",
         "legendgroup": "Botswana",
         "marker": {
          "color": "#636efa",
          "symbol": "circle"
         },
         "mode": "markers",
         "name": "Botswana",
         "orientation": "v",
         "showlegend": true,
         "type": "scatter",
         "x": [
          7818.89407485687
         ],
         "xaxis": "x",
         "y": [
          66.8
         ],
         "yaxis": "y"
        },
        {
         "hovertemplate": "Entity=Brazil<br>gdp_per_capita=%{x}<br>Life expectancy=%{y}<extra></extra>",
         "legendgroup": "Brazil",
         "marker": {
          "color": "#EF553B",
          "symbol": "circle"
         },
         "mode": "markers",
         "name": "Brazil",
         "orientation": "v",
         "showlegend": true,
         "type": "scatter",
         "x": [
          10965.175921972874
         ],
         "xaxis": "x",
         "y": [
          74.8
         ],
         "yaxis": "y"
        },
        {
         "hovertemplate": "Entity=Burkina Faso<br>gdp_per_capita=%{x}<br>Life expectancy=%{y}<extra></extra>",
         "legendgroup": "Burkina Faso",
         "marker": {
          "color": "#00cc96",
          "symbol": "circle"
         },
         "mode": "markers",
         "name": "Burkina Faso",
         "orientation": "v",
         "showlegend": true,
         "type": "scatter",
         "x": [
          688.5475953218569
         ],
         "xaxis": "x",
         "y": [
          59.5
         ],
         "yaxis": "y"
        },
        {
         "hovertemplate": "Entity=Burundi<br>gdp_per_capita=%{x}<br>Life expectancy=%{y}<extra></extra>",
         "legendgroup": "Burundi",
         "marker": {
          "color": "#ab63fa",
          "symbol": "circle"
         },
         "mode": "markers",
         "name": "Burundi",
         "orientation": "v",
         "showlegend": true,
         "type": "scatter",
         "x": [
          213.27858761188048
         ],
         "xaxis": "x",
         "y": [
          61.6
         ],
         "yaxis": "y"
        },
        {
         "hovertemplate": "Entity=Cameroon<br>gdp_per_capita=%{x}<br>Life expectancy=%{y}<extra></extra>",
         "legendgroup": "Cameroon",
         "marker": {
          "color": "#FFA15A",
          "symbol": "circle"
         },
         "mode": "markers",
         "name": "Cameroon",
         "orientation": "v",
         "showlegend": true,
         "type": "scatter",
         "x": [
          1472.181498185256
         ],
         "xaxis": "x",
         "y": [
          60.8
         ],
         "yaxis": "y"
        },
        {
         "hovertemplate": "Entity=Canada<br>gdp_per_capita=%{x}<br>Life expectancy=%{y}<extra></extra>",
         "legendgroup": "Canada",
         "marker": {
          "color": "#19d3f3",
          "symbol": "circle"
         },
         "mode": "markers",
         "name": "Canada",
         "orientation": "v",
         "showlegend": true,
         "type": "scatter",
         "x": [
          51282.4760892625
         ],
         "xaxis": "x",
         "y": [
          82
         ],
         "yaxis": "y"
        },
        {
         "hovertemplate": "Entity=Central African Republic<br>gdp_per_capita=%{x}<br>Life expectancy=%{y}<extra></extra>",
         "legendgroup": "Central African Republic",
         "marker": {
          "color": "#FF6692",
          "symbol": "circle"
         },
         "mode": "markers",
         "name": "Central African Republic",
         "orientation": "v",
         "showlegend": true,
         "type": "scatter",
         "x": [
          339.62431132785247
         ],
         "xaxis": "x",
         "y": [
          53.7
         ],
         "yaxis": "y"
        },
        {
         "hovertemplate": "Entity=Chad<br>gdp_per_capita=%{x}<br>Life expectancy=%{y}<extra></extra>",
         "legendgroup": "Chad",
         "marker": {
          "color": "#B6E880",
          "symbol": "circle"
         },
         "mode": "markers",
         "name": "Chad",
         "orientation": "v",
         "showlegend": true,
         "type": "scatter",
         "x": [
          817.0190414555237
         ],
         "xaxis": "x",
         "y": [
          52.3
         ],
         "yaxis": "y"
        },
        {
         "hovertemplate": "Entity=Chile<br>gdp_per_capita=%{x}<br>Life expectancy=%{y}<extra></extra>",
         "legendgroup": "Chile",
         "marker": {
          "color": "#FF97FF",
          "symbol": "circle"
         },
         "mode": "markers",
         "name": "Chile",
         "orientation": "v",
         "showlegend": true,
         "type": "scatter",
         "x": [
          14720.936133199892
         ],
         "xaxis": "x",
         "y": [
          80.4
         ],
         "yaxis": "y"
        },
        {
         "hovertemplate": "Entity=China<br>gdp_per_capita=%{x}<br>Life expectancy=%{y}<extra></extra>",
         "legendgroup": "China",
         "marker": {
          "color": "#FECB52",
          "symbol": "circle"
         },
         "mode": "markers",
         "name": "China",
         "orientation": "v",
         "showlegend": true,
         "type": "scatter",
         "x": [
          7150.496686254078
         ],
         "xaxis": "x",
         "y": [
          77.2
         ],
         "yaxis": "y"
        },
        {
         "hovertemplate": "Entity=Colombia<br>gdp_per_capita=%{x}<br>Life expectancy=%{y}<extra></extra>",
         "legendgroup": "Colombia",
         "marker": {
          "color": "#636efa",
          "symbol": "circle"
         },
         "mode": "markers",
         "name": "Colombia",
         "orientation": "v",
         "showlegend": true,
         "type": "scatter",
         "x": [
          7624.942176500532
         ],
         "xaxis": "x",
         "y": [
          76.6
         ],
         "yaxis": "y"
        },
        {
         "hovertemplate": "Entity=Congo<br>gdp_per_capita=%{x}<br>Life expectancy=%{y}<extra></extra>",
         "legendgroup": "Congo",
         "marker": {
          "color": "#EF553B",
          "symbol": "circle"
         },
         "mode": "markers",
         "name": "Congo",
         "orientation": "v",
         "showlegend": true,
         "type": "scatter",
         "x": [
          2651.883363736803
         ],
         "xaxis": "x",
         "y": [
          63.8
         ],
         "yaxis": "y"
        },
        {
         "hovertemplate": "Entity=Costa Rica<br>gdp_per_capita=%{x}<br>Life expectancy=%{y}<extra></extra>",
         "legendgroup": "Costa Rica",
         "marker": {
          "color": "#00cc96",
          "symbol": "circle"
         },
         "mode": "markers",
         "name": "Costa Rica",
         "orientation": "v",
         "showlegend": true,
         "type": "scatter",
         "x": [
          9704.498759439171
         ],
         "xaxis": "x",
         "y": [
          79.4
         ],
         "yaxis": "y"
        },
        {
         "hovertemplate": "Entity=Cote d'Ivoire<br>gdp_per_capita=%{x}<br>Life expectancy=%{y}<extra></extra>",
         "legendgroup": "Cote d'Ivoire",
         "marker": {
          "color": "#ab63fa",
          "symbol": "circle"
         },
         "mode": "markers",
         "name": "Cote d'Ivoire",
         "orientation": "v",
         "showlegend": true,
         "type": "scatter",
         "x": [
          1623.1735290278593
         ],
         "xaxis": "x",
         "y": [
          58.5
         ],
         "yaxis": "y"
        },
        {
         "hovertemplate": "Entity=Democratic Republic of Congo<br>gdp_per_capita=%{x}<br>Life expectancy=%{y}<extra></extra>",
         "legendgroup": "Democratic Republic of Congo",
         "marker": {
          "color": "#FFA15A",
          "symbol": "circle"
         },
         "mode": "markers",
         "name": "Democratic Republic of Congo",
         "orientation": "v",
         "showlegend": true,
         "type": "scatter",
         "x": [
          408.82077087232886
         ],
         "xaxis": "x",
         "y": [
          59.4
         ],
         "yaxis": "y"
        },
        {
         "hovertemplate": "Entity=Denmark<br>gdp_per_capita=%{x}<br>Life expectancy=%{y}<extra></extra>",
         "legendgroup": "Denmark",
         "marker": {
          "color": "#19d3f3",
          "symbol": "circle"
         },
         "mode": "markers",
         "name": "Denmark",
         "orientation": "v",
         "showlegend": true,
         "type": "scatter",
         "x": [
          61986.156681440334
         ],
         "xaxis": "x",
         "y": [
          81.1
         ],
         "yaxis": "y"
        },
        {
         "hovertemplate": "Entity=Dominican Republic<br>gdp_per_capita=%{x}<br>Life expectancy=%{y}<extra></extra>",
         "legendgroup": "Dominican Republic",
         "marker": {
          "color": "#FF6692",
          "symbol": "circle"
         },
         "mode": "markers",
         "name": "Dominican Republic",
         "orientation": "v",
         "showlegend": true,
         "type": "scatter",
         "x": [
          7325.899767129582
         ],
         "xaxis": "x",
         "y": [
          73.1
         ],
         "yaxis": "y"
        },
        {
         "hovertemplate": "Entity=Ecuador<br>gdp_per_capita=%{x}<br>Life expectancy=%{y}<extra></extra>",
         "legendgroup": "Ecuador",
         "marker": {
          "color": "#B6E880",
          "symbol": "circle"
         },
         "mode": "markers",
         "name": "Ecuador",
         "orientation": "v",
         "showlegend": true,
         "type": "scatter",
         "x": [
          5219.341306051099
         ],
         "xaxis": "x",
         "y": [
          77
         ],
         "yaxis": "y"
        },
        {
         "hovertemplate": "Entity=Egypt<br>gdp_per_capita=%{x}<br>Life expectancy=%{y}<extra></extra>",
         "legendgroup": "Egypt",
         "marker": {
          "color": "#FF97FF",
          "symbol": "circle"
         },
         "mode": "markers",
         "name": "Egypt",
         "orientation": "v",
         "showlegend": true,
         "type": "scatter",
         "x": [
          2817.432289437782
         ],
         "xaxis": "x",
         "y": [
          71.3
         ],
         "yaxis": "y"
        },
        {
         "hovertemplate": "Entity=Fiji<br>gdp_per_capita=%{x}<br>Life expectancy=%{y}<extra></extra>",
         "legendgroup": "Fiji",
         "marker": {
          "color": "#FECB52",
          "symbol": "circle"
         },
         "mode": "markers",
         "name": "Fiji",
         "orientation": "v",
         "showlegend": true,
         "type": "scatter",
         "x": [
          4463.480825744139
         ],
         "xaxis": "x",
         "y": [
          67.8
         ],
         "yaxis": "y"
        },
        {
         "hovertemplate": "Entity=Finland<br>gdp_per_capita=%{x}<br>Life expectancy=%{y}<extra></extra>",
         "legendgroup": "Finland",
         "marker": {
          "color": "#636efa",
          "symbol": "circle"
         },
         "mode": "markers",
         "name": "Finland",
         "orientation": "v",
         "showlegend": true,
         "type": "scatter",
         "x": [
          47060.206319573386
         ],
         "xaxis": "x",
         "y": [
          81.5
         ],
         "yaxis": "y"
        },
        {
         "hovertemplate": "Entity=France<br>gdp_per_capita=%{x}<br>Life expectancy=%{y}<extra></extra>",
         "legendgroup": "France",
         "marker": {
          "color": "#EF553B",
          "symbol": "circle"
         },
         "mode": "markers",
         "name": "France",
         "orientation": "v",
         "showlegend": true,
         "type": "scatter",
         "x": [
          44061.64739521614
         ],
         "xaxis": "x",
         "y": [
          82.5
         ],
         "yaxis": "y"
        },
        {
         "hovertemplate": "Entity=Gabon<br>gdp_per_capita=%{x}<br>Life expectancy=%{y}<extra></extra>",
         "legendgroup": "Gabon",
         "marker": {
          "color": "#00cc96",
          "symbol": "circle"
         },
         "mode": "markers",
         "name": "Gabon",
         "orientation": "v",
         "showlegend": true,
         "type": "scatter",
         "x": [
          9259.756310496272
         ],
         "xaxis": "x",
         "y": [
          66.2
         ],
         "yaxis": "y"
        },
        {
         "hovertemplate": "Entity=Ghana<br>gdp_per_capita=%{x}<br>Life expectancy=%{y}<extra></extra>",
         "legendgroup": "Ghana",
         "marker": {
          "color": "#ab63fa",
          "symbol": "circle"
         },
         "mode": "markers",
         "name": "Ghana",
         "orientation": "v",
         "showlegend": true,
         "type": "scatter",
         "x": [
          1795.9363436799663
         ],
         "xaxis": "x",
         "y": [
          64
         ],
         "yaxis": "y"
        },
        {
         "hovertemplate": "Entity=Greece<br>gdp_per_capita=%{x}<br>Life expectancy=%{y}<extra></extra>",
         "legendgroup": "Greece",
         "marker": {
          "color": "#FFA15A",
          "symbol": "circle"
         },
         "mode": "markers",
         "name": "Greece",
         "orientation": "v",
         "showlegend": true,
         "type": "scatter",
         "x": [
          23444.475664032358
         ],
         "xaxis": "x",
         "y": [
          80.9
         ],
         "yaxis": "y"
        },
        {
         "hovertemplate": "Entity=Guatemala<br>gdp_per_capita=%{x}<br>Life expectancy=%{y}<extra></extra>",
         "legendgroup": "Guatemala",
         "marker": {
          "color": "#19d3f3",
          "symbol": "circle"
         },
         "mode": "markers",
         "name": "Guatemala",
         "orientation": "v",
         "showlegend": true,
         "type": "scatter",
         "x": [
          3123.933862583884
         ],
         "xaxis": "x",
         "y": [
          72.6
         ],
         "yaxis": "y"
        },
        {
         "hovertemplate": "Entity=Guyana<br>gdp_per_capita=%{x}<br>Life expectancy=%{y}<extra></extra>",
         "legendgroup": "Guyana",
         "marker": {
          "color": "#FF6692",
          "symbol": "circle"
         },
         "mode": "markers",
         "name": "Guyana",
         "orientation": "v",
         "showlegend": true,
         "type": "scatter",
         "x": [
          3885.6723798626967
         ],
         "xaxis": "x",
         "y": [
          68.7
         ],
         "yaxis": "y"
        },
        {
         "hovertemplate": "Entity=Honduras<br>gdp_per_capita=%{x}<br>Life expectancy=%{y}<extra></extra>",
         "legendgroup": "Honduras",
         "marker": {
          "color": "#B6E880",
          "symbol": "circle"
         },
         "mode": "markers",
         "name": "Honduras",
         "orientation": "v",
         "showlegend": true,
         "type": "scatter",
         "x": [
          2172.15391486848
         ],
         "xaxis": "x",
         "y": [
          72.7
         ],
         "yaxis": "y"
        },
        {
         "hovertemplate": "Entity=India<br>gdp_per_capita=%{x}<br>Life expectancy=%{y}<extra></extra>",
         "legendgroup": "India",
         "marker": {
          "color": "#FF97FF",
          "symbol": "circle"
         },
         "mode": "markers",
         "name": "India",
         "orientation": "v",
         "showlegend": true,
         "type": "scatter",
         "x": [
          1964.284310117216
         ],
         "xaxis": "x",
         "y": [
          70.5
         ],
         "yaxis": "y"
        },
        {
         "hovertemplate": "Entity=Indonesia<br>gdp_per_capita=%{x}<br>Life expectancy=%{y}<extra></extra>",
         "legendgroup": "Indonesia",
         "marker": {
          "color": "#FECB52",
          "symbol": "circle"
         },
         "mode": "markers",
         "name": "Indonesia",
         "orientation": "v",
         "showlegend": true,
         "type": "scatter",
         "x": [
          4120.367810496154
         ],
         "xaxis": "x",
         "y": [
          69.9
         ],
         "yaxis": "y"
        },
        {
         "hovertemplate": "Entity=Iran<br>gdp_per_capita=%{x}<br>Life expectancy=%{y}<extra></extra>",
         "legendgroup": "Iran",
         "marker": {
          "color": "#636efa",
          "symbol": "circle"
         },
         "mode": "markers",
         "name": "Iran",
         "orientation": "v",
         "showlegend": true,
         "type": "scatter",
         "x": [
          6988.946227555693
         ],
         "xaxis": "x",
         "y": [
          76
         ],
         "yaxis": "y"
        },
        {
         "hovertemplate": "Entity=Israel<br>gdp_per_capita=%{x}<br>Life expectancy=%{y}<extra></extra>",
         "legendgroup": "Israel",
         "marker": {
          "color": "#EF553B",
          "symbol": "circle"
         },
         "mode": "markers",
         "name": "Israel",
         "orientation": "v",
         "showlegend": true,
         "type": "scatter",
         "x": [
          36074.24555591012
         ],
         "xaxis": "x",
         "y": [
          82.7
         ],
         "yaxis": "y"
        },
        {
         "hovertemplate": "Entity=Italy<br>gdp_per_capita=%{x}<br>Life expectancy=%{y}<extra></extra>",
         "legendgroup": "Italy",
         "marker": {
          "color": "#00cc96",
          "symbol": "circle"
         },
         "mode": "markers",
         "name": "Italy",
         "orientation": "v",
         "showlegend": true,
         "type": "scatter",
         "x": [
          34807.36298025678
         ],
         "xaxis": "x",
         "y": [
          82.7
         ],
         "yaxis": "y"
        },
        {
         "hovertemplate": "Entity=Japan<br>gdp_per_capita=%{x}<br>Life expectancy=%{y}<extra></extra>",
         "legendgroup": "Japan",
         "marker": {
          "color": "#ab63fa",
          "symbol": "circle"
         },
         "mode": "markers",
         "name": "Japan",
         "orientation": "v",
         "showlegend": true,
         "type": "scatter",
         "x": [
          48283.79505249767
         ],
         "xaxis": "x",
         "y": [
          84.2
         ],
         "yaxis": "y"
        },
        {
         "hovertemplate": "Entity=Kenya<br>gdp_per_capita=%{x}<br>Life expectancy=%{y}<extra></extra>",
         "legendgroup": "Kenya",
         "marker": {
          "color": "#FFA15A",
          "symbol": "circle"
         },
         "mode": "markers",
         "name": "Kenya",
         "orientation": "v",
         "showlegend": true,
         "type": "scatter",
         "x": [
          1157.2094917223153
         ],
         "xaxis": "x",
         "y": [
          62.5
         ],
         "yaxis": "y"
        },
        {
         "hovertemplate": "Entity=Lesotho<br>gdp_per_capita=%{x}<br>Life expectancy=%{y}<extra></extra>",
         "legendgroup": "Lesotho",
         "marker": {
          "color": "#19d3f3",
          "symbol": "circle"
         },
         "mode": "markers",
         "name": "Lesotho",
         "orientation": "v",
         "showlegend": true,
         "type": "scatter",
         "x": [
          1504.425989499173
         ],
         "xaxis": "x",
         "y": [
          53.1
         ],
         "yaxis": "y"
        },
        {
         "hovertemplate": "Entity=Liberia<br>gdp_per_capita=%{x}<br>Life expectancy=%{y}<extra></extra>",
         "legendgroup": "Liberia",
         "marker": {
          "color": "#FF6692",
          "symbol": "circle"
         },
         "mode": "markers",
         "name": "Liberia",
         "orientation": "v",
         "showlegend": true,
         "type": "scatter",
         "x": [
          354.5265876589813
         ],
         "xaxis": "x",
         "y": [
          60.6
         ],
         "yaxis": "y"
        },
        {
         "hovertemplate": "Entity=Luxembourg<br>gdp_per_capita=%{x}<br>Life expectancy=%{y}<extra></extra>",
         "legendgroup": "Luxembourg",
         "marker": {
          "color": "#B6E880",
          "symbol": "circle"
         },
         "mode": "markers",
         "name": "Luxembourg",
         "orientation": "v",
         "showlegend": true,
         "type": "scatter",
         "x": [
          109222.51748804915
         ],
         "xaxis": "x",
         "y": [
          81.7
         ],
         "yaxis": "y"
        },
        {
         "hovertemplate": "Entity=Madagascar<br>gdp_per_capita=%{x}<br>Life expectancy=%{y}<extra></extra>",
         "legendgroup": "Madagascar",
         "marker": {
          "color": "#FF97FF",
          "symbol": "circle"
         },
         "mode": "markers",
         "name": "Madagascar",
         "orientation": "v",
         "showlegend": true,
         "type": "scatter",
         "x": [
          421.8895132896171
         ],
         "xaxis": "x",
         "y": [
          65.1
         ],
         "yaxis": "y"
        },
        {
         "hovertemplate": "Entity=Malawi<br>gdp_per_capita=%{x}<br>Life expectancy=%{y}<extra></extra>",
         "legendgroup": "Malawi",
         "marker": {
          "color": "#FECB52",
          "symbol": "circle"
         },
         "mode": "markers",
         "name": "Malawi",
         "orientation": "v",
         "showlegend": true,
         "type": "scatter",
         "x": [
          512.6562214324799
         ],
         "xaxis": "x",
         "y": [
          63
         ],
         "yaxis": "y"
        },
        {
         "hovertemplate": "Entity=Malaysia<br>gdp_per_capita=%{x}<br>Life expectancy=%{y}<extra></extra>",
         "legendgroup": "Malaysia",
         "marker": {
          "color": "#636efa",
          "symbol": "circle"
         },
         "mode": "markers",
         "name": "Malaysia",
         "orientation": "v",
         "showlegend": true,
         "type": "scatter",
         "x": [
          11713.792561266839
         ],
         "xaxis": "x",
         "y": [
          75.5
         ],
         "yaxis": "y"
        },
        {
         "hovertemplate": "Entity=Mauritania<br>gdp_per_capita=%{x}<br>Life expectancy=%{y}<extra></extra>",
         "legendgroup": "Mauritania",
         "marker": {
          "color": "#EF553B",
          "symbol": "circle"
         },
         "mode": "markers",
         "name": "Mauritania",
         "orientation": "v",
         "showlegend": true,
         "type": "scatter",
         "x": [
          1347.0106110759748
         ],
         "xaxis": "x",
         "y": [
          65.1
         ],
         "yaxis": "y"
        },
        {
         "hovertemplate": "Entity=Mexico<br>gdp_per_capita=%{x}<br>Life expectancy=%{y}<extra></extra>",
         "legendgroup": "Mexico",
         "marker": {
          "color": "#00cc96",
          "symbol": "circle"
         },
         "mode": "markers",
         "name": "Mexico",
         "orientation": "v",
         "showlegend": true,
         "type": "scatter",
         "x": [
          10295.794498827267
         ],
         "xaxis": "x",
         "y": [
          74.1
         ],
         "yaxis": "y"
        },
        {
         "hovertemplate": "Entity=Myanmar<br>gdp_per_capita=%{x}<br>Life expectancy=%{y}<extra></extra>",
         "legendgroup": "Myanmar",
         "marker": {
          "color": "#ab63fa",
          "symbol": "circle"
         },
         "mode": "markers",
         "name": "Myanmar",
         "orientation": "v",
         "showlegend": true,
         "type": "scatter",
         "x": [
          1483.856240995092
         ],
         "xaxis": "x",
         "y": [
          65.8
         ],
         "yaxis": "y"
        },
        {
         "hovertemplate": "Entity=Nepal<br>gdp_per_capita=%{x}<br>Life expectancy=%{y}<extra></extra>",
         "legendgroup": "Nepal",
         "marker": {
          "color": "#FFA15A",
          "symbol": "circle"
         },
         "mode": "markers",
         "name": "Nepal",
         "orientation": "v",
         "showlegend": true,
         "type": "scatter",
         "x": [
          772.4735975500814
         ],
         "xaxis": "x",
         "y": [
          68.9
         ],
         "yaxis": "y"
        },
        {
         "hovertemplate": "Entity=Netherlands<br>gdp_per_capita=%{x}<br>Life expectancy=%{y}<extra></extra>",
         "legendgroup": "Netherlands",
         "marker": {
          "color": "#19d3f3",
          "symbol": "circle"
         },
         "mode": "markers",
         "name": "Netherlands",
         "orientation": "v",
         "showlegend": true,
         "type": "scatter",
         "x": [
          53950.0540635468
         ],
         "xaxis": "x",
         "y": [
          81.7
         ],
         "yaxis": "y"
        },
        {
         "hovertemplate": "Entity=Nicaragua<br>gdp_per_capita=%{x}<br>Life expectancy=%{y}<extra></extra>",
         "legendgroup": "Nicaragua",
         "marker": {
          "color": "#FF6692",
          "symbol": "circle"
         },
         "mode": "markers",
         "name": "Nicaragua",
         "orientation": "v",
         "showlegend": true,
         "type": "scatter",
         "x": [
          1963.4506830054502
         ],
         "xaxis": "x",
         "y": [
          73.6
         ],
         "yaxis": "y"
        },
        {
         "hovertemplate": "Entity=Niger<br>gdp_per_capita=%{x}<br>Life expectancy=%{y}<extra></extra>",
         "legendgroup": "Niger",
         "marker": {
          "color": "#B6E880",
          "symbol": "circle"
         },
         "mode": "markers",
         "name": "Niger",
         "orientation": "v",
         "showlegend": true,
         "type": "scatter",
         "x": [
          393.6525754495546
         ],
         "xaxis": "x",
         "y": [
          62.2
         ],
         "yaxis": "y"
        },
        {
         "hovertemplate": "Entity=Nigeria<br>gdp_per_capita=%{x}<br>Life expectancy=%{y}<extra></extra>",
         "legendgroup": "Nigeria",
         "marker": {
          "color": "#FF97FF",
          "symbol": "circle"
         },
         "mode": "markers",
         "name": "Nigeria",
         "orientation": "v",
         "showlegend": true,
         "type": "scatter",
         "x": [
          2412.5783360682376
         ],
         "xaxis": "x",
         "y": [
          52.3
         ],
         "yaxis": "y"
        },
        {
         "hovertemplate": "Entity=Norway<br>gdp_per_capita=%{x}<br>Life expectancy=%{y}<extra></extra>",
         "legendgroup": "Norway",
         "marker": {
          "color": "#FECB52",
          "symbol": "circle"
         },
         "mode": "markers",
         "name": "Norway",
         "orientation": "v",
         "showlegend": true,
         "type": "scatter",
         "x": [
          90981.32256139029
         ],
         "xaxis": "x",
         "y": [
          82.6
         ],
         "yaxis": "y"
        },
        {
         "hovertemplate": "Entity=Pakistan<br>gdp_per_capita=%{x}<br>Life expectancy=%{y}<extra></extra>",
         "legendgroup": "Pakistan",
         "marker": {
          "color": "#636efa",
          "symbol": "circle"
         },
         "mode": "markers",
         "name": "Pakistan",
         "orientation": "v",
         "showlegend": true,
         "type": "scatter",
         "x": [
          1158.4885232469962
         ],
         "xaxis": "x",
         "y": [
          66.3
         ],
         "yaxis": "y"
        },
        {
         "hovertemplate": "Entity=Panama<br>gdp_per_capita=%{x}<br>Life expectancy=%{y}<extra></extra>",
         "legendgroup": "Panama",
         "marker": {
          "color": "#EF553B",
          "symbol": "circle"
         },
         "mode": "markers",
         "name": "Panama",
         "orientation": "v",
         "showlegend": true,
         "type": "scatter",
         "x": [
          11489.693265479986
         ],
         "xaxis": "x",
         "y": [
          77.8
         ],
         "yaxis": "y"
        },
        {
         "hovertemplate": "Entity=Papua New Guinea<br>gdp_per_capita=%{x}<br>Life expectancy=%{y}<extra></extra>",
         "legendgroup": "Papua New Guinea",
         "marker": {
          "color": "#00cc96",
          "symbol": "circle"
         },
         "mode": "markers",
         "name": "Papua New Guinea",
         "orientation": "v",
         "showlegend": true,
         "type": "scatter",
         "x": [
          2348.3947050418583
         ],
         "xaxis": "x",
         "y": [
          65.1
         ],
         "yaxis": "y"
        },
        {
         "hovertemplate": "Entity=Paraguay<br>gdp_per_capita=%{x}<br>Life expectancy=%{y}<extra></extra>",
         "legendgroup": "Paraguay",
         "marker": {
          "color": "#ab63fa",
          "symbol": "circle"
         },
         "mode": "markers",
         "name": "Paraguay",
         "orientation": "v",
         "showlegend": true,
         "type": "scatter",
         "x": [
          3874.246263594248
         ],
         "xaxis": "x",
         "y": [
          73.6
         ],
         "yaxis": "y"
        },
        {
         "hovertemplate": "Entity=Peru<br>gdp_per_capita=%{x}<br>Life expectancy=%{y}<extra></extra>",
         "legendgroup": "Peru",
         "marker": {
          "color": "#FFA15A",
          "symbol": "circle"
         },
         "mode": "markers",
         "name": "Peru",
         "orientation": "v",
         "showlegend": true,
         "type": "scatter",
         "x": [
          6314.326519317802
         ],
         "xaxis": "x",
         "y": [
          75.9
         ],
         "yaxis": "y"
        },
        {
         "hovertemplate": "Entity=Philippines<br>gdp_per_capita=%{x}<br>Life expectancy=%{y}<extra></extra>",
         "legendgroup": "Philippines",
         "marker": {
          "color": "#19d3f3",
          "symbol": "circle"
         },
         "mode": "markers",
         "name": "Philippines",
         "orientation": "v",
         "showlegend": true,
         "type": "scatter",
         "x": [
          2884.3510430859346
         ],
         "xaxis": "x",
         "y": [
          71.5
         ],
         "yaxis": "y"
        },
        {
         "hovertemplate": "Entity=Portugal<br>gdp_per_capita=%{x}<br>Life expectancy=%{y}<extra></extra>",
         "legendgroup": "Portugal",
         "marker": {
          "color": "#FF6692",
          "symbol": "circle"
         },
         "mode": "markers",
         "name": "Portugal",
         "orientation": "v",
         "showlegend": true,
         "type": "scatter",
         "x": [
          23127.1793929723
         ],
         "xaxis": "x",
         "y": [
          81.5
         ],
         "yaxis": "y"
        },
        {
         "hovertemplate": "Entity=Rwanda<br>gdp_per_capita=%{x}<br>Life expectancy=%{y}<extra></extra>",
         "legendgroup": "Rwanda",
         "marker": {
          "color": "#B6E880",
          "symbol": "circle"
         },
         "mode": "markers",
         "name": "Rwanda",
         "orientation": "v",
         "showlegend": true,
         "type": "scatter",
         "x": [
          779.7490066089041
         ],
         "xaxis": "x",
         "y": [
          65.9
         ],
         "yaxis": "y"
        },
        {
         "hovertemplate": "Entity=Saint Vincent and the Grenadines<br>gdp_per_capita=%{x}<br>Life expectancy=%{y}<extra></extra>",
         "legendgroup": "Saint Vincent and the Grenadines",
         "marker": {
          "color": "#FF97FF",
          "symbol": "circle"
         },
         "mode": "markers",
         "name": "Saint Vincent and the Grenadines",
         "orientation": "v",
         "showlegend": true,
         "type": "scatter",
         "x": [
          6735.514265390299
         ],
         "xaxis": "x",
         "y": [
          74.3
         ],
         "yaxis": "y"
        },
        {
         "hovertemplate": "Entity=Senegal<br>gdp_per_capita=%{x}<br>Life expectancy=%{y}<extra></extra>",
         "legendgroup": "Senegal",
         "marker": {
          "color": "#FECB52",
          "symbol": "circle"
         },
         "mode": "markers",
         "name": "Senegal",
         "orientation": "v",
         "showlegend": true,
         "type": "scatter",
         "x": [
          1165.824407244004
         ],
         "xaxis": "x",
         "y": [
          67.8
         ],
         "yaxis": "y"
        },
        {
         "hovertemplate": "Entity=Seychelles<br>gdp_per_capita=%{x}<br>Life expectancy=%{y}<extra></extra>",
         "legendgroup": "Seychelles",
         "marker": {
          "color": "#636efa",
          "symbol": "circle"
         },
         "mode": "markers",
         "name": "Seychelles",
         "orientation": "v",
         "showlegend": true,
         "type": "scatter",
         "x": [
          13974.193431753958
         ],
         "xaxis": "x",
         "y": [
          73.8
         ],
         "yaxis": "y"
        },
        {
         "hovertemplate": "Entity=Sierra Leone<br>gdp_per_capita=%{x}<br>Life expectancy=%{y}<extra></extra>",
         "legendgroup": "Sierra Leone",
         "marker": {
          "color": "#EF553B",
          "symbol": "circle"
         },
         "mode": "markers",
         "name": "Sierra Leone",
         "orientation": "v",
         "showlegend": true,
         "type": "scatter",
         "x": [
          466.7321194998571
         ],
         "xaxis": "x",
         "y": [
          58.7
         ],
         "yaxis": "y"
        },
        {
         "hovertemplate": "Entity=Singapore<br>gdp_per_capita=%{x}<br>Life expectancy=%{y}<extra></extra>",
         "legendgroup": "Singapore",
         "marker": {
          "color": "#00cc96",
          "symbol": "circle"
         },
         "mode": "markers",
         "name": "Singapore",
         "orientation": "v",
         "showlegend": true,
         "type": "scatter",
         "x": [
          54308.982638511385
         ],
         "xaxis": "x",
         "y": [
          83.2
         ],
         "yaxis": "y"
        },
        {
         "hovertemplate": "Entity=South Africa<br>gdp_per_capita=%{x}<br>Life expectancy=%{y}<extra></extra>",
         "legendgroup": "South Africa",
         "marker": {
          "color": "#ab63fa",
          "symbol": "circle"
         },
         "mode": "markers",
         "name": "South Africa",
         "orientation": "v",
         "showlegend": true,
         "type": "scatter",
         "x": [
          7485.8599310439395
         ],
         "xaxis": "x",
         "y": [
          65.4
         ],
         "yaxis": "y"
        },
        {
         "hovertemplate": "Entity=South Korea<br>gdp_per_capita=%{x}<br>Life expectancy=%{y}<extra></extra>",
         "legendgroup": "South Korea",
         "marker": {
          "color": "#FFA15A",
          "symbol": "circle"
         },
         "mode": "markers",
         "name": "South Korea",
         "orientation": "v",
         "showlegend": true,
         "type": "scatter",
         "x": [
          26341.50760170933
         ],
         "xaxis": "x",
         "y": [
          83.3
         ],
         "yaxis": "y"
        },
        {
         "hovertemplate": "Entity=Spain<br>gdp_per_capita=%{x}<br>Life expectancy=%{y}<extra></extra>",
         "legendgroup": "Spain",
         "marker": {
          "color": "#19d3f3",
          "symbol": "circle"
         },
         "mode": "markers",
         "name": "Spain",
         "orientation": "v",
         "showlegend": true,
         "type": "scatter",
         "x": [
          32353.667637547966
         ],
         "xaxis": "x",
         "y": [
          83
         ],
         "yaxis": "y"
        },
        {
         "hovertemplate": "Entity=Sudan<br>gdp_per_capita=%{x}<br>Life expectancy=%{y}<extra></extra>",
         "legendgroup": "Sudan",
         "marker": {
          "color": "#FF6692",
          "symbol": "circle"
         },
         "mode": "markers",
         "name": "Sudan",
         "orientation": "v",
         "showlegend": true,
         "type": "scatter",
         "x": [
          1945.7284749482765
         ],
         "xaxis": "x",
         "y": [
          65.4
         ],
         "yaxis": "y"
        },
        {
         "hovertemplate": "Entity=Sweden<br>gdp_per_capita=%{x}<br>Life expectancy=%{y}<extra></extra>",
         "legendgroup": "Sweden",
         "marker": {
          "color": "#B6E880",
          "symbol": "circle"
         },
         "mode": "markers",
         "name": "Sweden",
         "orientation": "v",
         "showlegend": true,
         "type": "scatter",
         "x": [
          57870.66129200807
         ],
         "xaxis": "x",
         "y": [
          82.4
         ],
         "yaxis": "y"
        },
        {
         "hovertemplate": "Entity=Thailand<br>gdp_per_capita=%{x}<br>Life expectancy=%{y}<extra></extra>",
         "legendgroup": "Thailand",
         "marker": {
          "color": "#FF97FF",
          "symbol": "circle"
         },
         "mode": "markers",
         "name": "Thailand",
         "orientation": "v",
         "showlegend": true,
         "type": "scatter",
         "x": [
          6110.393755646091
         ],
         "xaxis": "x",
         "y": [
          78.4
         ],
         "yaxis": "y"
        },
        {
         "hovertemplate": "Entity=Togo<br>gdp_per_capita=%{x}<br>Life expectancy=%{y}<extra></extra>",
         "legendgroup": "Togo",
         "marker": {
          "color": "#FECB52",
          "symbol": "circle"
         },
         "mode": "markers",
         "name": "Togo",
         "orientation": "v",
         "showlegend": true,
         "type": "scatter",
         "x": [
          584.8597238590712
         ],
         "xaxis": "x",
         "y": [
          60.2
         ],
         "yaxis": "y"
        },
        {
         "hovertemplate": "Entity=Trinidad and Tobago<br>gdp_per_capita=%{x}<br>Life expectancy=%{y}<extra></extra>",
         "legendgroup": "Trinidad and Tobago",
         "marker": {
          "color": "#636efa",
          "symbol": "circle"
         },
         "mode": "markers",
         "name": "Trinidad and Tobago",
         "orientation": "v",
         "showlegend": true,
         "type": "scatter",
         "x": [
          15185.862214853612
         ],
         "xaxis": "x",
         "y": [
          74.2
         ],
         "yaxis": "y"
        },
        {
         "hovertemplate": "Entity=Turkey<br>gdp_per_capita=%{x}<br>Life expectancy=%{y}<extra></extra>",
         "legendgroup": "Turkey",
         "marker": {
          "color": "#EF553B",
          "symbol": "circle"
         },
         "mode": "markers",
         "name": "Turkey",
         "orientation": "v",
         "showlegend": true,
         "type": "scatter",
         "x": [
          14864.968662745698
         ],
         "xaxis": "x",
         "y": [
          77.1
         ],
         "yaxis": "y"
        },
        {
         "hovertemplate": "Entity=United Kingdom<br>gdp_per_capita=%{x}<br>Life expectancy=%{y}<extra></extra>",
         "legendgroup": "United Kingdom",
         "marker": {
          "color": "#00cc96",
          "symbol": "circle"
         },
         "mode": "markers",
         "name": "United Kingdom",
         "orientation": "v",
         "showlegend": true,
         "type": "scatter",
         "x": [
          42065.47719657815
         ],
         "xaxis": "x",
         "y": [
          81.2
         ],
         "yaxis": "y"
        },
        {
         "hovertemplate": "Entity=United States<br>gdp_per_capita=%{x}<br>Life expectancy=%{y}<extra></extra>",
         "legendgroup": "United States",
         "marker": {
          "color": "#ab63fa",
          "symbol": "circle"
         },
         "mode": "markers",
         "name": "United States",
         "orientation": "v",
         "showlegend": true,
         "type": "scatter",
         "x": [
          53232.18452176347
         ],
         "xaxis": "x",
         "y": [
          78.8
         ],
         "yaxis": "y"
        },
        {
         "hovertemplate": "Entity=Uruguay<br>gdp_per_capita=%{x}<br>Life expectancy=%{y}<extra></extra>",
         "legendgroup": "Uruguay",
         "marker": {
          "color": "#FFA15A",
          "symbol": "circle"
         },
         "mode": "markers",
         "name": "Uruguay",
         "orientation": "v",
         "showlegend": true,
         "type": "scatter",
         "x": [
          14445.09266111056
         ],
         "xaxis": "x",
         "y": [
          77.6
         ],
         "yaxis": "y"
        },
        {
         "hovertemplate": "Entity=Zambia<br>gdp_per_capita=%{x}<br>Life expectancy=%{y}<extra></extra>",
         "legendgroup": "Zambia",
         "marker": {
          "color": "#19d3f3",
          "symbol": "circle"
         },
         "mode": "markers",
         "name": "Zambia",
         "orientation": "v",
         "showlegend": true,
         "type": "scatter",
         "x": [
          1669.5975269283852
         ],
         "xaxis": "x",
         "y": [
          62.1
         ],
         "yaxis": "y"
        },
        {
         "hovertemplate": "Entity=Zimbabwe<br>gdp_per_capita=%{x}<br>Life expectancy=%{y}<extra></extra>",
         "legendgroup": "Zimbabwe",
         "marker": {
          "color": "#FF6692",
          "symbol": "circle"
         },
         "mode": "markers",
         "name": "Zimbabwe",
         "orientation": "v",
         "showlegend": true,
         "type": "scatter",
         "x": [
          1076.7585014988622
         ],
         "xaxis": "x",
         "y": [
          60.7
         ],
         "yaxis": "y"
        }
       ],
       "layout": {
        "legend": {
         "title": {
          "text": "Entity"
         },
         "tracegroupgap": 0
        },
        "margin": {
         "t": 60
        },
        "template": {
         "data": {
          "bar": [
           {
            "error_x": {
             "color": "#2a3f5f"
            },
            "error_y": {
             "color": "#2a3f5f"
            },
            "marker": {
             "line": {
              "color": "#E5ECF6",
              "width": 0.5
             },
             "pattern": {
              "fillmode": "overlay",
              "size": 10,
              "solidity": 0.2
             }
            },
            "type": "bar"
           }
          ],
          "barpolar": [
           {
            "marker": {
             "line": {
              "color": "#E5ECF6",
              "width": 0.5
             },
             "pattern": {
              "fillmode": "overlay",
              "size": 10,
              "solidity": 0.2
             }
            },
            "type": "barpolar"
           }
          ],
          "carpet": [
           {
            "aaxis": {
             "endlinecolor": "#2a3f5f",
             "gridcolor": "white",
             "linecolor": "white",
             "minorgridcolor": "white",
             "startlinecolor": "#2a3f5f"
            },
            "baxis": {
             "endlinecolor": "#2a3f5f",
             "gridcolor": "white",
             "linecolor": "white",
             "minorgridcolor": "white",
             "startlinecolor": "#2a3f5f"
            },
            "type": "carpet"
           }
          ],
          "choropleth": [
           {
            "colorbar": {
             "outlinewidth": 0,
             "ticks": ""
            },
            "type": "choropleth"
           }
          ],
          "contour": [
           {
            "colorbar": {
             "outlinewidth": 0,
             "ticks": ""
            },
            "colorscale": [
             [
              0,
              "#0d0887"
             ],
             [
              0.1111111111111111,
              "#46039f"
             ],
             [
              0.2222222222222222,
              "#7201a8"
             ],
             [
              0.3333333333333333,
              "#9c179e"
             ],
             [
              0.4444444444444444,
              "#bd3786"
             ],
             [
              0.5555555555555556,
              "#d8576b"
             ],
             [
              0.6666666666666666,
              "#ed7953"
             ],
             [
              0.7777777777777778,
              "#fb9f3a"
             ],
             [
              0.8888888888888888,
              "#fdca26"
             ],
             [
              1,
              "#f0f921"
             ]
            ],
            "type": "contour"
           }
          ],
          "contourcarpet": [
           {
            "colorbar": {
             "outlinewidth": 0,
             "ticks": ""
            },
            "type": "contourcarpet"
           }
          ],
          "heatmap": [
           {
            "colorbar": {
             "outlinewidth": 0,
             "ticks": ""
            },
            "colorscale": [
             [
              0,
              "#0d0887"
             ],
             [
              0.1111111111111111,
              "#46039f"
             ],
             [
              0.2222222222222222,
              "#7201a8"
             ],
             [
              0.3333333333333333,
              "#9c179e"
             ],
             [
              0.4444444444444444,
              "#bd3786"
             ],
             [
              0.5555555555555556,
              "#d8576b"
             ],
             [
              0.6666666666666666,
              "#ed7953"
             ],
             [
              0.7777777777777778,
              "#fb9f3a"
             ],
             [
              0.8888888888888888,
              "#fdca26"
             ],
             [
              1,
              "#f0f921"
             ]
            ],
            "type": "heatmap"
           }
          ],
          "heatmapgl": [
           {
            "colorbar": {
             "outlinewidth": 0,
             "ticks": ""
            },
            "colorscale": [
             [
              0,
              "#0d0887"
             ],
             [
              0.1111111111111111,
              "#46039f"
             ],
             [
              0.2222222222222222,
              "#7201a8"
             ],
             [
              0.3333333333333333,
              "#9c179e"
             ],
             [
              0.4444444444444444,
              "#bd3786"
             ],
             [
              0.5555555555555556,
              "#d8576b"
             ],
             [
              0.6666666666666666,
              "#ed7953"
             ],
             [
              0.7777777777777778,
              "#fb9f3a"
             ],
             [
              0.8888888888888888,
              "#fdca26"
             ],
             [
              1,
              "#f0f921"
             ]
            ],
            "type": "heatmapgl"
           }
          ],
          "histogram": [
           {
            "marker": {
             "pattern": {
              "fillmode": "overlay",
              "size": 10,
              "solidity": 0.2
             }
            },
            "type": "histogram"
           }
          ],
          "histogram2d": [
           {
            "colorbar": {
             "outlinewidth": 0,
             "ticks": ""
            },
            "colorscale": [
             [
              0,
              "#0d0887"
             ],
             [
              0.1111111111111111,
              "#46039f"
             ],
             [
              0.2222222222222222,
              "#7201a8"
             ],
             [
              0.3333333333333333,
              "#9c179e"
             ],
             [
              0.4444444444444444,
              "#bd3786"
             ],
             [
              0.5555555555555556,
              "#d8576b"
             ],
             [
              0.6666666666666666,
              "#ed7953"
             ],
             [
              0.7777777777777778,
              "#fb9f3a"
             ],
             [
              0.8888888888888888,
              "#fdca26"
             ],
             [
              1,
              "#f0f921"
             ]
            ],
            "type": "histogram2d"
           }
          ],
          "histogram2dcontour": [
           {
            "colorbar": {
             "outlinewidth": 0,
             "ticks": ""
            },
            "colorscale": [
             [
              0,
              "#0d0887"
             ],
             [
              0.1111111111111111,
              "#46039f"
             ],
             [
              0.2222222222222222,
              "#7201a8"
             ],
             [
              0.3333333333333333,
              "#9c179e"
             ],
             [
              0.4444444444444444,
              "#bd3786"
             ],
             [
              0.5555555555555556,
              "#d8576b"
             ],
             [
              0.6666666666666666,
              "#ed7953"
             ],
             [
              0.7777777777777778,
              "#fb9f3a"
             ],
             [
              0.8888888888888888,
              "#fdca26"
             ],
             [
              1,
              "#f0f921"
             ]
            ],
            "type": "histogram2dcontour"
           }
          ],
          "mesh3d": [
           {
            "colorbar": {
             "outlinewidth": 0,
             "ticks": ""
            },
            "type": "mesh3d"
           }
          ],
          "parcoords": [
           {
            "line": {
             "colorbar": {
              "outlinewidth": 0,
              "ticks": ""
             }
            },
            "type": "parcoords"
           }
          ],
          "pie": [
           {
            "automargin": true,
            "type": "pie"
           }
          ],
          "scatter": [
           {
            "fillpattern": {
             "fillmode": "overlay",
             "size": 10,
             "solidity": 0.2
            },
            "type": "scatter"
           }
          ],
          "scatter3d": [
           {
            "line": {
             "colorbar": {
              "outlinewidth": 0,
              "ticks": ""
             }
            },
            "marker": {
             "colorbar": {
              "outlinewidth": 0,
              "ticks": ""
             }
            },
            "type": "scatter3d"
           }
          ],
          "scattercarpet": [
           {
            "marker": {
             "colorbar": {
              "outlinewidth": 0,
              "ticks": ""
             }
            },
            "type": "scattercarpet"
           }
          ],
          "scattergeo": [
           {
            "marker": {
             "colorbar": {
              "outlinewidth": 0,
              "ticks": ""
             }
            },
            "type": "scattergeo"
           }
          ],
          "scattergl": [
           {
            "marker": {
             "colorbar": {
              "outlinewidth": 0,
              "ticks": ""
             }
            },
            "type": "scattergl"
           }
          ],
          "scattermapbox": [
           {
            "marker": {
             "colorbar": {
              "outlinewidth": 0,
              "ticks": ""
             }
            },
            "type": "scattermapbox"
           }
          ],
          "scatterpolar": [
           {
            "marker": {
             "colorbar": {
              "outlinewidth": 0,
              "ticks": ""
             }
            },
            "type": "scatterpolar"
           }
          ],
          "scatterpolargl": [
           {
            "marker": {
             "colorbar": {
              "outlinewidth": 0,
              "ticks": ""
             }
            },
            "type": "scatterpolargl"
           }
          ],
          "scatterternary": [
           {
            "marker": {
             "colorbar": {
              "outlinewidth": 0,
              "ticks": ""
             }
            },
            "type": "scatterternary"
           }
          ],
          "surface": [
           {
            "colorbar": {
             "outlinewidth": 0,
             "ticks": ""
            },
            "colorscale": [
             [
              0,
              "#0d0887"
             ],
             [
              0.1111111111111111,
              "#46039f"
             ],
             [
              0.2222222222222222,
              "#7201a8"
             ],
             [
              0.3333333333333333,
              "#9c179e"
             ],
             [
              0.4444444444444444,
              "#bd3786"
             ],
             [
              0.5555555555555556,
              "#d8576b"
             ],
             [
              0.6666666666666666,
              "#ed7953"
             ],
             [
              0.7777777777777778,
              "#fb9f3a"
             ],
             [
              0.8888888888888888,
              "#fdca26"
             ],
             [
              1,
              "#f0f921"
             ]
            ],
            "type": "surface"
           }
          ],
          "table": [
           {
            "cells": {
             "fill": {
              "color": "#EBF0F8"
             },
             "line": {
              "color": "white"
             }
            },
            "header": {
             "fill": {
              "color": "#C8D4E3"
             },
             "line": {
              "color": "white"
             }
            },
            "type": "table"
           }
          ]
         },
         "layout": {
          "annotationdefaults": {
           "arrowcolor": "#2a3f5f",
           "arrowhead": 0,
           "arrowwidth": 1
          },
          "autotypenumbers": "strict",
          "coloraxis": {
           "colorbar": {
            "outlinewidth": 0,
            "ticks": ""
           }
          },
          "colorscale": {
           "diverging": [
            [
             0,
             "#8e0152"
            ],
            [
             0.1,
             "#c51b7d"
            ],
            [
             0.2,
             "#de77ae"
            ],
            [
             0.3,
             "#f1b6da"
            ],
            [
             0.4,
             "#fde0ef"
            ],
            [
             0.5,
             "#f7f7f7"
            ],
            [
             0.6,
             "#e6f5d0"
            ],
            [
             0.7,
             "#b8e186"
            ],
            [
             0.8,
             "#7fbc41"
            ],
            [
             0.9,
             "#4d9221"
            ],
            [
             1,
             "#276419"
            ]
           ],
           "sequential": [
            [
             0,
             "#0d0887"
            ],
            [
             0.1111111111111111,
             "#46039f"
            ],
            [
             0.2222222222222222,
             "#7201a8"
            ],
            [
             0.3333333333333333,
             "#9c179e"
            ],
            [
             0.4444444444444444,
             "#bd3786"
            ],
            [
             0.5555555555555556,
             "#d8576b"
            ],
            [
             0.6666666666666666,
             "#ed7953"
            ],
            [
             0.7777777777777778,
             "#fb9f3a"
            ],
            [
             0.8888888888888888,
             "#fdca26"
            ],
            [
             1,
             "#f0f921"
            ]
           ],
           "sequentialminus": [
            [
             0,
             "#0d0887"
            ],
            [
             0.1111111111111111,
             "#46039f"
            ],
            [
             0.2222222222222222,
             "#7201a8"
            ],
            [
             0.3333333333333333,
             "#9c179e"
            ],
            [
             0.4444444444444444,
             "#bd3786"
            ],
            [
             0.5555555555555556,
             "#d8576b"
            ],
            [
             0.6666666666666666,
             "#ed7953"
            ],
            [
             0.7777777777777778,
             "#fb9f3a"
            ],
            [
             0.8888888888888888,
             "#fdca26"
            ],
            [
             1,
             "#f0f921"
            ]
           ]
          },
          "colorway": [
           "#636efa",
           "#EF553B",
           "#00cc96",
           "#ab63fa",
           "#FFA15A",
           "#19d3f3",
           "#FF6692",
           "#B6E880",
           "#FF97FF",
           "#FECB52"
          ],
          "font": {
           "color": "#2a3f5f"
          },
          "geo": {
           "bgcolor": "white",
           "lakecolor": "white",
           "landcolor": "#E5ECF6",
           "showlakes": true,
           "showland": true,
           "subunitcolor": "white"
          },
          "hoverlabel": {
           "align": "left"
          },
          "hovermode": "closest",
          "mapbox": {
           "style": "light"
          },
          "paper_bgcolor": "white",
          "plot_bgcolor": "#E5ECF6",
          "polar": {
           "angularaxis": {
            "gridcolor": "white",
            "linecolor": "white",
            "ticks": ""
           },
           "bgcolor": "#E5ECF6",
           "radialaxis": {
            "gridcolor": "white",
            "linecolor": "white",
            "ticks": ""
           }
          },
          "scene": {
           "xaxis": {
            "backgroundcolor": "#E5ECF6",
            "gridcolor": "white",
            "gridwidth": 2,
            "linecolor": "white",
            "showbackground": true,
            "ticks": "",
            "zerolinecolor": "white"
           },
           "yaxis": {
            "backgroundcolor": "#E5ECF6",
            "gridcolor": "white",
            "gridwidth": 2,
            "linecolor": "white",
            "showbackground": true,
            "ticks": "",
            "zerolinecolor": "white"
           },
           "zaxis": {
            "backgroundcolor": "#E5ECF6",
            "gridcolor": "white",
            "gridwidth": 2,
            "linecolor": "white",
            "showbackground": true,
            "ticks": "",
            "zerolinecolor": "white"
           }
          },
          "shapedefaults": {
           "line": {
            "color": "#2a3f5f"
           }
          },
          "ternary": {
           "aaxis": {
            "gridcolor": "white",
            "linecolor": "white",
            "ticks": ""
           },
           "baxis": {
            "gridcolor": "white",
            "linecolor": "white",
            "ticks": ""
           },
           "bgcolor": "#E5ECF6",
           "caxis": {
            "gridcolor": "white",
            "linecolor": "white",
            "ticks": ""
           }
          },
          "title": {
           "x": 0.05
          },
          "xaxis": {
           "automargin": true,
           "gridcolor": "white",
           "linecolor": "white",
           "ticks": "",
           "title": {
            "standoff": 15
           },
           "zerolinecolor": "white",
           "zerolinewidth": 2
          },
          "yaxis": {
           "automargin": true,
           "gridcolor": "white",
           "linecolor": "white",
           "ticks": "",
           "title": {
            "standoff": 15
           },
           "zerolinecolor": "white",
           "zerolinewidth": 2
          }
         }
        },
        "xaxis": {
         "anchor": "y",
         "domain": [
          0,
          1
         ],
         "title": {
          "text": "gdp_per_capita"
         }
        },
        "yaxis": {
         "anchor": "x",
         "domain": [
          0,
          1
         ],
         "title": {
          "text": "Life expectancy"
         }
        }
       }
      },
      "text/html": [
       "<div>                            <div id=\"cff5bef1-47bf-46e5-a426-493409f74301\" class=\"plotly-graph-div\" style=\"height:525px; width:100%;\"></div>            <script type=\"text/javascript\">                require([\"plotly\"], function(Plotly) {                    window.PLOTLYENV=window.PLOTLYENV || {};                                    if (document.getElementById(\"cff5bef1-47bf-46e5-a426-493409f74301\")) {                    Plotly.newPlot(                        \"cff5bef1-47bf-46e5-a426-493409f74301\",                        [{\"hovertemplate\":\"Entity=Algeria<br>gdp_per_capita=%{x}<br>Life expectancy=%{y}<extra></extra>\",\"legendgroup\":\"Algeria\",\"marker\":{\"color\":\"#636efa\",\"symbol\":\"circle\"},\"mode\":\"markers\",\"name\":\"Algeria\",\"orientation\":\"v\",\"showlegend\":true,\"x\":[4816.917875943996],\"xaxis\":\"x\",\"y\":[75.7],\"yaxis\":\"y\",\"type\":\"scatter\"},{\"hovertemplate\":\"Entity=Argentina<br>gdp_per_capita=%{x}<br>Life expectancy=%{y}<extra></extra>\",\"legendgroup\":\"Argentina\",\"marker\":{\"color\":\"#EF553B\",\"symbol\":\"circle\"},\"mode\":\"markers\",\"name\":\"Argentina\",\"orientation\":\"v\",\"showlegend\":true,\"x\":[10477.146319354326],\"xaxis\":\"x\",\"y\":[76.8],\"yaxis\":\"y\",\"type\":\"scatter\"},{\"hovertemplate\":\"Entity=Australia<br>gdp_per_capita=%{x}<br>Life expectancy=%{y}<extra></extra>\",\"legendgroup\":\"Australia\",\"marker\":{\"color\":\"#00cc96\",\"symbol\":\"circle\"},\"mode\":\"markers\",\"name\":\"Australia\",\"orientation\":\"v\",\"showlegend\":true,\"x\":[55957.626590364045],\"xaxis\":\"x\",\"y\":[83.0],\"yaxis\":\"y\",\"type\":\"scatter\"},{\"hovertemplate\":\"Entity=Austria<br>gdp_per_capita=%{x}<br>Life expectancy=%{y}<extra></extra>\",\"legendgroup\":\"Austria\",\"marker\":{\"color\":\"#ab63fa\",\"symbol\":\"circle\"},\"mode\":\"markers\",\"name\":\"Austria\",\"orientation\":\"v\",\"showlegend\":true,\"x\":[49069.142261829365],\"xaxis\":\"x\",\"y\":[81.6],\"yaxis\":\"y\",\"type\":\"scatter\"},{\"hovertemplate\":\"Entity=Bahamas<br>gdp_per_capita=%{x}<br>Life expectancy=%{y}<extra></extra>\",\"legendgroup\":\"Bahamas\",\"marker\":{\"color\":\"#FFA15A\",\"symbol\":\"circle\"},\"mode\":\"markers\",\"name\":\"Bahamas\",\"orientation\":\"v\",\"showlegend\":true,\"x\":[27467.183467529583],\"xaxis\":\"x\",\"y\":[73.6],\"yaxis\":\"y\",\"type\":\"scatter\"},{\"hovertemplate\":\"Entity=Bangladesh<br>gdp_per_capita=%{x}<br>Life expectancy=%{y}<extra></extra>\",\"legendgroup\":\"Bangladesh\",\"marker\":{\"color\":\"#19d3f3\",\"symbol\":\"circle\"},\"mode\":\"markers\",\"name\":\"Bangladesh\",\"orientation\":\"v\",\"showlegend\":true,\"x\":[1127.1701207960982],\"xaxis\":\"x\",\"y\":[71.8],\"yaxis\":\"y\",\"type\":\"scatter\"},{\"hovertemplate\":\"Entity=Belgium<br>gdp_per_capita=%{x}<br>Life expectancy=%{y}<extra></extra>\",\"legendgroup\":\"Belgium\",\"marker\":{\"color\":\"#FF6692\",\"symbol\":\"circle\"},\"mode\":\"markers\",\"name\":\"Belgium\",\"orientation\":\"v\",\"showlegend\":true,\"x\":[45885.52670298003],\"xaxis\":\"x\",\"y\":[81.4],\"yaxis\":\"y\",\"type\":\"scatter\"},{\"hovertemplate\":\"Entity=Belize<br>gdp_per_capita=%{x}<br>Life expectancy=%{y}<extra></extra>\",\"legendgroup\":\"Belize\",\"marker\":{\"color\":\"#B6E880\",\"symbol\":\"circle\"},\"mode\":\"markers\",\"name\":\"Belize\",\"orientation\":\"v\",\"showlegend\":true,\"x\":[4300.087271401622],\"xaxis\":\"x\",\"y\":[73.6],\"yaxis\":\"y\",\"type\":\"scatter\"},{\"hovertemplate\":\"Entity=Benin<br>gdp_per_capita=%{x}<br>Life expectancy=%{y}<extra></extra>\",\"legendgroup\":\"Benin\",\"marker\":{\"color\":\"#FF97FF\",\"symbol\":\"circle\"},\"mode\":\"markers\",\"name\":\"Benin\",\"orientation\":\"v\",\"showlegend\":true,\"x\":[860.0059374439847],\"xaxis\":\"x\",\"y\":[59.9],\"yaxis\":\"y\",\"type\":\"scatter\"},{\"hovertemplate\":\"Entity=Bolivia<br>gdp_per_capita=%{x}<br>Life expectancy=%{y}<extra></extra>\",\"legendgroup\":\"Bolivia\",\"marker\":{\"color\":\"#FECB52\",\"symbol\":\"circle\"},\"mode\":\"markers\",\"name\":\"Bolivia\",\"orientation\":\"v\",\"showlegend\":true,\"x\":[2490.9237281358346],\"xaxis\":\"x\",\"y\":[67.7],\"yaxis\":\"y\",\"type\":\"scatter\"},{\"hovertemplate\":\"Entity=Botswana<br>gdp_per_capita=%{x}<br>Life expectancy=%{y}<extra></extra>\",\"legendgroup\":\"Botswana\",\"marker\":{\"color\":\"#636efa\",\"symbol\":\"circle\"},\"mode\":\"markers\",\"name\":\"Botswana\",\"orientation\":\"v\",\"showlegend\":true,\"x\":[7818.89407485687],\"xaxis\":\"x\",\"y\":[66.8],\"yaxis\":\"y\",\"type\":\"scatter\"},{\"hovertemplate\":\"Entity=Brazil<br>gdp_per_capita=%{x}<br>Life expectancy=%{y}<extra></extra>\",\"legendgroup\":\"Brazil\",\"marker\":{\"color\":\"#EF553B\",\"symbol\":\"circle\"},\"mode\":\"markers\",\"name\":\"Brazil\",\"orientation\":\"v\",\"showlegend\":true,\"x\":[10965.175921972874],\"xaxis\":\"x\",\"y\":[74.8],\"yaxis\":\"y\",\"type\":\"scatter\"},{\"hovertemplate\":\"Entity=Burkina Faso<br>gdp_per_capita=%{x}<br>Life expectancy=%{y}<extra></extra>\",\"legendgroup\":\"Burkina Faso\",\"marker\":{\"color\":\"#00cc96\",\"symbol\":\"circle\"},\"mode\":\"markers\",\"name\":\"Burkina Faso\",\"orientation\":\"v\",\"showlegend\":true,\"x\":[688.5475953218569],\"xaxis\":\"x\",\"y\":[59.5],\"yaxis\":\"y\",\"type\":\"scatter\"},{\"hovertemplate\":\"Entity=Burundi<br>gdp_per_capita=%{x}<br>Life expectancy=%{y}<extra></extra>\",\"legendgroup\":\"Burundi\",\"marker\":{\"color\":\"#ab63fa\",\"symbol\":\"circle\"},\"mode\":\"markers\",\"name\":\"Burundi\",\"orientation\":\"v\",\"showlegend\":true,\"x\":[213.27858761188048],\"xaxis\":\"x\",\"y\":[61.6],\"yaxis\":\"y\",\"type\":\"scatter\"},{\"hovertemplate\":\"Entity=Cameroon<br>gdp_per_capita=%{x}<br>Life expectancy=%{y}<extra></extra>\",\"legendgroup\":\"Cameroon\",\"marker\":{\"color\":\"#FFA15A\",\"symbol\":\"circle\"},\"mode\":\"markers\",\"name\":\"Cameroon\",\"orientation\":\"v\",\"showlegend\":true,\"x\":[1472.181498185256],\"xaxis\":\"x\",\"y\":[60.8],\"yaxis\":\"y\",\"type\":\"scatter\"},{\"hovertemplate\":\"Entity=Canada<br>gdp_per_capita=%{x}<br>Life expectancy=%{y}<extra></extra>\",\"legendgroup\":\"Canada\",\"marker\":{\"color\":\"#19d3f3\",\"symbol\":\"circle\"},\"mode\":\"markers\",\"name\":\"Canada\",\"orientation\":\"v\",\"showlegend\":true,\"x\":[51282.4760892625],\"xaxis\":\"x\",\"y\":[82.0],\"yaxis\":\"y\",\"type\":\"scatter\"},{\"hovertemplate\":\"Entity=Central African Republic<br>gdp_per_capita=%{x}<br>Life expectancy=%{y}<extra></extra>\",\"legendgroup\":\"Central African Republic\",\"marker\":{\"color\":\"#FF6692\",\"symbol\":\"circle\"},\"mode\":\"markers\",\"name\":\"Central African Republic\",\"orientation\":\"v\",\"showlegend\":true,\"x\":[339.62431132785247],\"xaxis\":\"x\",\"y\":[53.7],\"yaxis\":\"y\",\"type\":\"scatter\"},{\"hovertemplate\":\"Entity=Chad<br>gdp_per_capita=%{x}<br>Life expectancy=%{y}<extra></extra>\",\"legendgroup\":\"Chad\",\"marker\":{\"color\":\"#B6E880\",\"symbol\":\"circle\"},\"mode\":\"markers\",\"name\":\"Chad\",\"orientation\":\"v\",\"showlegend\":true,\"x\":[817.0190414555237],\"xaxis\":\"x\",\"y\":[52.3],\"yaxis\":\"y\",\"type\":\"scatter\"},{\"hovertemplate\":\"Entity=Chile<br>gdp_per_capita=%{x}<br>Life expectancy=%{y}<extra></extra>\",\"legendgroup\":\"Chile\",\"marker\":{\"color\":\"#FF97FF\",\"symbol\":\"circle\"},\"mode\":\"markers\",\"name\":\"Chile\",\"orientation\":\"v\",\"showlegend\":true,\"x\":[14720.936133199892],\"xaxis\":\"x\",\"y\":[80.4],\"yaxis\":\"y\",\"type\":\"scatter\"},{\"hovertemplate\":\"Entity=China<br>gdp_per_capita=%{x}<br>Life expectancy=%{y}<extra></extra>\",\"legendgroup\":\"China\",\"marker\":{\"color\":\"#FECB52\",\"symbol\":\"circle\"},\"mode\":\"markers\",\"name\":\"China\",\"orientation\":\"v\",\"showlegend\":true,\"x\":[7150.496686254078],\"xaxis\":\"x\",\"y\":[77.2],\"yaxis\":\"y\",\"type\":\"scatter\"},{\"hovertemplate\":\"Entity=Colombia<br>gdp_per_capita=%{x}<br>Life expectancy=%{y}<extra></extra>\",\"legendgroup\":\"Colombia\",\"marker\":{\"color\":\"#636efa\",\"symbol\":\"circle\"},\"mode\":\"markers\",\"name\":\"Colombia\",\"orientation\":\"v\",\"showlegend\":true,\"x\":[7624.942176500532],\"xaxis\":\"x\",\"y\":[76.6],\"yaxis\":\"y\",\"type\":\"scatter\"},{\"hovertemplate\":\"Entity=Congo<br>gdp_per_capita=%{x}<br>Life expectancy=%{y}<extra></extra>\",\"legendgroup\":\"Congo\",\"marker\":{\"color\":\"#EF553B\",\"symbol\":\"circle\"},\"mode\":\"markers\",\"name\":\"Congo\",\"orientation\":\"v\",\"showlegend\":true,\"x\":[2651.883363736803],\"xaxis\":\"x\",\"y\":[63.8],\"yaxis\":\"y\",\"type\":\"scatter\"},{\"hovertemplate\":\"Entity=Costa Rica<br>gdp_per_capita=%{x}<br>Life expectancy=%{y}<extra></extra>\",\"legendgroup\":\"Costa Rica\",\"marker\":{\"color\":\"#00cc96\",\"symbol\":\"circle\"},\"mode\":\"markers\",\"name\":\"Costa Rica\",\"orientation\":\"v\",\"showlegend\":true,\"x\":[9704.498759439171],\"xaxis\":\"x\",\"y\":[79.4],\"yaxis\":\"y\",\"type\":\"scatter\"},{\"hovertemplate\":\"Entity=Cote d'Ivoire<br>gdp_per_capita=%{x}<br>Life expectancy=%{y}<extra></extra>\",\"legendgroup\":\"Cote d'Ivoire\",\"marker\":{\"color\":\"#ab63fa\",\"symbol\":\"circle\"},\"mode\":\"markers\",\"name\":\"Cote d'Ivoire\",\"orientation\":\"v\",\"showlegend\":true,\"x\":[1623.1735290278593],\"xaxis\":\"x\",\"y\":[58.5],\"yaxis\":\"y\",\"type\":\"scatter\"},{\"hovertemplate\":\"Entity=Democratic Republic of Congo<br>gdp_per_capita=%{x}<br>Life expectancy=%{y}<extra></extra>\",\"legendgroup\":\"Democratic Republic of Congo\",\"marker\":{\"color\":\"#FFA15A\",\"symbol\":\"circle\"},\"mode\":\"markers\",\"name\":\"Democratic Republic of Congo\",\"orientation\":\"v\",\"showlegend\":true,\"x\":[408.82077087232886],\"xaxis\":\"x\",\"y\":[59.4],\"yaxis\":\"y\",\"type\":\"scatter\"},{\"hovertemplate\":\"Entity=Denmark<br>gdp_per_capita=%{x}<br>Life expectancy=%{y}<extra></extra>\",\"legendgroup\":\"Denmark\",\"marker\":{\"color\":\"#19d3f3\",\"symbol\":\"circle\"},\"mode\":\"markers\",\"name\":\"Denmark\",\"orientation\":\"v\",\"showlegend\":true,\"x\":[61986.156681440334],\"xaxis\":\"x\",\"y\":[81.1],\"yaxis\":\"y\",\"type\":\"scatter\"},{\"hovertemplate\":\"Entity=Dominican Republic<br>gdp_per_capita=%{x}<br>Life expectancy=%{y}<extra></extra>\",\"legendgroup\":\"Dominican Republic\",\"marker\":{\"color\":\"#FF6692\",\"symbol\":\"circle\"},\"mode\":\"markers\",\"name\":\"Dominican Republic\",\"orientation\":\"v\",\"showlegend\":true,\"x\":[7325.899767129582],\"xaxis\":\"x\",\"y\":[73.1],\"yaxis\":\"y\",\"type\":\"scatter\"},{\"hovertemplate\":\"Entity=Ecuador<br>gdp_per_capita=%{x}<br>Life expectancy=%{y}<extra></extra>\",\"legendgroup\":\"Ecuador\",\"marker\":{\"color\":\"#B6E880\",\"symbol\":\"circle\"},\"mode\":\"markers\",\"name\":\"Ecuador\",\"orientation\":\"v\",\"showlegend\":true,\"x\":[5219.341306051099],\"xaxis\":\"x\",\"y\":[77.0],\"yaxis\":\"y\",\"type\":\"scatter\"},{\"hovertemplate\":\"Entity=Egypt<br>gdp_per_capita=%{x}<br>Life expectancy=%{y}<extra></extra>\",\"legendgroup\":\"Egypt\",\"marker\":{\"color\":\"#FF97FF\",\"symbol\":\"circle\"},\"mode\":\"markers\",\"name\":\"Egypt\",\"orientation\":\"v\",\"showlegend\":true,\"x\":[2817.432289437782],\"xaxis\":\"x\",\"y\":[71.3],\"yaxis\":\"y\",\"type\":\"scatter\"},{\"hovertemplate\":\"Entity=Fiji<br>gdp_per_capita=%{x}<br>Life expectancy=%{y}<extra></extra>\",\"legendgroup\":\"Fiji\",\"marker\":{\"color\":\"#FECB52\",\"symbol\":\"circle\"},\"mode\":\"markers\",\"name\":\"Fiji\",\"orientation\":\"v\",\"showlegend\":true,\"x\":[4463.480825744139],\"xaxis\":\"x\",\"y\":[67.8],\"yaxis\":\"y\",\"type\":\"scatter\"},{\"hovertemplate\":\"Entity=Finland<br>gdp_per_capita=%{x}<br>Life expectancy=%{y}<extra></extra>\",\"legendgroup\":\"Finland\",\"marker\":{\"color\":\"#636efa\",\"symbol\":\"circle\"},\"mode\":\"markers\",\"name\":\"Finland\",\"orientation\":\"v\",\"showlegend\":true,\"x\":[47060.206319573386],\"xaxis\":\"x\",\"y\":[81.5],\"yaxis\":\"y\",\"type\":\"scatter\"},{\"hovertemplate\":\"Entity=France<br>gdp_per_capita=%{x}<br>Life expectancy=%{y}<extra></extra>\",\"legendgroup\":\"France\",\"marker\":{\"color\":\"#EF553B\",\"symbol\":\"circle\"},\"mode\":\"markers\",\"name\":\"France\",\"orientation\":\"v\",\"showlegend\":true,\"x\":[44061.64739521614],\"xaxis\":\"x\",\"y\":[82.5],\"yaxis\":\"y\",\"type\":\"scatter\"},{\"hovertemplate\":\"Entity=Gabon<br>gdp_per_capita=%{x}<br>Life expectancy=%{y}<extra></extra>\",\"legendgroup\":\"Gabon\",\"marker\":{\"color\":\"#00cc96\",\"symbol\":\"circle\"},\"mode\":\"markers\",\"name\":\"Gabon\",\"orientation\":\"v\",\"showlegend\":true,\"x\":[9259.756310496272],\"xaxis\":\"x\",\"y\":[66.2],\"yaxis\":\"y\",\"type\":\"scatter\"},{\"hovertemplate\":\"Entity=Ghana<br>gdp_per_capita=%{x}<br>Life expectancy=%{y}<extra></extra>\",\"legendgroup\":\"Ghana\",\"marker\":{\"color\":\"#ab63fa\",\"symbol\":\"circle\"},\"mode\":\"markers\",\"name\":\"Ghana\",\"orientation\":\"v\",\"showlegend\":true,\"x\":[1795.9363436799663],\"xaxis\":\"x\",\"y\":[64.0],\"yaxis\":\"y\",\"type\":\"scatter\"},{\"hovertemplate\":\"Entity=Greece<br>gdp_per_capita=%{x}<br>Life expectancy=%{y}<extra></extra>\",\"legendgroup\":\"Greece\",\"marker\":{\"color\":\"#FFA15A\",\"symbol\":\"circle\"},\"mode\":\"markers\",\"name\":\"Greece\",\"orientation\":\"v\",\"showlegend\":true,\"x\":[23444.475664032358],\"xaxis\":\"x\",\"y\":[80.9],\"yaxis\":\"y\",\"type\":\"scatter\"},{\"hovertemplate\":\"Entity=Guatemala<br>gdp_per_capita=%{x}<br>Life expectancy=%{y}<extra></extra>\",\"legendgroup\":\"Guatemala\",\"marker\":{\"color\":\"#19d3f3\",\"symbol\":\"circle\"},\"mode\":\"markers\",\"name\":\"Guatemala\",\"orientation\":\"v\",\"showlegend\":true,\"x\":[3123.933862583884],\"xaxis\":\"x\",\"y\":[72.6],\"yaxis\":\"y\",\"type\":\"scatter\"},{\"hovertemplate\":\"Entity=Guyana<br>gdp_per_capita=%{x}<br>Life expectancy=%{y}<extra></extra>\",\"legendgroup\":\"Guyana\",\"marker\":{\"color\":\"#FF6692\",\"symbol\":\"circle\"},\"mode\":\"markers\",\"name\":\"Guyana\",\"orientation\":\"v\",\"showlegend\":true,\"x\":[3885.6723798626967],\"xaxis\":\"x\",\"y\":[68.7],\"yaxis\":\"y\",\"type\":\"scatter\"},{\"hovertemplate\":\"Entity=Honduras<br>gdp_per_capita=%{x}<br>Life expectancy=%{y}<extra></extra>\",\"legendgroup\":\"Honduras\",\"marker\":{\"color\":\"#B6E880\",\"symbol\":\"circle\"},\"mode\":\"markers\",\"name\":\"Honduras\",\"orientation\":\"v\",\"showlegend\":true,\"x\":[2172.15391486848],\"xaxis\":\"x\",\"y\":[72.7],\"yaxis\":\"y\",\"type\":\"scatter\"},{\"hovertemplate\":\"Entity=India<br>gdp_per_capita=%{x}<br>Life expectancy=%{y}<extra></extra>\",\"legendgroup\":\"India\",\"marker\":{\"color\":\"#FF97FF\",\"symbol\":\"circle\"},\"mode\":\"markers\",\"name\":\"India\",\"orientation\":\"v\",\"showlegend\":true,\"x\":[1964.284310117216],\"xaxis\":\"x\",\"y\":[70.5],\"yaxis\":\"y\",\"type\":\"scatter\"},{\"hovertemplate\":\"Entity=Indonesia<br>gdp_per_capita=%{x}<br>Life expectancy=%{y}<extra></extra>\",\"legendgroup\":\"Indonesia\",\"marker\":{\"color\":\"#FECB52\",\"symbol\":\"circle\"},\"mode\":\"markers\",\"name\":\"Indonesia\",\"orientation\":\"v\",\"showlegend\":true,\"x\":[4120.367810496154],\"xaxis\":\"x\",\"y\":[69.9],\"yaxis\":\"y\",\"type\":\"scatter\"},{\"hovertemplate\":\"Entity=Iran<br>gdp_per_capita=%{x}<br>Life expectancy=%{y}<extra></extra>\",\"legendgroup\":\"Iran\",\"marker\":{\"color\":\"#636efa\",\"symbol\":\"circle\"},\"mode\":\"markers\",\"name\":\"Iran\",\"orientation\":\"v\",\"showlegend\":true,\"x\":[6988.946227555693],\"xaxis\":\"x\",\"y\":[76.0],\"yaxis\":\"y\",\"type\":\"scatter\"},{\"hovertemplate\":\"Entity=Israel<br>gdp_per_capita=%{x}<br>Life expectancy=%{y}<extra></extra>\",\"legendgroup\":\"Israel\",\"marker\":{\"color\":\"#EF553B\",\"symbol\":\"circle\"},\"mode\":\"markers\",\"name\":\"Israel\",\"orientation\":\"v\",\"showlegend\":true,\"x\":[36074.24555591012],\"xaxis\":\"x\",\"y\":[82.7],\"yaxis\":\"y\",\"type\":\"scatter\"},{\"hovertemplate\":\"Entity=Italy<br>gdp_per_capita=%{x}<br>Life expectancy=%{y}<extra></extra>\",\"legendgroup\":\"Italy\",\"marker\":{\"color\":\"#00cc96\",\"symbol\":\"circle\"},\"mode\":\"markers\",\"name\":\"Italy\",\"orientation\":\"v\",\"showlegend\":true,\"x\":[34807.36298025678],\"xaxis\":\"x\",\"y\":[82.7],\"yaxis\":\"y\",\"type\":\"scatter\"},{\"hovertemplate\":\"Entity=Japan<br>gdp_per_capita=%{x}<br>Life expectancy=%{y}<extra></extra>\",\"legendgroup\":\"Japan\",\"marker\":{\"color\":\"#ab63fa\",\"symbol\":\"circle\"},\"mode\":\"markers\",\"name\":\"Japan\",\"orientation\":\"v\",\"showlegend\":true,\"x\":[48283.79505249767],\"xaxis\":\"x\",\"y\":[84.2],\"yaxis\":\"y\",\"type\":\"scatter\"},{\"hovertemplate\":\"Entity=Kenya<br>gdp_per_capita=%{x}<br>Life expectancy=%{y}<extra></extra>\",\"legendgroup\":\"Kenya\",\"marker\":{\"color\":\"#FFA15A\",\"symbol\":\"circle\"},\"mode\":\"markers\",\"name\":\"Kenya\",\"orientation\":\"v\",\"showlegend\":true,\"x\":[1157.2094917223153],\"xaxis\":\"x\",\"y\":[62.5],\"yaxis\":\"y\",\"type\":\"scatter\"},{\"hovertemplate\":\"Entity=Lesotho<br>gdp_per_capita=%{x}<br>Life expectancy=%{y}<extra></extra>\",\"legendgroup\":\"Lesotho\",\"marker\":{\"color\":\"#19d3f3\",\"symbol\":\"circle\"},\"mode\":\"markers\",\"name\":\"Lesotho\",\"orientation\":\"v\",\"showlegend\":true,\"x\":[1504.425989499173],\"xaxis\":\"x\",\"y\":[53.1],\"yaxis\":\"y\",\"type\":\"scatter\"},{\"hovertemplate\":\"Entity=Liberia<br>gdp_per_capita=%{x}<br>Life expectancy=%{y}<extra></extra>\",\"legendgroup\":\"Liberia\",\"marker\":{\"color\":\"#FF6692\",\"symbol\":\"circle\"},\"mode\":\"markers\",\"name\":\"Liberia\",\"orientation\":\"v\",\"showlegend\":true,\"x\":[354.5265876589813],\"xaxis\":\"x\",\"y\":[60.6],\"yaxis\":\"y\",\"type\":\"scatter\"},{\"hovertemplate\":\"Entity=Luxembourg<br>gdp_per_capita=%{x}<br>Life expectancy=%{y}<extra></extra>\",\"legendgroup\":\"Luxembourg\",\"marker\":{\"color\":\"#B6E880\",\"symbol\":\"circle\"},\"mode\":\"markers\",\"name\":\"Luxembourg\",\"orientation\":\"v\",\"showlegend\":true,\"x\":[109222.51748804915],\"xaxis\":\"x\",\"y\":[81.7],\"yaxis\":\"y\",\"type\":\"scatter\"},{\"hovertemplate\":\"Entity=Madagascar<br>gdp_per_capita=%{x}<br>Life expectancy=%{y}<extra></extra>\",\"legendgroup\":\"Madagascar\",\"marker\":{\"color\":\"#FF97FF\",\"symbol\":\"circle\"},\"mode\":\"markers\",\"name\":\"Madagascar\",\"orientation\":\"v\",\"showlegend\":true,\"x\":[421.8895132896171],\"xaxis\":\"x\",\"y\":[65.1],\"yaxis\":\"y\",\"type\":\"scatter\"},{\"hovertemplate\":\"Entity=Malawi<br>gdp_per_capita=%{x}<br>Life expectancy=%{y}<extra></extra>\",\"legendgroup\":\"Malawi\",\"marker\":{\"color\":\"#FECB52\",\"symbol\":\"circle\"},\"mode\":\"markers\",\"name\":\"Malawi\",\"orientation\":\"v\",\"showlegend\":true,\"x\":[512.6562214324799],\"xaxis\":\"x\",\"y\":[63.0],\"yaxis\":\"y\",\"type\":\"scatter\"},{\"hovertemplate\":\"Entity=Malaysia<br>gdp_per_capita=%{x}<br>Life expectancy=%{y}<extra></extra>\",\"legendgroup\":\"Malaysia\",\"marker\":{\"color\":\"#636efa\",\"symbol\":\"circle\"},\"mode\":\"markers\",\"name\":\"Malaysia\",\"orientation\":\"v\",\"showlegend\":true,\"x\":[11713.792561266839],\"xaxis\":\"x\",\"y\":[75.5],\"yaxis\":\"y\",\"type\":\"scatter\"},{\"hovertemplate\":\"Entity=Mauritania<br>gdp_per_capita=%{x}<br>Life expectancy=%{y}<extra></extra>\",\"legendgroup\":\"Mauritania\",\"marker\":{\"color\":\"#EF553B\",\"symbol\":\"circle\"},\"mode\":\"markers\",\"name\":\"Mauritania\",\"orientation\":\"v\",\"showlegend\":true,\"x\":[1347.0106110759748],\"xaxis\":\"x\",\"y\":[65.1],\"yaxis\":\"y\",\"type\":\"scatter\"},{\"hovertemplate\":\"Entity=Mexico<br>gdp_per_capita=%{x}<br>Life expectancy=%{y}<extra></extra>\",\"legendgroup\":\"Mexico\",\"marker\":{\"color\":\"#00cc96\",\"symbol\":\"circle\"},\"mode\":\"markers\",\"name\":\"Mexico\",\"orientation\":\"v\",\"showlegend\":true,\"x\":[10295.794498827267],\"xaxis\":\"x\",\"y\":[74.1],\"yaxis\":\"y\",\"type\":\"scatter\"},{\"hovertemplate\":\"Entity=Myanmar<br>gdp_per_capita=%{x}<br>Life expectancy=%{y}<extra></extra>\",\"legendgroup\":\"Myanmar\",\"marker\":{\"color\":\"#ab63fa\",\"symbol\":\"circle\"},\"mode\":\"markers\",\"name\":\"Myanmar\",\"orientation\":\"v\",\"showlegend\":true,\"x\":[1483.856240995092],\"xaxis\":\"x\",\"y\":[65.8],\"yaxis\":\"y\",\"type\":\"scatter\"},{\"hovertemplate\":\"Entity=Nepal<br>gdp_per_capita=%{x}<br>Life expectancy=%{y}<extra></extra>\",\"legendgroup\":\"Nepal\",\"marker\":{\"color\":\"#FFA15A\",\"symbol\":\"circle\"},\"mode\":\"markers\",\"name\":\"Nepal\",\"orientation\":\"v\",\"showlegend\":true,\"x\":[772.4735975500814],\"xaxis\":\"x\",\"y\":[68.9],\"yaxis\":\"y\",\"type\":\"scatter\"},{\"hovertemplate\":\"Entity=Netherlands<br>gdp_per_capita=%{x}<br>Life expectancy=%{y}<extra></extra>\",\"legendgroup\":\"Netherlands\",\"marker\":{\"color\":\"#19d3f3\",\"symbol\":\"circle\"},\"mode\":\"markers\",\"name\":\"Netherlands\",\"orientation\":\"v\",\"showlegend\":true,\"x\":[53950.0540635468],\"xaxis\":\"x\",\"y\":[81.7],\"yaxis\":\"y\",\"type\":\"scatter\"},{\"hovertemplate\":\"Entity=Nicaragua<br>gdp_per_capita=%{x}<br>Life expectancy=%{y}<extra></extra>\",\"legendgroup\":\"Nicaragua\",\"marker\":{\"color\":\"#FF6692\",\"symbol\":\"circle\"},\"mode\":\"markers\",\"name\":\"Nicaragua\",\"orientation\":\"v\",\"showlegend\":true,\"x\":[1963.4506830054502],\"xaxis\":\"x\",\"y\":[73.6],\"yaxis\":\"y\",\"type\":\"scatter\"},{\"hovertemplate\":\"Entity=Niger<br>gdp_per_capita=%{x}<br>Life expectancy=%{y}<extra></extra>\",\"legendgroup\":\"Niger\",\"marker\":{\"color\":\"#B6E880\",\"symbol\":\"circle\"},\"mode\":\"markers\",\"name\":\"Niger\",\"orientation\":\"v\",\"showlegend\":true,\"x\":[393.6525754495546],\"xaxis\":\"x\",\"y\":[62.2],\"yaxis\":\"y\",\"type\":\"scatter\"},{\"hovertemplate\":\"Entity=Nigeria<br>gdp_per_capita=%{x}<br>Life expectancy=%{y}<extra></extra>\",\"legendgroup\":\"Nigeria\",\"marker\":{\"color\":\"#FF97FF\",\"symbol\":\"circle\"},\"mode\":\"markers\",\"name\":\"Nigeria\",\"orientation\":\"v\",\"showlegend\":true,\"x\":[2412.5783360682376],\"xaxis\":\"x\",\"y\":[52.3],\"yaxis\":\"y\",\"type\":\"scatter\"},{\"hovertemplate\":\"Entity=Norway<br>gdp_per_capita=%{x}<br>Life expectancy=%{y}<extra></extra>\",\"legendgroup\":\"Norway\",\"marker\":{\"color\":\"#FECB52\",\"symbol\":\"circle\"},\"mode\":\"markers\",\"name\":\"Norway\",\"orientation\":\"v\",\"showlegend\":true,\"x\":[90981.32256139029],\"xaxis\":\"x\",\"y\":[82.6],\"yaxis\":\"y\",\"type\":\"scatter\"},{\"hovertemplate\":\"Entity=Pakistan<br>gdp_per_capita=%{x}<br>Life expectancy=%{y}<extra></extra>\",\"legendgroup\":\"Pakistan\",\"marker\":{\"color\":\"#636efa\",\"symbol\":\"circle\"},\"mode\":\"markers\",\"name\":\"Pakistan\",\"orientation\":\"v\",\"showlegend\":true,\"x\":[1158.4885232469962],\"xaxis\":\"x\",\"y\":[66.3],\"yaxis\":\"y\",\"type\":\"scatter\"},{\"hovertemplate\":\"Entity=Panama<br>gdp_per_capita=%{x}<br>Life expectancy=%{y}<extra></extra>\",\"legendgroup\":\"Panama\",\"marker\":{\"color\":\"#EF553B\",\"symbol\":\"circle\"},\"mode\":\"markers\",\"name\":\"Panama\",\"orientation\":\"v\",\"showlegend\":true,\"x\":[11489.693265479986],\"xaxis\":\"x\",\"y\":[77.8],\"yaxis\":\"y\",\"type\":\"scatter\"},{\"hovertemplate\":\"Entity=Papua New Guinea<br>gdp_per_capita=%{x}<br>Life expectancy=%{y}<extra></extra>\",\"legendgroup\":\"Papua New Guinea\",\"marker\":{\"color\":\"#00cc96\",\"symbol\":\"circle\"},\"mode\":\"markers\",\"name\":\"Papua New Guinea\",\"orientation\":\"v\",\"showlegend\":true,\"x\":[2348.3947050418583],\"xaxis\":\"x\",\"y\":[65.1],\"yaxis\":\"y\",\"type\":\"scatter\"},{\"hovertemplate\":\"Entity=Paraguay<br>gdp_per_capita=%{x}<br>Life expectancy=%{y}<extra></extra>\",\"legendgroup\":\"Paraguay\",\"marker\":{\"color\":\"#ab63fa\",\"symbol\":\"circle\"},\"mode\":\"markers\",\"name\":\"Paraguay\",\"orientation\":\"v\",\"showlegend\":true,\"x\":[3874.246263594248],\"xaxis\":\"x\",\"y\":[73.6],\"yaxis\":\"y\",\"type\":\"scatter\"},{\"hovertemplate\":\"Entity=Peru<br>gdp_per_capita=%{x}<br>Life expectancy=%{y}<extra></extra>\",\"legendgroup\":\"Peru\",\"marker\":{\"color\":\"#FFA15A\",\"symbol\":\"circle\"},\"mode\":\"markers\",\"name\":\"Peru\",\"orientation\":\"v\",\"showlegend\":true,\"x\":[6314.326519317802],\"xaxis\":\"x\",\"y\":[75.9],\"yaxis\":\"y\",\"type\":\"scatter\"},{\"hovertemplate\":\"Entity=Philippines<br>gdp_per_capita=%{x}<br>Life expectancy=%{y}<extra></extra>\",\"legendgroup\":\"Philippines\",\"marker\":{\"color\":\"#19d3f3\",\"symbol\":\"circle\"},\"mode\":\"markers\",\"name\":\"Philippines\",\"orientation\":\"v\",\"showlegend\":true,\"x\":[2884.3510430859346],\"xaxis\":\"x\",\"y\":[71.5],\"yaxis\":\"y\",\"type\":\"scatter\"},{\"hovertemplate\":\"Entity=Portugal<br>gdp_per_capita=%{x}<br>Life expectancy=%{y}<extra></extra>\",\"legendgroup\":\"Portugal\",\"marker\":{\"color\":\"#FF6692\",\"symbol\":\"circle\"},\"mode\":\"markers\",\"name\":\"Portugal\",\"orientation\":\"v\",\"showlegend\":true,\"x\":[23127.1793929723],\"xaxis\":\"x\",\"y\":[81.5],\"yaxis\":\"y\",\"type\":\"scatter\"},{\"hovertemplate\":\"Entity=Rwanda<br>gdp_per_capita=%{x}<br>Life expectancy=%{y}<extra></extra>\",\"legendgroup\":\"Rwanda\",\"marker\":{\"color\":\"#B6E880\",\"symbol\":\"circle\"},\"mode\":\"markers\",\"name\":\"Rwanda\",\"orientation\":\"v\",\"showlegend\":true,\"x\":[779.7490066089041],\"xaxis\":\"x\",\"y\":[65.9],\"yaxis\":\"y\",\"type\":\"scatter\"},{\"hovertemplate\":\"Entity=Saint Vincent and the Grenadines<br>gdp_per_capita=%{x}<br>Life expectancy=%{y}<extra></extra>\",\"legendgroup\":\"Saint Vincent and the Grenadines\",\"marker\":{\"color\":\"#FF97FF\",\"symbol\":\"circle\"},\"mode\":\"markers\",\"name\":\"Saint Vincent and the Grenadines\",\"orientation\":\"v\",\"showlegend\":true,\"x\":[6735.514265390299],\"xaxis\":\"x\",\"y\":[74.3],\"yaxis\":\"y\",\"type\":\"scatter\"},{\"hovertemplate\":\"Entity=Senegal<br>gdp_per_capita=%{x}<br>Life expectancy=%{y}<extra></extra>\",\"legendgroup\":\"Senegal\",\"marker\":{\"color\":\"#FECB52\",\"symbol\":\"circle\"},\"mode\":\"markers\",\"name\":\"Senegal\",\"orientation\":\"v\",\"showlegend\":true,\"x\":[1165.824407244004],\"xaxis\":\"x\",\"y\":[67.8],\"yaxis\":\"y\",\"type\":\"scatter\"},{\"hovertemplate\":\"Entity=Seychelles<br>gdp_per_capita=%{x}<br>Life expectancy=%{y}<extra></extra>\",\"legendgroup\":\"Seychelles\",\"marker\":{\"color\":\"#636efa\",\"symbol\":\"circle\"},\"mode\":\"markers\",\"name\":\"Seychelles\",\"orientation\":\"v\",\"showlegend\":true,\"x\":[13974.193431753958],\"xaxis\":\"x\",\"y\":[73.8],\"yaxis\":\"y\",\"type\":\"scatter\"},{\"hovertemplate\":\"Entity=Sierra Leone<br>gdp_per_capita=%{x}<br>Life expectancy=%{y}<extra></extra>\",\"legendgroup\":\"Sierra Leone\",\"marker\":{\"color\":\"#EF553B\",\"symbol\":\"circle\"},\"mode\":\"markers\",\"name\":\"Sierra Leone\",\"orientation\":\"v\",\"showlegend\":true,\"x\":[466.7321194998571],\"xaxis\":\"x\",\"y\":[58.7],\"yaxis\":\"y\",\"type\":\"scatter\"},{\"hovertemplate\":\"Entity=Singapore<br>gdp_per_capita=%{x}<br>Life expectancy=%{y}<extra></extra>\",\"legendgroup\":\"Singapore\",\"marker\":{\"color\":\"#00cc96\",\"symbol\":\"circle\"},\"mode\":\"markers\",\"name\":\"Singapore\",\"orientation\":\"v\",\"showlegend\":true,\"x\":[54308.982638511385],\"xaxis\":\"x\",\"y\":[83.2],\"yaxis\":\"y\",\"type\":\"scatter\"},{\"hovertemplate\":\"Entity=South Africa<br>gdp_per_capita=%{x}<br>Life expectancy=%{y}<extra></extra>\",\"legendgroup\":\"South Africa\",\"marker\":{\"color\":\"#ab63fa\",\"symbol\":\"circle\"},\"mode\":\"markers\",\"name\":\"South Africa\",\"orientation\":\"v\",\"showlegend\":true,\"x\":[7485.8599310439395],\"xaxis\":\"x\",\"y\":[65.4],\"yaxis\":\"y\",\"type\":\"scatter\"},{\"hovertemplate\":\"Entity=South Korea<br>gdp_per_capita=%{x}<br>Life expectancy=%{y}<extra></extra>\",\"legendgroup\":\"South Korea\",\"marker\":{\"color\":\"#FFA15A\",\"symbol\":\"circle\"},\"mode\":\"markers\",\"name\":\"South Korea\",\"orientation\":\"v\",\"showlegend\":true,\"x\":[26341.50760170933],\"xaxis\":\"x\",\"y\":[83.3],\"yaxis\":\"y\",\"type\":\"scatter\"},{\"hovertemplate\":\"Entity=Spain<br>gdp_per_capita=%{x}<br>Life expectancy=%{y}<extra></extra>\",\"legendgroup\":\"Spain\",\"marker\":{\"color\":\"#19d3f3\",\"symbol\":\"circle\"},\"mode\":\"markers\",\"name\":\"Spain\",\"orientation\":\"v\",\"showlegend\":true,\"x\":[32353.667637547966],\"xaxis\":\"x\",\"y\":[83.0],\"yaxis\":\"y\",\"type\":\"scatter\"},{\"hovertemplate\":\"Entity=Sudan<br>gdp_per_capita=%{x}<br>Life expectancy=%{y}<extra></extra>\",\"legendgroup\":\"Sudan\",\"marker\":{\"color\":\"#FF6692\",\"symbol\":\"circle\"},\"mode\":\"markers\",\"name\":\"Sudan\",\"orientation\":\"v\",\"showlegend\":true,\"x\":[1945.7284749482765],\"xaxis\":\"x\",\"y\":[65.4],\"yaxis\":\"y\",\"type\":\"scatter\"},{\"hovertemplate\":\"Entity=Sweden<br>gdp_per_capita=%{x}<br>Life expectancy=%{y}<extra></extra>\",\"legendgroup\":\"Sweden\",\"marker\":{\"color\":\"#B6E880\",\"symbol\":\"circle\"},\"mode\":\"markers\",\"name\":\"Sweden\",\"orientation\":\"v\",\"showlegend\":true,\"x\":[57870.66129200807],\"xaxis\":\"x\",\"y\":[82.4],\"yaxis\":\"y\",\"type\":\"scatter\"},{\"hovertemplate\":\"Entity=Thailand<br>gdp_per_capita=%{x}<br>Life expectancy=%{y}<extra></extra>\",\"legendgroup\":\"Thailand\",\"marker\":{\"color\":\"#FF97FF\",\"symbol\":\"circle\"},\"mode\":\"markers\",\"name\":\"Thailand\",\"orientation\":\"v\",\"showlegend\":true,\"x\":[6110.393755646091],\"xaxis\":\"x\",\"y\":[78.4],\"yaxis\":\"y\",\"type\":\"scatter\"},{\"hovertemplate\":\"Entity=Togo<br>gdp_per_capita=%{x}<br>Life expectancy=%{y}<extra></extra>\",\"legendgroup\":\"Togo\",\"marker\":{\"color\":\"#FECB52\",\"symbol\":\"circle\"},\"mode\":\"markers\",\"name\":\"Togo\",\"orientation\":\"v\",\"showlegend\":true,\"x\":[584.8597238590712],\"xaxis\":\"x\",\"y\":[60.2],\"yaxis\":\"y\",\"type\":\"scatter\"},{\"hovertemplate\":\"Entity=Trinidad and Tobago<br>gdp_per_capita=%{x}<br>Life expectancy=%{y}<extra></extra>\",\"legendgroup\":\"Trinidad and Tobago\",\"marker\":{\"color\":\"#636efa\",\"symbol\":\"circle\"},\"mode\":\"markers\",\"name\":\"Trinidad and Tobago\",\"orientation\":\"v\",\"showlegend\":true,\"x\":[15185.862214853612],\"xaxis\":\"x\",\"y\":[74.2],\"yaxis\":\"y\",\"type\":\"scatter\"},{\"hovertemplate\":\"Entity=Turkey<br>gdp_per_capita=%{x}<br>Life expectancy=%{y}<extra></extra>\",\"legendgroup\":\"Turkey\",\"marker\":{\"color\":\"#EF553B\",\"symbol\":\"circle\"},\"mode\":\"markers\",\"name\":\"Turkey\",\"orientation\":\"v\",\"showlegend\":true,\"x\":[14864.968662745698],\"xaxis\":\"x\",\"y\":[77.1],\"yaxis\":\"y\",\"type\":\"scatter\"},{\"hovertemplate\":\"Entity=United Kingdom<br>gdp_per_capita=%{x}<br>Life expectancy=%{y}<extra></extra>\",\"legendgroup\":\"United Kingdom\",\"marker\":{\"color\":\"#00cc96\",\"symbol\":\"circle\"},\"mode\":\"markers\",\"name\":\"United Kingdom\",\"orientation\":\"v\",\"showlegend\":true,\"x\":[42065.47719657815],\"xaxis\":\"x\",\"y\":[81.2],\"yaxis\":\"y\",\"type\":\"scatter\"},{\"hovertemplate\":\"Entity=United States<br>gdp_per_capita=%{x}<br>Life expectancy=%{y}<extra></extra>\",\"legendgroup\":\"United States\",\"marker\":{\"color\":\"#ab63fa\",\"symbol\":\"circle\"},\"mode\":\"markers\",\"name\":\"United States\",\"orientation\":\"v\",\"showlegend\":true,\"x\":[53232.18452176347],\"xaxis\":\"x\",\"y\":[78.8],\"yaxis\":\"y\",\"type\":\"scatter\"},{\"hovertemplate\":\"Entity=Uruguay<br>gdp_per_capita=%{x}<br>Life expectancy=%{y}<extra></extra>\",\"legendgroup\":\"Uruguay\",\"marker\":{\"color\":\"#FFA15A\",\"symbol\":\"circle\"},\"mode\":\"markers\",\"name\":\"Uruguay\",\"orientation\":\"v\",\"showlegend\":true,\"x\":[14445.09266111056],\"xaxis\":\"x\",\"y\":[77.6],\"yaxis\":\"y\",\"type\":\"scatter\"},{\"hovertemplate\":\"Entity=Zambia<br>gdp_per_capita=%{x}<br>Life expectancy=%{y}<extra></extra>\",\"legendgroup\":\"Zambia\",\"marker\":{\"color\":\"#19d3f3\",\"symbol\":\"circle\"},\"mode\":\"markers\",\"name\":\"Zambia\",\"orientation\":\"v\",\"showlegend\":true,\"x\":[1669.5975269283852],\"xaxis\":\"x\",\"y\":[62.1],\"yaxis\":\"y\",\"type\":\"scatter\"},{\"hovertemplate\":\"Entity=Zimbabwe<br>gdp_per_capita=%{x}<br>Life expectancy=%{y}<extra></extra>\",\"legendgroup\":\"Zimbabwe\",\"marker\":{\"color\":\"#FF6692\",\"symbol\":\"circle\"},\"mode\":\"markers\",\"name\":\"Zimbabwe\",\"orientation\":\"v\",\"showlegend\":true,\"x\":[1076.7585014988622],\"xaxis\":\"x\",\"y\":[60.7],\"yaxis\":\"y\",\"type\":\"scatter\"}],                        {\"template\":{\"data\":{\"histogram2dcontour\":[{\"type\":\"histogram2dcontour\",\"colorbar\":{\"outlinewidth\":0,\"ticks\":\"\"},\"colorscale\":[[0.0,\"#0d0887\"],[0.1111111111111111,\"#46039f\"],[0.2222222222222222,\"#7201a8\"],[0.3333333333333333,\"#9c179e\"],[0.4444444444444444,\"#bd3786\"],[0.5555555555555556,\"#d8576b\"],[0.6666666666666666,\"#ed7953\"],[0.7777777777777778,\"#fb9f3a\"],[0.8888888888888888,\"#fdca26\"],[1.0,\"#f0f921\"]]}],\"choropleth\":[{\"type\":\"choropleth\",\"colorbar\":{\"outlinewidth\":0,\"ticks\":\"\"}}],\"histogram2d\":[{\"type\":\"histogram2d\",\"colorbar\":{\"outlinewidth\":0,\"ticks\":\"\"},\"colorscale\":[[0.0,\"#0d0887\"],[0.1111111111111111,\"#46039f\"],[0.2222222222222222,\"#7201a8\"],[0.3333333333333333,\"#9c179e\"],[0.4444444444444444,\"#bd3786\"],[0.5555555555555556,\"#d8576b\"],[0.6666666666666666,\"#ed7953\"],[0.7777777777777778,\"#fb9f3a\"],[0.8888888888888888,\"#fdca26\"],[1.0,\"#f0f921\"]]}],\"heatmap\":[{\"type\":\"heatmap\",\"colorbar\":{\"outlinewidth\":0,\"ticks\":\"\"},\"colorscale\":[[0.0,\"#0d0887\"],[0.1111111111111111,\"#46039f\"],[0.2222222222222222,\"#7201a8\"],[0.3333333333333333,\"#9c179e\"],[0.4444444444444444,\"#bd3786\"],[0.5555555555555556,\"#d8576b\"],[0.6666666666666666,\"#ed7953\"],[0.7777777777777778,\"#fb9f3a\"],[0.8888888888888888,\"#fdca26\"],[1.0,\"#f0f921\"]]}],\"heatmapgl\":[{\"type\":\"heatmapgl\",\"colorbar\":{\"outlinewidth\":0,\"ticks\":\"\"},\"colorscale\":[[0.0,\"#0d0887\"],[0.1111111111111111,\"#46039f\"],[0.2222222222222222,\"#7201a8\"],[0.3333333333333333,\"#9c179e\"],[0.4444444444444444,\"#bd3786\"],[0.5555555555555556,\"#d8576b\"],[0.6666666666666666,\"#ed7953\"],[0.7777777777777778,\"#fb9f3a\"],[0.8888888888888888,\"#fdca26\"],[1.0,\"#f0f921\"]]}],\"contourcarpet\":[{\"type\":\"contourcarpet\",\"colorbar\":{\"outlinewidth\":0,\"ticks\":\"\"}}],\"contour\":[{\"type\":\"contour\",\"colorbar\":{\"outlinewidth\":0,\"ticks\":\"\"},\"colorscale\":[[0.0,\"#0d0887\"],[0.1111111111111111,\"#46039f\"],[0.2222222222222222,\"#7201a8\"],[0.3333333333333333,\"#9c179e\"],[0.4444444444444444,\"#bd3786\"],[0.5555555555555556,\"#d8576b\"],[0.6666666666666666,\"#ed7953\"],[0.7777777777777778,\"#fb9f3a\"],[0.8888888888888888,\"#fdca26\"],[1.0,\"#f0f921\"]]}],\"surface\":[{\"type\":\"surface\",\"colorbar\":{\"outlinewidth\":0,\"ticks\":\"\"},\"colorscale\":[[0.0,\"#0d0887\"],[0.1111111111111111,\"#46039f\"],[0.2222222222222222,\"#7201a8\"],[0.3333333333333333,\"#9c179e\"],[0.4444444444444444,\"#bd3786\"],[0.5555555555555556,\"#d8576b\"],[0.6666666666666666,\"#ed7953\"],[0.7777777777777778,\"#fb9f3a\"],[0.8888888888888888,\"#fdca26\"],[1.0,\"#f0f921\"]]}],\"mesh3d\":[{\"type\":\"mesh3d\",\"colorbar\":{\"outlinewidth\":0,\"ticks\":\"\"}}],\"scatter\":[{\"fillpattern\":{\"fillmode\":\"overlay\",\"size\":10,\"solidity\":0.2},\"type\":\"scatter\"}],\"parcoords\":[{\"type\":\"parcoords\",\"line\":{\"colorbar\":{\"outlinewidth\":0,\"ticks\":\"\"}}}],\"scatterpolargl\":[{\"type\":\"scatterpolargl\",\"marker\":{\"colorbar\":{\"outlinewidth\":0,\"ticks\":\"\"}}}],\"bar\":[{\"error_x\":{\"color\":\"#2a3f5f\"},\"error_y\":{\"color\":\"#2a3f5f\"},\"marker\":{\"line\":{\"color\":\"#E5ECF6\",\"width\":0.5},\"pattern\":{\"fillmode\":\"overlay\",\"size\":10,\"solidity\":0.2}},\"type\":\"bar\"}],\"scattergeo\":[{\"type\":\"scattergeo\",\"marker\":{\"colorbar\":{\"outlinewidth\":0,\"ticks\":\"\"}}}],\"scatterpolar\":[{\"type\":\"scatterpolar\",\"marker\":{\"colorbar\":{\"outlinewidth\":0,\"ticks\":\"\"}}}],\"histogram\":[{\"marker\":{\"pattern\":{\"fillmode\":\"overlay\",\"size\":10,\"solidity\":0.2}},\"type\":\"histogram\"}],\"scattergl\":[{\"type\":\"scattergl\",\"marker\":{\"colorbar\":{\"outlinewidth\":0,\"ticks\":\"\"}}}],\"scatter3d\":[{\"type\":\"scatter3d\",\"line\":{\"colorbar\":{\"outlinewidth\":0,\"ticks\":\"\"}},\"marker\":{\"colorbar\":{\"outlinewidth\":0,\"ticks\":\"\"}}}],\"scattermapbox\":[{\"type\":\"scattermapbox\",\"marker\":{\"colorbar\":{\"outlinewidth\":0,\"ticks\":\"\"}}}],\"scatterternary\":[{\"type\":\"scatterternary\",\"marker\":{\"colorbar\":{\"outlinewidth\":0,\"ticks\":\"\"}}}],\"scattercarpet\":[{\"type\":\"scattercarpet\",\"marker\":{\"colorbar\":{\"outlinewidth\":0,\"ticks\":\"\"}}}],\"carpet\":[{\"aaxis\":{\"endlinecolor\":\"#2a3f5f\",\"gridcolor\":\"white\",\"linecolor\":\"white\",\"minorgridcolor\":\"white\",\"startlinecolor\":\"#2a3f5f\"},\"baxis\":{\"endlinecolor\":\"#2a3f5f\",\"gridcolor\":\"white\",\"linecolor\":\"white\",\"minorgridcolor\":\"white\",\"startlinecolor\":\"#2a3f5f\"},\"type\":\"carpet\"}],\"table\":[{\"cells\":{\"fill\":{\"color\":\"#EBF0F8\"},\"line\":{\"color\":\"white\"}},\"header\":{\"fill\":{\"color\":\"#C8D4E3\"},\"line\":{\"color\":\"white\"}},\"type\":\"table\"}],\"barpolar\":[{\"marker\":{\"line\":{\"color\":\"#E5ECF6\",\"width\":0.5},\"pattern\":{\"fillmode\":\"overlay\",\"size\":10,\"solidity\":0.2}},\"type\":\"barpolar\"}],\"pie\":[{\"automargin\":true,\"type\":\"pie\"}]},\"layout\":{\"autotypenumbers\":\"strict\",\"colorway\":[\"#636efa\",\"#EF553B\",\"#00cc96\",\"#ab63fa\",\"#FFA15A\",\"#19d3f3\",\"#FF6692\",\"#B6E880\",\"#FF97FF\",\"#FECB52\"],\"font\":{\"color\":\"#2a3f5f\"},\"hovermode\":\"closest\",\"hoverlabel\":{\"align\":\"left\"},\"paper_bgcolor\":\"white\",\"plot_bgcolor\":\"#E5ECF6\",\"polar\":{\"bgcolor\":\"#E5ECF6\",\"angularaxis\":{\"gridcolor\":\"white\",\"linecolor\":\"white\",\"ticks\":\"\"},\"radialaxis\":{\"gridcolor\":\"white\",\"linecolor\":\"white\",\"ticks\":\"\"}},\"ternary\":{\"bgcolor\":\"#E5ECF6\",\"aaxis\":{\"gridcolor\":\"white\",\"linecolor\":\"white\",\"ticks\":\"\"},\"baxis\":{\"gridcolor\":\"white\",\"linecolor\":\"white\",\"ticks\":\"\"},\"caxis\":{\"gridcolor\":\"white\",\"linecolor\":\"white\",\"ticks\":\"\"}},\"coloraxis\":{\"colorbar\":{\"outlinewidth\":0,\"ticks\":\"\"}},\"colorscale\":{\"sequential\":[[0.0,\"#0d0887\"],[0.1111111111111111,\"#46039f\"],[0.2222222222222222,\"#7201a8\"],[0.3333333333333333,\"#9c179e\"],[0.4444444444444444,\"#bd3786\"],[0.5555555555555556,\"#d8576b\"],[0.6666666666666666,\"#ed7953\"],[0.7777777777777778,\"#fb9f3a\"],[0.8888888888888888,\"#fdca26\"],[1.0,\"#f0f921\"]],\"sequentialminus\":[[0.0,\"#0d0887\"],[0.1111111111111111,\"#46039f\"],[0.2222222222222222,\"#7201a8\"],[0.3333333333333333,\"#9c179e\"],[0.4444444444444444,\"#bd3786\"],[0.5555555555555556,\"#d8576b\"],[0.6666666666666666,\"#ed7953\"],[0.7777777777777778,\"#fb9f3a\"],[0.8888888888888888,\"#fdca26\"],[1.0,\"#f0f921\"]],\"diverging\":[[0,\"#8e0152\"],[0.1,\"#c51b7d\"],[0.2,\"#de77ae\"],[0.3,\"#f1b6da\"],[0.4,\"#fde0ef\"],[0.5,\"#f7f7f7\"],[0.6,\"#e6f5d0\"],[0.7,\"#b8e186\"],[0.8,\"#7fbc41\"],[0.9,\"#4d9221\"],[1,\"#276419\"]]},\"xaxis\":{\"gridcolor\":\"white\",\"linecolor\":\"white\",\"ticks\":\"\",\"title\":{\"standoff\":15},\"zerolinecolor\":\"white\",\"automargin\":true,\"zerolinewidth\":2},\"yaxis\":{\"gridcolor\":\"white\",\"linecolor\":\"white\",\"ticks\":\"\",\"title\":{\"standoff\":15},\"zerolinecolor\":\"white\",\"automargin\":true,\"zerolinewidth\":2},\"scene\":{\"xaxis\":{\"backgroundcolor\":\"#E5ECF6\",\"gridcolor\":\"white\",\"linecolor\":\"white\",\"showbackground\":true,\"ticks\":\"\",\"zerolinecolor\":\"white\",\"gridwidth\":2},\"yaxis\":{\"backgroundcolor\":\"#E5ECF6\",\"gridcolor\":\"white\",\"linecolor\":\"white\",\"showbackground\":true,\"ticks\":\"\",\"zerolinecolor\":\"white\",\"gridwidth\":2},\"zaxis\":{\"backgroundcolor\":\"#E5ECF6\",\"gridcolor\":\"white\",\"linecolor\":\"white\",\"showbackground\":true,\"ticks\":\"\",\"zerolinecolor\":\"white\",\"gridwidth\":2}},\"shapedefaults\":{\"line\":{\"color\":\"#2a3f5f\"}},\"annotationdefaults\":{\"arrowcolor\":\"#2a3f5f\",\"arrowhead\":0,\"arrowwidth\":1},\"geo\":{\"bgcolor\":\"white\",\"landcolor\":\"#E5ECF6\",\"subunitcolor\":\"white\",\"showland\":true,\"showlakes\":true,\"lakecolor\":\"white\"},\"title\":{\"x\":0.05},\"mapbox\":{\"style\":\"light\"}}},\"xaxis\":{\"anchor\":\"y\",\"domain\":[0.0,1.0],\"title\":{\"text\":\"gdp_per_capita\"}},\"yaxis\":{\"anchor\":\"x\",\"domain\":[0.0,1.0],\"title\":{\"text\":\"Life expectancy\"}},\"legend\":{\"title\":{\"text\":\"Entity\"},\"tracegroupgap\":0},\"margin\":{\"t\":60}},                        {\"responsive\": true}                    ).then(function(){\n",
       "                            \n",
       "var gd = document.getElementById('cff5bef1-47bf-46e5-a426-493409f74301');\n",
       "var x = new MutationObserver(function (mutations, observer) {{\n",
       "        var display = window.getComputedStyle(gd).display;\n",
       "        if (!display || display === 'none') {{\n",
       "            console.log([gd, 'removed!']);\n",
       "            Plotly.purge(gd);\n",
       "            observer.disconnect();\n",
       "        }}\n",
       "}});\n",
       "\n",
       "// Listen for the removal of the full notebook cells\n",
       "var notebookContainer = gd.closest('#notebook-container');\n",
       "if (notebookContainer) {{\n",
       "    x.observe(notebookContainer, {childList: true});\n",
       "}}\n",
       "\n",
       "// Listen for the clearing of the current output cell\n",
       "var outputEl = gd.closest('.output');\n",
       "if (outputEl) {{\n",
       "    x.observe(outputEl, {childList: true});\n",
       "}}\n",
       "\n",
       "                        })                };                });            </script>        </div>"
      ]
     },
     "metadata": {},
     "output_type": "display_data"
    }
   ],
   "source": [
    "# Simple scatter plot\n",
    "px.scatter(gdp_pop_le.query(\"Year == 2017\"), x = \"gdp_per_capita\", y = \"Life expectancy\", color = \"Entity\")"
   ]
  },
  {
   "cell_type": "code",
   "execution_count": 20,
   "id": "1e60431d",
   "metadata": {},
   "outputs": [
    {
     "data": {
      "application/vnd.plotly.v1+json": {
       "config": {
        "plotlyServerURL": "https://plot.ly"
       },
       "data": [
        {
         "hovertemplate": "Entity=Algeria<br>gdp_per_capita=%{x}<br>Life expectancy=%{y}<extra></extra>",
         "legendgroup": "Algeria",
         "marker": {
          "color": "#636efa",
          "symbol": "circle"
         },
         "mode": "markers",
         "name": "Algeria",
         "orientation": "v",
         "showlegend": true,
         "type": "scatter",
         "x": [
          4816.917875943996
         ],
         "xaxis": "x",
         "y": [
          75.7
         ],
         "yaxis": "y"
        },
        {
         "hovertemplate": "Entity=Argentina<br>gdp_per_capita=%{x}<br>Life expectancy=%{y}<extra></extra>",
         "legendgroup": "Argentina",
         "marker": {
          "color": "#EF553B",
          "symbol": "circle"
         },
         "mode": "markers",
         "name": "Argentina",
         "orientation": "v",
         "showlegend": true,
         "type": "scatter",
         "x": [
          10477.146319354326
         ],
         "xaxis": "x",
         "y": [
          76.8
         ],
         "yaxis": "y"
        },
        {
         "hovertemplate": "Entity=Australia<br>gdp_per_capita=%{x}<br>Life expectancy=%{y}<extra></extra>",
         "legendgroup": "Australia",
         "marker": {
          "color": "#00cc96",
          "symbol": "circle"
         },
         "mode": "markers",
         "name": "Australia",
         "orientation": "v",
         "showlegend": true,
         "type": "scatter",
         "x": [
          55957.626590364045
         ],
         "xaxis": "x",
         "y": [
          83
         ],
         "yaxis": "y"
        },
        {
         "hovertemplate": "Entity=Austria<br>gdp_per_capita=%{x}<br>Life expectancy=%{y}<extra></extra>",
         "legendgroup": "Austria",
         "marker": {
          "color": "#ab63fa",
          "symbol": "circle"
         },
         "mode": "markers",
         "name": "Austria",
         "orientation": "v",
         "showlegend": true,
         "type": "scatter",
         "x": [
          49069.142261829365
         ],
         "xaxis": "x",
         "y": [
          81.6
         ],
         "yaxis": "y"
        },
        {
         "hovertemplate": "Entity=Bahamas<br>gdp_per_capita=%{x}<br>Life expectancy=%{y}<extra></extra>",
         "legendgroup": "Bahamas",
         "marker": {
          "color": "#FFA15A",
          "symbol": "circle"
         },
         "mode": "markers",
         "name": "Bahamas",
         "orientation": "v",
         "showlegend": true,
         "type": "scatter",
         "x": [
          27467.183467529583
         ],
         "xaxis": "x",
         "y": [
          73.6
         ],
         "yaxis": "y"
        },
        {
         "hovertemplate": "Entity=Bangladesh<br>gdp_per_capita=%{x}<br>Life expectancy=%{y}<extra></extra>",
         "legendgroup": "Bangladesh",
         "marker": {
          "color": "#19d3f3",
          "symbol": "circle"
         },
         "mode": "markers",
         "name": "Bangladesh",
         "orientation": "v",
         "showlegend": true,
         "type": "scatter",
         "x": [
          1127.1701207960982
         ],
         "xaxis": "x",
         "y": [
          71.8
         ],
         "yaxis": "y"
        },
        {
         "hovertemplate": "Entity=Belgium<br>gdp_per_capita=%{x}<br>Life expectancy=%{y}<extra></extra>",
         "legendgroup": "Belgium",
         "marker": {
          "color": "#FF6692",
          "symbol": "circle"
         },
         "mode": "markers",
         "name": "Belgium",
         "orientation": "v",
         "showlegend": true,
         "type": "scatter",
         "x": [
          45885.52670298003
         ],
         "xaxis": "x",
         "y": [
          81.4
         ],
         "yaxis": "y"
        },
        {
         "hovertemplate": "Entity=Belize<br>gdp_per_capita=%{x}<br>Life expectancy=%{y}<extra></extra>",
         "legendgroup": "Belize",
         "marker": {
          "color": "#B6E880",
          "symbol": "circle"
         },
         "mode": "markers",
         "name": "Belize",
         "orientation": "v",
         "showlegend": true,
         "type": "scatter",
         "x": [
          4300.087271401622
         ],
         "xaxis": "x",
         "y": [
          73.6
         ],
         "yaxis": "y"
        },
        {
         "hovertemplate": "Entity=Benin<br>gdp_per_capita=%{x}<br>Life expectancy=%{y}<extra></extra>",
         "legendgroup": "Benin",
         "marker": {
          "color": "#FF97FF",
          "symbol": "circle"
         },
         "mode": "markers",
         "name": "Benin",
         "orientation": "v",
         "showlegend": true,
         "type": "scatter",
         "x": [
          860.0059374439847
         ],
         "xaxis": "x",
         "y": [
          59.9
         ],
         "yaxis": "y"
        },
        {
         "hovertemplate": "Entity=Bolivia<br>gdp_per_capita=%{x}<br>Life expectancy=%{y}<extra></extra>",
         "legendgroup": "Bolivia",
         "marker": {
          "color": "#FECB52",
          "symbol": "circle"
         },
         "mode": "markers",
         "name": "Bolivia",
         "orientation": "v",
         "showlegend": true,
         "type": "scatter",
         "x": [
          2490.9237281358346
         ],
         "xaxis": "x",
         "y": [
          67.7
         ],
         "yaxis": "y"
        },
        {
         "hovertemplate": "Entity=Botswana<br>gdp_per_capita=%{x}<br>Life expectancy=%{y}<extra></extra>",
         "legendgroup": "Botswana",
         "marker": {
          "color": "#636efa",
          "symbol": "circle"
         },
         "mode": "markers",
         "name": "Botswana",
         "orientation": "v",
         "showlegend": true,
         "type": "scatter",
         "x": [
          7818.89407485687
         ],
         "xaxis": "x",
         "y": [
          66.8
         ],
         "yaxis": "y"
        },
        {
         "hovertemplate": "Entity=Brazil<br>gdp_per_capita=%{x}<br>Life expectancy=%{y}<extra></extra>",
         "legendgroup": "Brazil",
         "marker": {
          "color": "#EF553B",
          "symbol": "circle"
         },
         "mode": "markers",
         "name": "Brazil",
         "orientation": "v",
         "showlegend": true,
         "type": "scatter",
         "x": [
          10965.175921972874
         ],
         "xaxis": "x",
         "y": [
          74.8
         ],
         "yaxis": "y"
        },
        {
         "hovertemplate": "Entity=Burkina Faso<br>gdp_per_capita=%{x}<br>Life expectancy=%{y}<extra></extra>",
         "legendgroup": "Burkina Faso",
         "marker": {
          "color": "#00cc96",
          "symbol": "circle"
         },
         "mode": "markers",
         "name": "Burkina Faso",
         "orientation": "v",
         "showlegend": true,
         "type": "scatter",
         "x": [
          688.5475953218569
         ],
         "xaxis": "x",
         "y": [
          59.5
         ],
         "yaxis": "y"
        },
        {
         "hovertemplate": "Entity=Burundi<br>gdp_per_capita=%{x}<br>Life expectancy=%{y}<extra></extra>",
         "legendgroup": "Burundi",
         "marker": {
          "color": "#ab63fa",
          "symbol": "circle"
         },
         "mode": "markers",
         "name": "Burundi",
         "orientation": "v",
         "showlegend": true,
         "type": "scatter",
         "x": [
          213.27858761188048
         ],
         "xaxis": "x",
         "y": [
          61.6
         ],
         "yaxis": "y"
        },
        {
         "hovertemplate": "Entity=Cameroon<br>gdp_per_capita=%{x}<br>Life expectancy=%{y}<extra></extra>",
         "legendgroup": "Cameroon",
         "marker": {
          "color": "#FFA15A",
          "symbol": "circle"
         },
         "mode": "markers",
         "name": "Cameroon",
         "orientation": "v",
         "showlegend": true,
         "type": "scatter",
         "x": [
          1472.181498185256
         ],
         "xaxis": "x",
         "y": [
          60.8
         ],
         "yaxis": "y"
        },
        {
         "hovertemplate": "Entity=Canada<br>gdp_per_capita=%{x}<br>Life expectancy=%{y}<extra></extra>",
         "legendgroup": "Canada",
         "marker": {
          "color": "#19d3f3",
          "symbol": "circle"
         },
         "mode": "markers",
         "name": "Canada",
         "orientation": "v",
         "showlegend": true,
         "type": "scatter",
         "x": [
          51282.4760892625
         ],
         "xaxis": "x",
         "y": [
          82
         ],
         "yaxis": "y"
        },
        {
         "hovertemplate": "Entity=Central African Republic<br>gdp_per_capita=%{x}<br>Life expectancy=%{y}<extra></extra>",
         "legendgroup": "Central African Republic",
         "marker": {
          "color": "#FF6692",
          "symbol": "circle"
         },
         "mode": "markers",
         "name": "Central African Republic",
         "orientation": "v",
         "showlegend": true,
         "type": "scatter",
         "x": [
          339.62431132785247
         ],
         "xaxis": "x",
         "y": [
          53.7
         ],
         "yaxis": "y"
        },
        {
         "hovertemplate": "Entity=Chad<br>gdp_per_capita=%{x}<br>Life expectancy=%{y}<extra></extra>",
         "legendgroup": "Chad",
         "marker": {
          "color": "#B6E880",
          "symbol": "circle"
         },
         "mode": "markers",
         "name": "Chad",
         "orientation": "v",
         "showlegend": true,
         "type": "scatter",
         "x": [
          817.0190414555237
         ],
         "xaxis": "x",
         "y": [
          52.3
         ],
         "yaxis": "y"
        },
        {
         "hovertemplate": "Entity=Chile<br>gdp_per_capita=%{x}<br>Life expectancy=%{y}<extra></extra>",
         "legendgroup": "Chile",
         "marker": {
          "color": "#FF97FF",
          "symbol": "circle"
         },
         "mode": "markers",
         "name": "Chile",
         "orientation": "v",
         "showlegend": true,
         "type": "scatter",
         "x": [
          14720.936133199892
         ],
         "xaxis": "x",
         "y": [
          80.4
         ],
         "yaxis": "y"
        },
        {
         "hovertemplate": "Entity=China<br>gdp_per_capita=%{x}<br>Life expectancy=%{y}<extra></extra>",
         "legendgroup": "China",
         "marker": {
          "color": "#FECB52",
          "symbol": "circle"
         },
         "mode": "markers",
         "name": "China",
         "orientation": "v",
         "showlegend": true,
         "type": "scatter",
         "x": [
          7150.496686254078
         ],
         "xaxis": "x",
         "y": [
          77.2
         ],
         "yaxis": "y"
        },
        {
         "hovertemplate": "Entity=Colombia<br>gdp_per_capita=%{x}<br>Life expectancy=%{y}<extra></extra>",
         "legendgroup": "Colombia",
         "marker": {
          "color": "#636efa",
          "symbol": "circle"
         },
         "mode": "markers",
         "name": "Colombia",
         "orientation": "v",
         "showlegend": true,
         "type": "scatter",
         "x": [
          7624.942176500532
         ],
         "xaxis": "x",
         "y": [
          76.6
         ],
         "yaxis": "y"
        },
        {
         "hovertemplate": "Entity=Congo<br>gdp_per_capita=%{x}<br>Life expectancy=%{y}<extra></extra>",
         "legendgroup": "Congo",
         "marker": {
          "color": "#EF553B",
          "symbol": "circle"
         },
         "mode": "markers",
         "name": "Congo",
         "orientation": "v",
         "showlegend": true,
         "type": "scatter",
         "x": [
          2651.883363736803
         ],
         "xaxis": "x",
         "y": [
          63.8
         ],
         "yaxis": "y"
        },
        {
         "hovertemplate": "Entity=Costa Rica<br>gdp_per_capita=%{x}<br>Life expectancy=%{y}<extra></extra>",
         "legendgroup": "Costa Rica",
         "marker": {
          "color": "#00cc96",
          "symbol": "circle"
         },
         "mode": "markers",
         "name": "Costa Rica",
         "orientation": "v",
         "showlegend": true,
         "type": "scatter",
         "x": [
          9704.498759439171
         ],
         "xaxis": "x",
         "y": [
          79.4
         ],
         "yaxis": "y"
        },
        {
         "hovertemplate": "Entity=Cote d'Ivoire<br>gdp_per_capita=%{x}<br>Life expectancy=%{y}<extra></extra>",
         "legendgroup": "Cote d'Ivoire",
         "marker": {
          "color": "#ab63fa",
          "symbol": "circle"
         },
         "mode": "markers",
         "name": "Cote d'Ivoire",
         "orientation": "v",
         "showlegend": true,
         "type": "scatter",
         "x": [
          1623.1735290278593
         ],
         "xaxis": "x",
         "y": [
          58.5
         ],
         "yaxis": "y"
        },
        {
         "hovertemplate": "Entity=Democratic Republic of Congo<br>gdp_per_capita=%{x}<br>Life expectancy=%{y}<extra></extra>",
         "legendgroup": "Democratic Republic of Congo",
         "marker": {
          "color": "#FFA15A",
          "symbol": "circle"
         },
         "mode": "markers",
         "name": "Democratic Republic of Congo",
         "orientation": "v",
         "showlegend": true,
         "type": "scatter",
         "x": [
          408.82077087232886
         ],
         "xaxis": "x",
         "y": [
          59.4
         ],
         "yaxis": "y"
        },
        {
         "hovertemplate": "Entity=Denmark<br>gdp_per_capita=%{x}<br>Life expectancy=%{y}<extra></extra>",
         "legendgroup": "Denmark",
         "marker": {
          "color": "#19d3f3",
          "symbol": "circle"
         },
         "mode": "markers",
         "name": "Denmark",
         "orientation": "v",
         "showlegend": true,
         "type": "scatter",
         "x": [
          61986.156681440334
         ],
         "xaxis": "x",
         "y": [
          81.1
         ],
         "yaxis": "y"
        },
        {
         "hovertemplate": "Entity=Dominican Republic<br>gdp_per_capita=%{x}<br>Life expectancy=%{y}<extra></extra>",
         "legendgroup": "Dominican Republic",
         "marker": {
          "color": "#FF6692",
          "symbol": "circle"
         },
         "mode": "markers",
         "name": "Dominican Republic",
         "orientation": "v",
         "showlegend": true,
         "type": "scatter",
         "x": [
          7325.899767129582
         ],
         "xaxis": "x",
         "y": [
          73.1
         ],
         "yaxis": "y"
        },
        {
         "hovertemplate": "Entity=Ecuador<br>gdp_per_capita=%{x}<br>Life expectancy=%{y}<extra></extra>",
         "legendgroup": "Ecuador",
         "marker": {
          "color": "#B6E880",
          "symbol": "circle"
         },
         "mode": "markers",
         "name": "Ecuador",
         "orientation": "v",
         "showlegend": true,
         "type": "scatter",
         "x": [
          5219.341306051099
         ],
         "xaxis": "x",
         "y": [
          77
         ],
         "yaxis": "y"
        },
        {
         "hovertemplate": "Entity=Egypt<br>gdp_per_capita=%{x}<br>Life expectancy=%{y}<extra></extra>",
         "legendgroup": "Egypt",
         "marker": {
          "color": "#FF97FF",
          "symbol": "circle"
         },
         "mode": "markers",
         "name": "Egypt",
         "orientation": "v",
         "showlegend": true,
         "type": "scatter",
         "x": [
          2817.432289437782
         ],
         "xaxis": "x",
         "y": [
          71.3
         ],
         "yaxis": "y"
        },
        {
         "hovertemplate": "Entity=Fiji<br>gdp_per_capita=%{x}<br>Life expectancy=%{y}<extra></extra>",
         "legendgroup": "Fiji",
         "marker": {
          "color": "#FECB52",
          "symbol": "circle"
         },
         "mode": "markers",
         "name": "Fiji",
         "orientation": "v",
         "showlegend": true,
         "type": "scatter",
         "x": [
          4463.480825744139
         ],
         "xaxis": "x",
         "y": [
          67.8
         ],
         "yaxis": "y"
        },
        {
         "hovertemplate": "Entity=Finland<br>gdp_per_capita=%{x}<br>Life expectancy=%{y}<extra></extra>",
         "legendgroup": "Finland",
         "marker": {
          "color": "#636efa",
          "symbol": "circle"
         },
         "mode": "markers",
         "name": "Finland",
         "orientation": "v",
         "showlegend": true,
         "type": "scatter",
         "x": [
          47060.206319573386
         ],
         "xaxis": "x",
         "y": [
          81.5
         ],
         "yaxis": "y"
        },
        {
         "hovertemplate": "Entity=France<br>gdp_per_capita=%{x}<br>Life expectancy=%{y}<extra></extra>",
         "legendgroup": "France",
         "marker": {
          "color": "#EF553B",
          "symbol": "circle"
         },
         "mode": "markers",
         "name": "France",
         "orientation": "v",
         "showlegend": true,
         "type": "scatter",
         "x": [
          44061.64739521614
         ],
         "xaxis": "x",
         "y": [
          82.5
         ],
         "yaxis": "y"
        },
        {
         "hovertemplate": "Entity=Gabon<br>gdp_per_capita=%{x}<br>Life expectancy=%{y}<extra></extra>",
         "legendgroup": "Gabon",
         "marker": {
          "color": "#00cc96",
          "symbol": "circle"
         },
         "mode": "markers",
         "name": "Gabon",
         "orientation": "v",
         "showlegend": true,
         "type": "scatter",
         "x": [
          9259.756310496272
         ],
         "xaxis": "x",
         "y": [
          66.2
         ],
         "yaxis": "y"
        },
        {
         "hovertemplate": "Entity=Ghana<br>gdp_per_capita=%{x}<br>Life expectancy=%{y}<extra></extra>",
         "legendgroup": "Ghana",
         "marker": {
          "color": "#ab63fa",
          "symbol": "circle"
         },
         "mode": "markers",
         "name": "Ghana",
         "orientation": "v",
         "showlegend": true,
         "type": "scatter",
         "x": [
          1795.9363436799663
         ],
         "xaxis": "x",
         "y": [
          64
         ],
         "yaxis": "y"
        },
        {
         "hovertemplate": "Entity=Greece<br>gdp_per_capita=%{x}<br>Life expectancy=%{y}<extra></extra>",
         "legendgroup": "Greece",
         "marker": {
          "color": "#FFA15A",
          "symbol": "circle"
         },
         "mode": "markers",
         "name": "Greece",
         "orientation": "v",
         "showlegend": true,
         "type": "scatter",
         "x": [
          23444.475664032358
         ],
         "xaxis": "x",
         "y": [
          80.9
         ],
         "yaxis": "y"
        },
        {
         "hovertemplate": "Entity=Guatemala<br>gdp_per_capita=%{x}<br>Life expectancy=%{y}<extra></extra>",
         "legendgroup": "Guatemala",
         "marker": {
          "color": "#19d3f3",
          "symbol": "circle"
         },
         "mode": "markers",
         "name": "Guatemala",
         "orientation": "v",
         "showlegend": true,
         "type": "scatter",
         "x": [
          3123.933862583884
         ],
         "xaxis": "x",
         "y": [
          72.6
         ],
         "yaxis": "y"
        },
        {
         "hovertemplate": "Entity=Guyana<br>gdp_per_capita=%{x}<br>Life expectancy=%{y}<extra></extra>",
         "legendgroup": "Guyana",
         "marker": {
          "color": "#FF6692",
          "symbol": "circle"
         },
         "mode": "markers",
         "name": "Guyana",
         "orientation": "v",
         "showlegend": true,
         "type": "scatter",
         "x": [
          3885.6723798626967
         ],
         "xaxis": "x",
         "y": [
          68.7
         ],
         "yaxis": "y"
        },
        {
         "hovertemplate": "Entity=Honduras<br>gdp_per_capita=%{x}<br>Life expectancy=%{y}<extra></extra>",
         "legendgroup": "Honduras",
         "marker": {
          "color": "#B6E880",
          "symbol": "circle"
         },
         "mode": "markers",
         "name": "Honduras",
         "orientation": "v",
         "showlegend": true,
         "type": "scatter",
         "x": [
          2172.15391486848
         ],
         "xaxis": "x",
         "y": [
          72.7
         ],
         "yaxis": "y"
        },
        {
         "hovertemplate": "Entity=India<br>gdp_per_capita=%{x}<br>Life expectancy=%{y}<extra></extra>",
         "legendgroup": "India",
         "marker": {
          "color": "#FF97FF",
          "symbol": "circle"
         },
         "mode": "markers",
         "name": "India",
         "orientation": "v",
         "showlegend": true,
         "type": "scatter",
         "x": [
          1964.284310117216
         ],
         "xaxis": "x",
         "y": [
          70.5
         ],
         "yaxis": "y"
        },
        {
         "hovertemplate": "Entity=Indonesia<br>gdp_per_capita=%{x}<br>Life expectancy=%{y}<extra></extra>",
         "legendgroup": "Indonesia",
         "marker": {
          "color": "#FECB52",
          "symbol": "circle"
         },
         "mode": "markers",
         "name": "Indonesia",
         "orientation": "v",
         "showlegend": true,
         "type": "scatter",
         "x": [
          4120.367810496154
         ],
         "xaxis": "x",
         "y": [
          69.9
         ],
         "yaxis": "y"
        },
        {
         "hovertemplate": "Entity=Iran<br>gdp_per_capita=%{x}<br>Life expectancy=%{y}<extra></extra>",
         "legendgroup": "Iran",
         "marker": {
          "color": "#636efa",
          "symbol": "circle"
         },
         "mode": "markers",
         "name": "Iran",
         "orientation": "v",
         "showlegend": true,
         "type": "scatter",
         "x": [
          6988.946227555693
         ],
         "xaxis": "x",
         "y": [
          76
         ],
         "yaxis": "y"
        },
        {
         "hovertemplate": "Entity=Israel<br>gdp_per_capita=%{x}<br>Life expectancy=%{y}<extra></extra>",
         "legendgroup": "Israel",
         "marker": {
          "color": "#EF553B",
          "symbol": "circle"
         },
         "mode": "markers",
         "name": "Israel",
         "orientation": "v",
         "showlegend": true,
         "type": "scatter",
         "x": [
          36074.24555591012
         ],
         "xaxis": "x",
         "y": [
          82.7
         ],
         "yaxis": "y"
        },
        {
         "hovertemplate": "Entity=Italy<br>gdp_per_capita=%{x}<br>Life expectancy=%{y}<extra></extra>",
         "legendgroup": "Italy",
         "marker": {
          "color": "#00cc96",
          "symbol": "circle"
         },
         "mode": "markers",
         "name": "Italy",
         "orientation": "v",
         "showlegend": true,
         "type": "scatter",
         "x": [
          34807.36298025678
         ],
         "xaxis": "x",
         "y": [
          82.7
         ],
         "yaxis": "y"
        },
        {
         "hovertemplate": "Entity=Japan<br>gdp_per_capita=%{x}<br>Life expectancy=%{y}<extra></extra>",
         "legendgroup": "Japan",
         "marker": {
          "color": "#ab63fa",
          "symbol": "circle"
         },
         "mode": "markers",
         "name": "Japan",
         "orientation": "v",
         "showlegend": true,
         "type": "scatter",
         "x": [
          48283.79505249767
         ],
         "xaxis": "x",
         "y": [
          84.2
         ],
         "yaxis": "y"
        },
        {
         "hovertemplate": "Entity=Kenya<br>gdp_per_capita=%{x}<br>Life expectancy=%{y}<extra></extra>",
         "legendgroup": "Kenya",
         "marker": {
          "color": "#FFA15A",
          "symbol": "circle"
         },
         "mode": "markers",
         "name": "Kenya",
         "orientation": "v",
         "showlegend": true,
         "type": "scatter",
         "x": [
          1157.2094917223153
         ],
         "xaxis": "x",
         "y": [
          62.5
         ],
         "yaxis": "y"
        },
        {
         "hovertemplate": "Entity=Lesotho<br>gdp_per_capita=%{x}<br>Life expectancy=%{y}<extra></extra>",
         "legendgroup": "Lesotho",
         "marker": {
          "color": "#19d3f3",
          "symbol": "circle"
         },
         "mode": "markers",
         "name": "Lesotho",
         "orientation": "v",
         "showlegend": true,
         "type": "scatter",
         "x": [
          1504.425989499173
         ],
         "xaxis": "x",
         "y": [
          53.1
         ],
         "yaxis": "y"
        },
        {
         "hovertemplate": "Entity=Liberia<br>gdp_per_capita=%{x}<br>Life expectancy=%{y}<extra></extra>",
         "legendgroup": "Liberia",
         "marker": {
          "color": "#FF6692",
          "symbol": "circle"
         },
         "mode": "markers",
         "name": "Liberia",
         "orientation": "v",
         "showlegend": true,
         "type": "scatter",
         "x": [
          354.5265876589813
         ],
         "xaxis": "x",
         "y": [
          60.6
         ],
         "yaxis": "y"
        },
        {
         "hovertemplate": "Entity=Luxembourg<br>gdp_per_capita=%{x}<br>Life expectancy=%{y}<extra></extra>",
         "legendgroup": "Luxembourg",
         "marker": {
          "color": "#B6E880",
          "symbol": "circle"
         },
         "mode": "markers",
         "name": "Luxembourg",
         "orientation": "v",
         "showlegend": true,
         "type": "scatter",
         "x": [
          109222.51748804915
         ],
         "xaxis": "x",
         "y": [
          81.7
         ],
         "yaxis": "y"
        },
        {
         "hovertemplate": "Entity=Madagascar<br>gdp_per_capita=%{x}<br>Life expectancy=%{y}<extra></extra>",
         "legendgroup": "Madagascar",
         "marker": {
          "color": "#FF97FF",
          "symbol": "circle"
         },
         "mode": "markers",
         "name": "Madagascar",
         "orientation": "v",
         "showlegend": true,
         "type": "scatter",
         "x": [
          421.8895132896171
         ],
         "xaxis": "x",
         "y": [
          65.1
         ],
         "yaxis": "y"
        },
        {
         "hovertemplate": "Entity=Malawi<br>gdp_per_capita=%{x}<br>Life expectancy=%{y}<extra></extra>",
         "legendgroup": "Malawi",
         "marker": {
          "color": "#FECB52",
          "symbol": "circle"
         },
         "mode": "markers",
         "name": "Malawi",
         "orientation": "v",
         "showlegend": true,
         "type": "scatter",
         "x": [
          512.6562214324799
         ],
         "xaxis": "x",
         "y": [
          63
         ],
         "yaxis": "y"
        },
        {
         "hovertemplate": "Entity=Malaysia<br>gdp_per_capita=%{x}<br>Life expectancy=%{y}<extra></extra>",
         "legendgroup": "Malaysia",
         "marker": {
          "color": "#636efa",
          "symbol": "circle"
         },
         "mode": "markers",
         "name": "Malaysia",
         "orientation": "v",
         "showlegend": true,
         "type": "scatter",
         "x": [
          11713.792561266839
         ],
         "xaxis": "x",
         "y": [
          75.5
         ],
         "yaxis": "y"
        },
        {
         "hovertemplate": "Entity=Mauritania<br>gdp_per_capita=%{x}<br>Life expectancy=%{y}<extra></extra>",
         "legendgroup": "Mauritania",
         "marker": {
          "color": "#EF553B",
          "symbol": "circle"
         },
         "mode": "markers",
         "name": "Mauritania",
         "orientation": "v",
         "showlegend": true,
         "type": "scatter",
         "x": [
          1347.0106110759748
         ],
         "xaxis": "x",
         "y": [
          65.1
         ],
         "yaxis": "y"
        },
        {
         "hovertemplate": "Entity=Mexico<br>gdp_per_capita=%{x}<br>Life expectancy=%{y}<extra></extra>",
         "legendgroup": "Mexico",
         "marker": {
          "color": "#00cc96",
          "symbol": "circle"
         },
         "mode": "markers",
         "name": "Mexico",
         "orientation": "v",
         "showlegend": true,
         "type": "scatter",
         "x": [
          10295.794498827267
         ],
         "xaxis": "x",
         "y": [
          74.1
         ],
         "yaxis": "y"
        },
        {
         "hovertemplate": "Entity=Myanmar<br>gdp_per_capita=%{x}<br>Life expectancy=%{y}<extra></extra>",
         "legendgroup": "Myanmar",
         "marker": {
          "color": "#ab63fa",
          "symbol": "circle"
         },
         "mode": "markers",
         "name": "Myanmar",
         "orientation": "v",
         "showlegend": true,
         "type": "scatter",
         "x": [
          1483.856240995092
         ],
         "xaxis": "x",
         "y": [
          65.8
         ],
         "yaxis": "y"
        },
        {
         "hovertemplate": "Entity=Nepal<br>gdp_per_capita=%{x}<br>Life expectancy=%{y}<extra></extra>",
         "legendgroup": "Nepal",
         "marker": {
          "color": "#FFA15A",
          "symbol": "circle"
         },
         "mode": "markers",
         "name": "Nepal",
         "orientation": "v",
         "showlegend": true,
         "type": "scatter",
         "x": [
          772.4735975500814
         ],
         "xaxis": "x",
         "y": [
          68.9
         ],
         "yaxis": "y"
        },
        {
         "hovertemplate": "Entity=Netherlands<br>gdp_per_capita=%{x}<br>Life expectancy=%{y}<extra></extra>",
         "legendgroup": "Netherlands",
         "marker": {
          "color": "#19d3f3",
          "symbol": "circle"
         },
         "mode": "markers",
         "name": "Netherlands",
         "orientation": "v",
         "showlegend": true,
         "type": "scatter",
         "x": [
          53950.0540635468
         ],
         "xaxis": "x",
         "y": [
          81.7
         ],
         "yaxis": "y"
        },
        {
         "hovertemplate": "Entity=Nicaragua<br>gdp_per_capita=%{x}<br>Life expectancy=%{y}<extra></extra>",
         "legendgroup": "Nicaragua",
         "marker": {
          "color": "#FF6692",
          "symbol": "circle"
         },
         "mode": "markers",
         "name": "Nicaragua",
         "orientation": "v",
         "showlegend": true,
         "type": "scatter",
         "x": [
          1963.4506830054502
         ],
         "xaxis": "x",
         "y": [
          73.6
         ],
         "yaxis": "y"
        },
        {
         "hovertemplate": "Entity=Niger<br>gdp_per_capita=%{x}<br>Life expectancy=%{y}<extra></extra>",
         "legendgroup": "Niger",
         "marker": {
          "color": "#B6E880",
          "symbol": "circle"
         },
         "mode": "markers",
         "name": "Niger",
         "orientation": "v",
         "showlegend": true,
         "type": "scatter",
         "x": [
          393.6525754495546
         ],
         "xaxis": "x",
         "y": [
          62.2
         ],
         "yaxis": "y"
        },
        {
         "hovertemplate": "Entity=Nigeria<br>gdp_per_capita=%{x}<br>Life expectancy=%{y}<extra></extra>",
         "legendgroup": "Nigeria",
         "marker": {
          "color": "#FF97FF",
          "symbol": "circle"
         },
         "mode": "markers",
         "name": "Nigeria",
         "orientation": "v",
         "showlegend": true,
         "type": "scatter",
         "x": [
          2412.5783360682376
         ],
         "xaxis": "x",
         "y": [
          52.3
         ],
         "yaxis": "y"
        },
        {
         "hovertemplate": "Entity=Norway<br>gdp_per_capita=%{x}<br>Life expectancy=%{y}<extra></extra>",
         "legendgroup": "Norway",
         "marker": {
          "color": "#FECB52",
          "symbol": "circle"
         },
         "mode": "markers",
         "name": "Norway",
         "orientation": "v",
         "showlegend": true,
         "type": "scatter",
         "x": [
          90981.32256139029
         ],
         "xaxis": "x",
         "y": [
          82.6
         ],
         "yaxis": "y"
        },
        {
         "hovertemplate": "Entity=Pakistan<br>gdp_per_capita=%{x}<br>Life expectancy=%{y}<extra></extra>",
         "legendgroup": "Pakistan",
         "marker": {
          "color": "#636efa",
          "symbol": "circle"
         },
         "mode": "markers",
         "name": "Pakistan",
         "orientation": "v",
         "showlegend": true,
         "type": "scatter",
         "x": [
          1158.4885232469962
         ],
         "xaxis": "x",
         "y": [
          66.3
         ],
         "yaxis": "y"
        },
        {
         "hovertemplate": "Entity=Panama<br>gdp_per_capita=%{x}<br>Life expectancy=%{y}<extra></extra>",
         "legendgroup": "Panama",
         "marker": {
          "color": "#EF553B",
          "symbol": "circle"
         },
         "mode": "markers",
         "name": "Panama",
         "orientation": "v",
         "showlegend": true,
         "type": "scatter",
         "x": [
          11489.693265479986
         ],
         "xaxis": "x",
         "y": [
          77.8
         ],
         "yaxis": "y"
        },
        {
         "hovertemplate": "Entity=Papua New Guinea<br>gdp_per_capita=%{x}<br>Life expectancy=%{y}<extra></extra>",
         "legendgroup": "Papua New Guinea",
         "marker": {
          "color": "#00cc96",
          "symbol": "circle"
         },
         "mode": "markers",
         "name": "Papua New Guinea",
         "orientation": "v",
         "showlegend": true,
         "type": "scatter",
         "x": [
          2348.3947050418583
         ],
         "xaxis": "x",
         "y": [
          65.1
         ],
         "yaxis": "y"
        },
        {
         "hovertemplate": "Entity=Paraguay<br>gdp_per_capita=%{x}<br>Life expectancy=%{y}<extra></extra>",
         "legendgroup": "Paraguay",
         "marker": {
          "color": "#ab63fa",
          "symbol": "circle"
         },
         "mode": "markers",
         "name": "Paraguay",
         "orientation": "v",
         "showlegend": true,
         "type": "scatter",
         "x": [
          3874.246263594248
         ],
         "xaxis": "x",
         "y": [
          73.6
         ],
         "yaxis": "y"
        },
        {
         "hovertemplate": "Entity=Peru<br>gdp_per_capita=%{x}<br>Life expectancy=%{y}<extra></extra>",
         "legendgroup": "Peru",
         "marker": {
          "color": "#FFA15A",
          "symbol": "circle"
         },
         "mode": "markers",
         "name": "Peru",
         "orientation": "v",
         "showlegend": true,
         "type": "scatter",
         "x": [
          6314.326519317802
         ],
         "xaxis": "x",
         "y": [
          75.9
         ],
         "yaxis": "y"
        },
        {
         "hovertemplate": "Entity=Philippines<br>gdp_per_capita=%{x}<br>Life expectancy=%{y}<extra></extra>",
         "legendgroup": "Philippines",
         "marker": {
          "color": "#19d3f3",
          "symbol": "circle"
         },
         "mode": "markers",
         "name": "Philippines",
         "orientation": "v",
         "showlegend": true,
         "type": "scatter",
         "x": [
          2884.3510430859346
         ],
         "xaxis": "x",
         "y": [
          71.5
         ],
         "yaxis": "y"
        },
        {
         "hovertemplate": "Entity=Portugal<br>gdp_per_capita=%{x}<br>Life expectancy=%{y}<extra></extra>",
         "legendgroup": "Portugal",
         "marker": {
          "color": "#FF6692",
          "symbol": "circle"
         },
         "mode": "markers",
         "name": "Portugal",
         "orientation": "v",
         "showlegend": true,
         "type": "scatter",
         "x": [
          23127.1793929723
         ],
         "xaxis": "x",
         "y": [
          81.5
         ],
         "yaxis": "y"
        },
        {
         "hovertemplate": "Entity=Rwanda<br>gdp_per_capita=%{x}<br>Life expectancy=%{y}<extra></extra>",
         "legendgroup": "Rwanda",
         "marker": {
          "color": "#B6E880",
          "symbol": "circle"
         },
         "mode": "markers",
         "name": "Rwanda",
         "orientation": "v",
         "showlegend": true,
         "type": "scatter",
         "x": [
          779.7490066089041
         ],
         "xaxis": "x",
         "y": [
          65.9
         ],
         "yaxis": "y"
        },
        {
         "hovertemplate": "Entity=Saint Vincent and the Grenadines<br>gdp_per_capita=%{x}<br>Life expectancy=%{y}<extra></extra>",
         "legendgroup": "Saint Vincent and the Grenadines",
         "marker": {
          "color": "#FF97FF",
          "symbol": "circle"
         },
         "mode": "markers",
         "name": "Saint Vincent and the Grenadines",
         "orientation": "v",
         "showlegend": true,
         "type": "scatter",
         "x": [
          6735.514265390299
         ],
         "xaxis": "x",
         "y": [
          74.3
         ],
         "yaxis": "y"
        },
        {
         "hovertemplate": "Entity=Senegal<br>gdp_per_capita=%{x}<br>Life expectancy=%{y}<extra></extra>",
         "legendgroup": "Senegal",
         "marker": {
          "color": "#FECB52",
          "symbol": "circle"
         },
         "mode": "markers",
         "name": "Senegal",
         "orientation": "v",
         "showlegend": true,
         "type": "scatter",
         "x": [
          1165.824407244004
         ],
         "xaxis": "x",
         "y": [
          67.8
         ],
         "yaxis": "y"
        },
        {
         "hovertemplate": "Entity=Seychelles<br>gdp_per_capita=%{x}<br>Life expectancy=%{y}<extra></extra>",
         "legendgroup": "Seychelles",
         "marker": {
          "color": "#636efa",
          "symbol": "circle"
         },
         "mode": "markers",
         "name": "Seychelles",
         "orientation": "v",
         "showlegend": true,
         "type": "scatter",
         "x": [
          13974.193431753958
         ],
         "xaxis": "x",
         "y": [
          73.8
         ],
         "yaxis": "y"
        },
        {
         "hovertemplate": "Entity=Sierra Leone<br>gdp_per_capita=%{x}<br>Life expectancy=%{y}<extra></extra>",
         "legendgroup": "Sierra Leone",
         "marker": {
          "color": "#EF553B",
          "symbol": "circle"
         },
         "mode": "markers",
         "name": "Sierra Leone",
         "orientation": "v",
         "showlegend": true,
         "type": "scatter",
         "x": [
          466.7321194998571
         ],
         "xaxis": "x",
         "y": [
          58.7
         ],
         "yaxis": "y"
        },
        {
         "hovertemplate": "Entity=Singapore<br>gdp_per_capita=%{x}<br>Life expectancy=%{y}<extra></extra>",
         "legendgroup": "Singapore",
         "marker": {
          "color": "#00cc96",
          "symbol": "circle"
         },
         "mode": "markers",
         "name": "Singapore",
         "orientation": "v",
         "showlegend": true,
         "type": "scatter",
         "x": [
          54308.982638511385
         ],
         "xaxis": "x",
         "y": [
          83.2
         ],
         "yaxis": "y"
        },
        {
         "hovertemplate": "Entity=South Africa<br>gdp_per_capita=%{x}<br>Life expectancy=%{y}<extra></extra>",
         "legendgroup": "South Africa",
         "marker": {
          "color": "#ab63fa",
          "symbol": "circle"
         },
         "mode": "markers",
         "name": "South Africa",
         "orientation": "v",
         "showlegend": true,
         "type": "scatter",
         "x": [
          7485.8599310439395
         ],
         "xaxis": "x",
         "y": [
          65.4
         ],
         "yaxis": "y"
        },
        {
         "hovertemplate": "Entity=South Korea<br>gdp_per_capita=%{x}<br>Life expectancy=%{y}<extra></extra>",
         "legendgroup": "South Korea",
         "marker": {
          "color": "#FFA15A",
          "symbol": "circle"
         },
         "mode": "markers",
         "name": "South Korea",
         "orientation": "v",
         "showlegend": true,
         "type": "scatter",
         "x": [
          26341.50760170933
         ],
         "xaxis": "x",
         "y": [
          83.3
         ],
         "yaxis": "y"
        },
        {
         "hovertemplate": "Entity=Spain<br>gdp_per_capita=%{x}<br>Life expectancy=%{y}<extra></extra>",
         "legendgroup": "Spain",
         "marker": {
          "color": "#19d3f3",
          "symbol": "circle"
         },
         "mode": "markers",
         "name": "Spain",
         "orientation": "v",
         "showlegend": true,
         "type": "scatter",
         "x": [
          32353.667637547966
         ],
         "xaxis": "x",
         "y": [
          83
         ],
         "yaxis": "y"
        },
        {
         "hovertemplate": "Entity=Sudan<br>gdp_per_capita=%{x}<br>Life expectancy=%{y}<extra></extra>",
         "legendgroup": "Sudan",
         "marker": {
          "color": "#FF6692",
          "symbol": "circle"
         },
         "mode": "markers",
         "name": "Sudan",
         "orientation": "v",
         "showlegend": true,
         "type": "scatter",
         "x": [
          1945.7284749482765
         ],
         "xaxis": "x",
         "y": [
          65.4
         ],
         "yaxis": "y"
        },
        {
         "hovertemplate": "Entity=Sweden<br>gdp_per_capita=%{x}<br>Life expectancy=%{y}<extra></extra>",
         "legendgroup": "Sweden",
         "marker": {
          "color": "#B6E880",
          "symbol": "circle"
         },
         "mode": "markers",
         "name": "Sweden",
         "orientation": "v",
         "showlegend": true,
         "type": "scatter",
         "x": [
          57870.66129200807
         ],
         "xaxis": "x",
         "y": [
          82.4
         ],
         "yaxis": "y"
        },
        {
         "hovertemplate": "Entity=Thailand<br>gdp_per_capita=%{x}<br>Life expectancy=%{y}<extra></extra>",
         "legendgroup": "Thailand",
         "marker": {
          "color": "#FF97FF",
          "symbol": "circle"
         },
         "mode": "markers",
         "name": "Thailand",
         "orientation": "v",
         "showlegend": true,
         "type": "scatter",
         "x": [
          6110.393755646091
         ],
         "xaxis": "x",
         "y": [
          78.4
         ],
         "yaxis": "y"
        },
        {
         "hovertemplate": "Entity=Togo<br>gdp_per_capita=%{x}<br>Life expectancy=%{y}<extra></extra>",
         "legendgroup": "Togo",
         "marker": {
          "color": "#FECB52",
          "symbol": "circle"
         },
         "mode": "markers",
         "name": "Togo",
         "orientation": "v",
         "showlegend": true,
         "type": "scatter",
         "x": [
          584.8597238590712
         ],
         "xaxis": "x",
         "y": [
          60.2
         ],
         "yaxis": "y"
        },
        {
         "hovertemplate": "Entity=Trinidad and Tobago<br>gdp_per_capita=%{x}<br>Life expectancy=%{y}<extra></extra>",
         "legendgroup": "Trinidad and Tobago",
         "marker": {
          "color": "#636efa",
          "symbol": "circle"
         },
         "mode": "markers",
         "name": "Trinidad and Tobago",
         "orientation": "v",
         "showlegend": true,
         "type": "scatter",
         "x": [
          15185.862214853612
         ],
         "xaxis": "x",
         "y": [
          74.2
         ],
         "yaxis": "y"
        },
        {
         "hovertemplate": "Entity=Turkey<br>gdp_per_capita=%{x}<br>Life expectancy=%{y}<extra></extra>",
         "legendgroup": "Turkey",
         "marker": {
          "color": "#EF553B",
          "symbol": "circle"
         },
         "mode": "markers",
         "name": "Turkey",
         "orientation": "v",
         "showlegend": true,
         "type": "scatter",
         "x": [
          14864.968662745698
         ],
         "xaxis": "x",
         "y": [
          77.1
         ],
         "yaxis": "y"
        },
        {
         "hovertemplate": "Entity=United Kingdom<br>gdp_per_capita=%{x}<br>Life expectancy=%{y}<extra></extra>",
         "legendgroup": "United Kingdom",
         "marker": {
          "color": "#00cc96",
          "symbol": "circle"
         },
         "mode": "markers",
         "name": "United Kingdom",
         "orientation": "v",
         "showlegend": true,
         "type": "scatter",
         "x": [
          42065.47719657815
         ],
         "xaxis": "x",
         "y": [
          81.2
         ],
         "yaxis": "y"
        },
        {
         "hovertemplate": "Entity=United States<br>gdp_per_capita=%{x}<br>Life expectancy=%{y}<extra></extra>",
         "legendgroup": "United States",
         "marker": {
          "color": "#ab63fa",
          "symbol": "circle"
         },
         "mode": "markers",
         "name": "United States",
         "orientation": "v",
         "showlegend": true,
         "type": "scatter",
         "x": [
          53232.18452176347
         ],
         "xaxis": "x",
         "y": [
          78.8
         ],
         "yaxis": "y"
        },
        {
         "hovertemplate": "Entity=Uruguay<br>gdp_per_capita=%{x}<br>Life expectancy=%{y}<extra></extra>",
         "legendgroup": "Uruguay",
         "marker": {
          "color": "#FFA15A",
          "symbol": "circle"
         },
         "mode": "markers",
         "name": "Uruguay",
         "orientation": "v",
         "showlegend": true,
         "type": "scatter",
         "x": [
          14445.09266111056
         ],
         "xaxis": "x",
         "y": [
          77.6
         ],
         "yaxis": "y"
        },
        {
         "hovertemplate": "Entity=Zambia<br>gdp_per_capita=%{x}<br>Life expectancy=%{y}<extra></extra>",
         "legendgroup": "Zambia",
         "marker": {
          "color": "#19d3f3",
          "symbol": "circle"
         },
         "mode": "markers",
         "name": "Zambia",
         "orientation": "v",
         "showlegend": true,
         "type": "scatter",
         "x": [
          1669.5975269283852
         ],
         "xaxis": "x",
         "y": [
          62.1
         ],
         "yaxis": "y"
        },
        {
         "hovertemplate": "Entity=Zimbabwe<br>gdp_per_capita=%{x}<br>Life expectancy=%{y}<extra></extra>",
         "legendgroup": "Zimbabwe",
         "marker": {
          "color": "#FF6692",
          "symbol": "circle"
         },
         "mode": "markers",
         "name": "Zimbabwe",
         "orientation": "v",
         "showlegend": true,
         "type": "scatter",
         "x": [
          1076.7585014988622
         ],
         "xaxis": "x",
         "y": [
          60.7
         ],
         "yaxis": "y"
        }
       ],
       "layout": {
        "legend": {
         "title": {
          "text": "Entity"
         },
         "tracegroupgap": 0
        },
        "margin": {
         "t": 60
        },
        "template": {
         "data": {
          "bar": [
           {
            "error_x": {
             "color": "#2a3f5f"
            },
            "error_y": {
             "color": "#2a3f5f"
            },
            "marker": {
             "line": {
              "color": "#E5ECF6",
              "width": 0.5
             },
             "pattern": {
              "fillmode": "overlay",
              "size": 10,
              "solidity": 0.2
             }
            },
            "type": "bar"
           }
          ],
          "barpolar": [
           {
            "marker": {
             "line": {
              "color": "#E5ECF6",
              "width": 0.5
             },
             "pattern": {
              "fillmode": "overlay",
              "size": 10,
              "solidity": 0.2
             }
            },
            "type": "barpolar"
           }
          ],
          "carpet": [
           {
            "aaxis": {
             "endlinecolor": "#2a3f5f",
             "gridcolor": "white",
             "linecolor": "white",
             "minorgridcolor": "white",
             "startlinecolor": "#2a3f5f"
            },
            "baxis": {
             "endlinecolor": "#2a3f5f",
             "gridcolor": "white",
             "linecolor": "white",
             "minorgridcolor": "white",
             "startlinecolor": "#2a3f5f"
            },
            "type": "carpet"
           }
          ],
          "choropleth": [
           {
            "colorbar": {
             "outlinewidth": 0,
             "ticks": ""
            },
            "type": "choropleth"
           }
          ],
          "contour": [
           {
            "colorbar": {
             "outlinewidth": 0,
             "ticks": ""
            },
            "colorscale": [
             [
              0,
              "#0d0887"
             ],
             [
              0.1111111111111111,
              "#46039f"
             ],
             [
              0.2222222222222222,
              "#7201a8"
             ],
             [
              0.3333333333333333,
              "#9c179e"
             ],
             [
              0.4444444444444444,
              "#bd3786"
             ],
             [
              0.5555555555555556,
              "#d8576b"
             ],
             [
              0.6666666666666666,
              "#ed7953"
             ],
             [
              0.7777777777777778,
              "#fb9f3a"
             ],
             [
              0.8888888888888888,
              "#fdca26"
             ],
             [
              1,
              "#f0f921"
             ]
            ],
            "type": "contour"
           }
          ],
          "contourcarpet": [
           {
            "colorbar": {
             "outlinewidth": 0,
             "ticks": ""
            },
            "type": "contourcarpet"
           }
          ],
          "heatmap": [
           {
            "colorbar": {
             "outlinewidth": 0,
             "ticks": ""
            },
            "colorscale": [
             [
              0,
              "#0d0887"
             ],
             [
              0.1111111111111111,
              "#46039f"
             ],
             [
              0.2222222222222222,
              "#7201a8"
             ],
             [
              0.3333333333333333,
              "#9c179e"
             ],
             [
              0.4444444444444444,
              "#bd3786"
             ],
             [
              0.5555555555555556,
              "#d8576b"
             ],
             [
              0.6666666666666666,
              "#ed7953"
             ],
             [
              0.7777777777777778,
              "#fb9f3a"
             ],
             [
              0.8888888888888888,
              "#fdca26"
             ],
             [
              1,
              "#f0f921"
             ]
            ],
            "type": "heatmap"
           }
          ],
          "heatmapgl": [
           {
            "colorbar": {
             "outlinewidth": 0,
             "ticks": ""
            },
            "colorscale": [
             [
              0,
              "#0d0887"
             ],
             [
              0.1111111111111111,
              "#46039f"
             ],
             [
              0.2222222222222222,
              "#7201a8"
             ],
             [
              0.3333333333333333,
              "#9c179e"
             ],
             [
              0.4444444444444444,
              "#bd3786"
             ],
             [
              0.5555555555555556,
              "#d8576b"
             ],
             [
              0.6666666666666666,
              "#ed7953"
             ],
             [
              0.7777777777777778,
              "#fb9f3a"
             ],
             [
              0.8888888888888888,
              "#fdca26"
             ],
             [
              1,
              "#f0f921"
             ]
            ],
            "type": "heatmapgl"
           }
          ],
          "histogram": [
           {
            "marker": {
             "pattern": {
              "fillmode": "overlay",
              "size": 10,
              "solidity": 0.2
             }
            },
            "type": "histogram"
           }
          ],
          "histogram2d": [
           {
            "colorbar": {
             "outlinewidth": 0,
             "ticks": ""
            },
            "colorscale": [
             [
              0,
              "#0d0887"
             ],
             [
              0.1111111111111111,
              "#46039f"
             ],
             [
              0.2222222222222222,
              "#7201a8"
             ],
             [
              0.3333333333333333,
              "#9c179e"
             ],
             [
              0.4444444444444444,
              "#bd3786"
             ],
             [
              0.5555555555555556,
              "#d8576b"
             ],
             [
              0.6666666666666666,
              "#ed7953"
             ],
             [
              0.7777777777777778,
              "#fb9f3a"
             ],
             [
              0.8888888888888888,
              "#fdca26"
             ],
             [
              1,
              "#f0f921"
             ]
            ],
            "type": "histogram2d"
           }
          ],
          "histogram2dcontour": [
           {
            "colorbar": {
             "outlinewidth": 0,
             "ticks": ""
            },
            "colorscale": [
             [
              0,
              "#0d0887"
             ],
             [
              0.1111111111111111,
              "#46039f"
             ],
             [
              0.2222222222222222,
              "#7201a8"
             ],
             [
              0.3333333333333333,
              "#9c179e"
             ],
             [
              0.4444444444444444,
              "#bd3786"
             ],
             [
              0.5555555555555556,
              "#d8576b"
             ],
             [
              0.6666666666666666,
              "#ed7953"
             ],
             [
              0.7777777777777778,
              "#fb9f3a"
             ],
             [
              0.8888888888888888,
              "#fdca26"
             ],
             [
              1,
              "#f0f921"
             ]
            ],
            "type": "histogram2dcontour"
           }
          ],
          "mesh3d": [
           {
            "colorbar": {
             "outlinewidth": 0,
             "ticks": ""
            },
            "type": "mesh3d"
           }
          ],
          "parcoords": [
           {
            "line": {
             "colorbar": {
              "outlinewidth": 0,
              "ticks": ""
             }
            },
            "type": "parcoords"
           }
          ],
          "pie": [
           {
            "automargin": true,
            "type": "pie"
           }
          ],
          "scatter": [
           {
            "fillpattern": {
             "fillmode": "overlay",
             "size": 10,
             "solidity": 0.2
            },
            "type": "scatter"
           }
          ],
          "scatter3d": [
           {
            "line": {
             "colorbar": {
              "outlinewidth": 0,
              "ticks": ""
             }
            },
            "marker": {
             "colorbar": {
              "outlinewidth": 0,
              "ticks": ""
             }
            },
            "type": "scatter3d"
           }
          ],
          "scattercarpet": [
           {
            "marker": {
             "colorbar": {
              "outlinewidth": 0,
              "ticks": ""
             }
            },
            "type": "scattercarpet"
           }
          ],
          "scattergeo": [
           {
            "marker": {
             "colorbar": {
              "outlinewidth": 0,
              "ticks": ""
             }
            },
            "type": "scattergeo"
           }
          ],
          "scattergl": [
           {
            "marker": {
             "colorbar": {
              "outlinewidth": 0,
              "ticks": ""
             }
            },
            "type": "scattergl"
           }
          ],
          "scattermapbox": [
           {
            "marker": {
             "colorbar": {
              "outlinewidth": 0,
              "ticks": ""
             }
            },
            "type": "scattermapbox"
           }
          ],
          "scatterpolar": [
           {
            "marker": {
             "colorbar": {
              "outlinewidth": 0,
              "ticks": ""
             }
            },
            "type": "scatterpolar"
           }
          ],
          "scatterpolargl": [
           {
            "marker": {
             "colorbar": {
              "outlinewidth": 0,
              "ticks": ""
             }
            },
            "type": "scatterpolargl"
           }
          ],
          "scatterternary": [
           {
            "marker": {
             "colorbar": {
              "outlinewidth": 0,
              "ticks": ""
             }
            },
            "type": "scatterternary"
           }
          ],
          "surface": [
           {
            "colorbar": {
             "outlinewidth": 0,
             "ticks": ""
            },
            "colorscale": [
             [
              0,
              "#0d0887"
             ],
             [
              0.1111111111111111,
              "#46039f"
             ],
             [
              0.2222222222222222,
              "#7201a8"
             ],
             [
              0.3333333333333333,
              "#9c179e"
             ],
             [
              0.4444444444444444,
              "#bd3786"
             ],
             [
              0.5555555555555556,
              "#d8576b"
             ],
             [
              0.6666666666666666,
              "#ed7953"
             ],
             [
              0.7777777777777778,
              "#fb9f3a"
             ],
             [
              0.8888888888888888,
              "#fdca26"
             ],
             [
              1,
              "#f0f921"
             ]
            ],
            "type": "surface"
           }
          ],
          "table": [
           {
            "cells": {
             "fill": {
              "color": "#EBF0F8"
             },
             "line": {
              "color": "white"
             }
            },
            "header": {
             "fill": {
              "color": "#C8D4E3"
             },
             "line": {
              "color": "white"
             }
            },
            "type": "table"
           }
          ]
         },
         "layout": {
          "annotationdefaults": {
           "arrowcolor": "#2a3f5f",
           "arrowhead": 0,
           "arrowwidth": 1
          },
          "autotypenumbers": "strict",
          "coloraxis": {
           "colorbar": {
            "outlinewidth": 0,
            "ticks": ""
           }
          },
          "colorscale": {
           "diverging": [
            [
             0,
             "#8e0152"
            ],
            [
             0.1,
             "#c51b7d"
            ],
            [
             0.2,
             "#de77ae"
            ],
            [
             0.3,
             "#f1b6da"
            ],
            [
             0.4,
             "#fde0ef"
            ],
            [
             0.5,
             "#f7f7f7"
            ],
            [
             0.6,
             "#e6f5d0"
            ],
            [
             0.7,
             "#b8e186"
            ],
            [
             0.8,
             "#7fbc41"
            ],
            [
             0.9,
             "#4d9221"
            ],
            [
             1,
             "#276419"
            ]
           ],
           "sequential": [
            [
             0,
             "#0d0887"
            ],
            [
             0.1111111111111111,
             "#46039f"
            ],
            [
             0.2222222222222222,
             "#7201a8"
            ],
            [
             0.3333333333333333,
             "#9c179e"
            ],
            [
             0.4444444444444444,
             "#bd3786"
            ],
            [
             0.5555555555555556,
             "#d8576b"
            ],
            [
             0.6666666666666666,
             "#ed7953"
            ],
            [
             0.7777777777777778,
             "#fb9f3a"
            ],
            [
             0.8888888888888888,
             "#fdca26"
            ],
            [
             1,
             "#f0f921"
            ]
           ],
           "sequentialminus": [
            [
             0,
             "#0d0887"
            ],
            [
             0.1111111111111111,
             "#46039f"
            ],
            [
             0.2222222222222222,
             "#7201a8"
            ],
            [
             0.3333333333333333,
             "#9c179e"
            ],
            [
             0.4444444444444444,
             "#bd3786"
            ],
            [
             0.5555555555555556,
             "#d8576b"
            ],
            [
             0.6666666666666666,
             "#ed7953"
            ],
            [
             0.7777777777777778,
             "#fb9f3a"
            ],
            [
             0.8888888888888888,
             "#fdca26"
            ],
            [
             1,
             "#f0f921"
            ]
           ]
          },
          "colorway": [
           "#636efa",
           "#EF553B",
           "#00cc96",
           "#ab63fa",
           "#FFA15A",
           "#19d3f3",
           "#FF6692",
           "#B6E880",
           "#FF97FF",
           "#FECB52"
          ],
          "font": {
           "color": "#2a3f5f"
          },
          "geo": {
           "bgcolor": "white",
           "lakecolor": "white",
           "landcolor": "#E5ECF6",
           "showlakes": true,
           "showland": true,
           "subunitcolor": "white"
          },
          "hoverlabel": {
           "align": "left"
          },
          "hovermode": "closest",
          "mapbox": {
           "style": "light"
          },
          "paper_bgcolor": "white",
          "plot_bgcolor": "#E5ECF6",
          "polar": {
           "angularaxis": {
            "gridcolor": "white",
            "linecolor": "white",
            "ticks": ""
           },
           "bgcolor": "#E5ECF6",
           "radialaxis": {
            "gridcolor": "white",
            "linecolor": "white",
            "ticks": ""
           }
          },
          "scene": {
           "xaxis": {
            "backgroundcolor": "#E5ECF6",
            "gridcolor": "white",
            "gridwidth": 2,
            "linecolor": "white",
            "showbackground": true,
            "ticks": "",
            "zerolinecolor": "white"
           },
           "yaxis": {
            "backgroundcolor": "#E5ECF6",
            "gridcolor": "white",
            "gridwidth": 2,
            "linecolor": "white",
            "showbackground": true,
            "ticks": "",
            "zerolinecolor": "white"
           },
           "zaxis": {
            "backgroundcolor": "#E5ECF6",
            "gridcolor": "white",
            "gridwidth": 2,
            "linecolor": "white",
            "showbackground": true,
            "ticks": "",
            "zerolinecolor": "white"
           }
          },
          "shapedefaults": {
           "line": {
            "color": "#2a3f5f"
           }
          },
          "ternary": {
           "aaxis": {
            "gridcolor": "white",
            "linecolor": "white",
            "ticks": ""
           },
           "baxis": {
            "gridcolor": "white",
            "linecolor": "white",
            "ticks": ""
           },
           "bgcolor": "#E5ECF6",
           "caxis": {
            "gridcolor": "white",
            "linecolor": "white",
            "ticks": ""
           }
          },
          "title": {
           "x": 0.05
          },
          "xaxis": {
           "automargin": true,
           "gridcolor": "white",
           "linecolor": "white",
           "ticks": "",
           "title": {
            "standoff": 15
           },
           "zerolinecolor": "white",
           "zerolinewidth": 2
          },
          "yaxis": {
           "automargin": true,
           "gridcolor": "white",
           "linecolor": "white",
           "ticks": "",
           "title": {
            "standoff": 15
           },
           "zerolinecolor": "white",
           "zerolinewidth": 2
          }
         }
        },
        "xaxis": {
         "anchor": "y",
         "domain": [
          0,
          1
         ],
         "title": {
          "text": "gdp_per_capita"
         },
         "type": "log"
        },
        "yaxis": {
         "anchor": "x",
         "domain": [
          0,
          1
         ],
         "title": {
          "text": "Life expectancy"
         }
        }
       }
      },
      "text/html": [
       "<div>                            <div id=\"8d81d4e6-b601-445e-8dc4-4b8c264d3ba1\" class=\"plotly-graph-div\" style=\"height:525px; width:100%;\"></div>            <script type=\"text/javascript\">                require([\"plotly\"], function(Plotly) {                    window.PLOTLYENV=window.PLOTLYENV || {};                                    if (document.getElementById(\"8d81d4e6-b601-445e-8dc4-4b8c264d3ba1\")) {                    Plotly.newPlot(                        \"8d81d4e6-b601-445e-8dc4-4b8c264d3ba1\",                        [{\"hovertemplate\":\"Entity=Algeria<br>gdp_per_capita=%{x}<br>Life expectancy=%{y}<extra></extra>\",\"legendgroup\":\"Algeria\",\"marker\":{\"color\":\"#636efa\",\"symbol\":\"circle\"},\"mode\":\"markers\",\"name\":\"Algeria\",\"orientation\":\"v\",\"showlegend\":true,\"x\":[4816.917875943996],\"xaxis\":\"x\",\"y\":[75.7],\"yaxis\":\"y\",\"type\":\"scatter\"},{\"hovertemplate\":\"Entity=Argentina<br>gdp_per_capita=%{x}<br>Life expectancy=%{y}<extra></extra>\",\"legendgroup\":\"Argentina\",\"marker\":{\"color\":\"#EF553B\",\"symbol\":\"circle\"},\"mode\":\"markers\",\"name\":\"Argentina\",\"orientation\":\"v\",\"showlegend\":true,\"x\":[10477.146319354326],\"xaxis\":\"x\",\"y\":[76.8],\"yaxis\":\"y\",\"type\":\"scatter\"},{\"hovertemplate\":\"Entity=Australia<br>gdp_per_capita=%{x}<br>Life expectancy=%{y}<extra></extra>\",\"legendgroup\":\"Australia\",\"marker\":{\"color\":\"#00cc96\",\"symbol\":\"circle\"},\"mode\":\"markers\",\"name\":\"Australia\",\"orientation\":\"v\",\"showlegend\":true,\"x\":[55957.626590364045],\"xaxis\":\"x\",\"y\":[83.0],\"yaxis\":\"y\",\"type\":\"scatter\"},{\"hovertemplate\":\"Entity=Austria<br>gdp_per_capita=%{x}<br>Life expectancy=%{y}<extra></extra>\",\"legendgroup\":\"Austria\",\"marker\":{\"color\":\"#ab63fa\",\"symbol\":\"circle\"},\"mode\":\"markers\",\"name\":\"Austria\",\"orientation\":\"v\",\"showlegend\":true,\"x\":[49069.142261829365],\"xaxis\":\"x\",\"y\":[81.6],\"yaxis\":\"y\",\"type\":\"scatter\"},{\"hovertemplate\":\"Entity=Bahamas<br>gdp_per_capita=%{x}<br>Life expectancy=%{y}<extra></extra>\",\"legendgroup\":\"Bahamas\",\"marker\":{\"color\":\"#FFA15A\",\"symbol\":\"circle\"},\"mode\":\"markers\",\"name\":\"Bahamas\",\"orientation\":\"v\",\"showlegend\":true,\"x\":[27467.183467529583],\"xaxis\":\"x\",\"y\":[73.6],\"yaxis\":\"y\",\"type\":\"scatter\"},{\"hovertemplate\":\"Entity=Bangladesh<br>gdp_per_capita=%{x}<br>Life expectancy=%{y}<extra></extra>\",\"legendgroup\":\"Bangladesh\",\"marker\":{\"color\":\"#19d3f3\",\"symbol\":\"circle\"},\"mode\":\"markers\",\"name\":\"Bangladesh\",\"orientation\":\"v\",\"showlegend\":true,\"x\":[1127.1701207960982],\"xaxis\":\"x\",\"y\":[71.8],\"yaxis\":\"y\",\"type\":\"scatter\"},{\"hovertemplate\":\"Entity=Belgium<br>gdp_per_capita=%{x}<br>Life expectancy=%{y}<extra></extra>\",\"legendgroup\":\"Belgium\",\"marker\":{\"color\":\"#FF6692\",\"symbol\":\"circle\"},\"mode\":\"markers\",\"name\":\"Belgium\",\"orientation\":\"v\",\"showlegend\":true,\"x\":[45885.52670298003],\"xaxis\":\"x\",\"y\":[81.4],\"yaxis\":\"y\",\"type\":\"scatter\"},{\"hovertemplate\":\"Entity=Belize<br>gdp_per_capita=%{x}<br>Life expectancy=%{y}<extra></extra>\",\"legendgroup\":\"Belize\",\"marker\":{\"color\":\"#B6E880\",\"symbol\":\"circle\"},\"mode\":\"markers\",\"name\":\"Belize\",\"orientation\":\"v\",\"showlegend\":true,\"x\":[4300.087271401622],\"xaxis\":\"x\",\"y\":[73.6],\"yaxis\":\"y\",\"type\":\"scatter\"},{\"hovertemplate\":\"Entity=Benin<br>gdp_per_capita=%{x}<br>Life expectancy=%{y}<extra></extra>\",\"legendgroup\":\"Benin\",\"marker\":{\"color\":\"#FF97FF\",\"symbol\":\"circle\"},\"mode\":\"markers\",\"name\":\"Benin\",\"orientation\":\"v\",\"showlegend\":true,\"x\":[860.0059374439847],\"xaxis\":\"x\",\"y\":[59.9],\"yaxis\":\"y\",\"type\":\"scatter\"},{\"hovertemplate\":\"Entity=Bolivia<br>gdp_per_capita=%{x}<br>Life expectancy=%{y}<extra></extra>\",\"legendgroup\":\"Bolivia\",\"marker\":{\"color\":\"#FECB52\",\"symbol\":\"circle\"},\"mode\":\"markers\",\"name\":\"Bolivia\",\"orientation\":\"v\",\"showlegend\":true,\"x\":[2490.9237281358346],\"xaxis\":\"x\",\"y\":[67.7],\"yaxis\":\"y\",\"type\":\"scatter\"},{\"hovertemplate\":\"Entity=Botswana<br>gdp_per_capita=%{x}<br>Life expectancy=%{y}<extra></extra>\",\"legendgroup\":\"Botswana\",\"marker\":{\"color\":\"#636efa\",\"symbol\":\"circle\"},\"mode\":\"markers\",\"name\":\"Botswana\",\"orientation\":\"v\",\"showlegend\":true,\"x\":[7818.89407485687],\"xaxis\":\"x\",\"y\":[66.8],\"yaxis\":\"y\",\"type\":\"scatter\"},{\"hovertemplate\":\"Entity=Brazil<br>gdp_per_capita=%{x}<br>Life expectancy=%{y}<extra></extra>\",\"legendgroup\":\"Brazil\",\"marker\":{\"color\":\"#EF553B\",\"symbol\":\"circle\"},\"mode\":\"markers\",\"name\":\"Brazil\",\"orientation\":\"v\",\"showlegend\":true,\"x\":[10965.175921972874],\"xaxis\":\"x\",\"y\":[74.8],\"yaxis\":\"y\",\"type\":\"scatter\"},{\"hovertemplate\":\"Entity=Burkina Faso<br>gdp_per_capita=%{x}<br>Life expectancy=%{y}<extra></extra>\",\"legendgroup\":\"Burkina Faso\",\"marker\":{\"color\":\"#00cc96\",\"symbol\":\"circle\"},\"mode\":\"markers\",\"name\":\"Burkina Faso\",\"orientation\":\"v\",\"showlegend\":true,\"x\":[688.5475953218569],\"xaxis\":\"x\",\"y\":[59.5],\"yaxis\":\"y\",\"type\":\"scatter\"},{\"hovertemplate\":\"Entity=Burundi<br>gdp_per_capita=%{x}<br>Life expectancy=%{y}<extra></extra>\",\"legendgroup\":\"Burundi\",\"marker\":{\"color\":\"#ab63fa\",\"symbol\":\"circle\"},\"mode\":\"markers\",\"name\":\"Burundi\",\"orientation\":\"v\",\"showlegend\":true,\"x\":[213.27858761188048],\"xaxis\":\"x\",\"y\":[61.6],\"yaxis\":\"y\",\"type\":\"scatter\"},{\"hovertemplate\":\"Entity=Cameroon<br>gdp_per_capita=%{x}<br>Life expectancy=%{y}<extra></extra>\",\"legendgroup\":\"Cameroon\",\"marker\":{\"color\":\"#FFA15A\",\"symbol\":\"circle\"},\"mode\":\"markers\",\"name\":\"Cameroon\",\"orientation\":\"v\",\"showlegend\":true,\"x\":[1472.181498185256],\"xaxis\":\"x\",\"y\":[60.8],\"yaxis\":\"y\",\"type\":\"scatter\"},{\"hovertemplate\":\"Entity=Canada<br>gdp_per_capita=%{x}<br>Life expectancy=%{y}<extra></extra>\",\"legendgroup\":\"Canada\",\"marker\":{\"color\":\"#19d3f3\",\"symbol\":\"circle\"},\"mode\":\"markers\",\"name\":\"Canada\",\"orientation\":\"v\",\"showlegend\":true,\"x\":[51282.4760892625],\"xaxis\":\"x\",\"y\":[82.0],\"yaxis\":\"y\",\"type\":\"scatter\"},{\"hovertemplate\":\"Entity=Central African Republic<br>gdp_per_capita=%{x}<br>Life expectancy=%{y}<extra></extra>\",\"legendgroup\":\"Central African Republic\",\"marker\":{\"color\":\"#FF6692\",\"symbol\":\"circle\"},\"mode\":\"markers\",\"name\":\"Central African Republic\",\"orientation\":\"v\",\"showlegend\":true,\"x\":[339.62431132785247],\"xaxis\":\"x\",\"y\":[53.7],\"yaxis\":\"y\",\"type\":\"scatter\"},{\"hovertemplate\":\"Entity=Chad<br>gdp_per_capita=%{x}<br>Life expectancy=%{y}<extra></extra>\",\"legendgroup\":\"Chad\",\"marker\":{\"color\":\"#B6E880\",\"symbol\":\"circle\"},\"mode\":\"markers\",\"name\":\"Chad\",\"orientation\":\"v\",\"showlegend\":true,\"x\":[817.0190414555237],\"xaxis\":\"x\",\"y\":[52.3],\"yaxis\":\"y\",\"type\":\"scatter\"},{\"hovertemplate\":\"Entity=Chile<br>gdp_per_capita=%{x}<br>Life expectancy=%{y}<extra></extra>\",\"legendgroup\":\"Chile\",\"marker\":{\"color\":\"#FF97FF\",\"symbol\":\"circle\"},\"mode\":\"markers\",\"name\":\"Chile\",\"orientation\":\"v\",\"showlegend\":true,\"x\":[14720.936133199892],\"xaxis\":\"x\",\"y\":[80.4],\"yaxis\":\"y\",\"type\":\"scatter\"},{\"hovertemplate\":\"Entity=China<br>gdp_per_capita=%{x}<br>Life expectancy=%{y}<extra></extra>\",\"legendgroup\":\"China\",\"marker\":{\"color\":\"#FECB52\",\"symbol\":\"circle\"},\"mode\":\"markers\",\"name\":\"China\",\"orientation\":\"v\",\"showlegend\":true,\"x\":[7150.496686254078],\"xaxis\":\"x\",\"y\":[77.2],\"yaxis\":\"y\",\"type\":\"scatter\"},{\"hovertemplate\":\"Entity=Colombia<br>gdp_per_capita=%{x}<br>Life expectancy=%{y}<extra></extra>\",\"legendgroup\":\"Colombia\",\"marker\":{\"color\":\"#636efa\",\"symbol\":\"circle\"},\"mode\":\"markers\",\"name\":\"Colombia\",\"orientation\":\"v\",\"showlegend\":true,\"x\":[7624.942176500532],\"xaxis\":\"x\",\"y\":[76.6],\"yaxis\":\"y\",\"type\":\"scatter\"},{\"hovertemplate\":\"Entity=Congo<br>gdp_per_capita=%{x}<br>Life expectancy=%{y}<extra></extra>\",\"legendgroup\":\"Congo\",\"marker\":{\"color\":\"#EF553B\",\"symbol\":\"circle\"},\"mode\":\"markers\",\"name\":\"Congo\",\"orientation\":\"v\",\"showlegend\":true,\"x\":[2651.883363736803],\"xaxis\":\"x\",\"y\":[63.8],\"yaxis\":\"y\",\"type\":\"scatter\"},{\"hovertemplate\":\"Entity=Costa Rica<br>gdp_per_capita=%{x}<br>Life expectancy=%{y}<extra></extra>\",\"legendgroup\":\"Costa Rica\",\"marker\":{\"color\":\"#00cc96\",\"symbol\":\"circle\"},\"mode\":\"markers\",\"name\":\"Costa Rica\",\"orientation\":\"v\",\"showlegend\":true,\"x\":[9704.498759439171],\"xaxis\":\"x\",\"y\":[79.4],\"yaxis\":\"y\",\"type\":\"scatter\"},{\"hovertemplate\":\"Entity=Cote d'Ivoire<br>gdp_per_capita=%{x}<br>Life expectancy=%{y}<extra></extra>\",\"legendgroup\":\"Cote d'Ivoire\",\"marker\":{\"color\":\"#ab63fa\",\"symbol\":\"circle\"},\"mode\":\"markers\",\"name\":\"Cote d'Ivoire\",\"orientation\":\"v\",\"showlegend\":true,\"x\":[1623.1735290278593],\"xaxis\":\"x\",\"y\":[58.5],\"yaxis\":\"y\",\"type\":\"scatter\"},{\"hovertemplate\":\"Entity=Democratic Republic of Congo<br>gdp_per_capita=%{x}<br>Life expectancy=%{y}<extra></extra>\",\"legendgroup\":\"Democratic Republic of Congo\",\"marker\":{\"color\":\"#FFA15A\",\"symbol\":\"circle\"},\"mode\":\"markers\",\"name\":\"Democratic Republic of Congo\",\"orientation\":\"v\",\"showlegend\":true,\"x\":[408.82077087232886],\"xaxis\":\"x\",\"y\":[59.4],\"yaxis\":\"y\",\"type\":\"scatter\"},{\"hovertemplate\":\"Entity=Denmark<br>gdp_per_capita=%{x}<br>Life expectancy=%{y}<extra></extra>\",\"legendgroup\":\"Denmark\",\"marker\":{\"color\":\"#19d3f3\",\"symbol\":\"circle\"},\"mode\":\"markers\",\"name\":\"Denmark\",\"orientation\":\"v\",\"showlegend\":true,\"x\":[61986.156681440334],\"xaxis\":\"x\",\"y\":[81.1],\"yaxis\":\"y\",\"type\":\"scatter\"},{\"hovertemplate\":\"Entity=Dominican Republic<br>gdp_per_capita=%{x}<br>Life expectancy=%{y}<extra></extra>\",\"legendgroup\":\"Dominican Republic\",\"marker\":{\"color\":\"#FF6692\",\"symbol\":\"circle\"},\"mode\":\"markers\",\"name\":\"Dominican Republic\",\"orientation\":\"v\",\"showlegend\":true,\"x\":[7325.899767129582],\"xaxis\":\"x\",\"y\":[73.1],\"yaxis\":\"y\",\"type\":\"scatter\"},{\"hovertemplate\":\"Entity=Ecuador<br>gdp_per_capita=%{x}<br>Life expectancy=%{y}<extra></extra>\",\"legendgroup\":\"Ecuador\",\"marker\":{\"color\":\"#B6E880\",\"symbol\":\"circle\"},\"mode\":\"markers\",\"name\":\"Ecuador\",\"orientation\":\"v\",\"showlegend\":true,\"x\":[5219.341306051099],\"xaxis\":\"x\",\"y\":[77.0],\"yaxis\":\"y\",\"type\":\"scatter\"},{\"hovertemplate\":\"Entity=Egypt<br>gdp_per_capita=%{x}<br>Life expectancy=%{y}<extra></extra>\",\"legendgroup\":\"Egypt\",\"marker\":{\"color\":\"#FF97FF\",\"symbol\":\"circle\"},\"mode\":\"markers\",\"name\":\"Egypt\",\"orientation\":\"v\",\"showlegend\":true,\"x\":[2817.432289437782],\"xaxis\":\"x\",\"y\":[71.3],\"yaxis\":\"y\",\"type\":\"scatter\"},{\"hovertemplate\":\"Entity=Fiji<br>gdp_per_capita=%{x}<br>Life expectancy=%{y}<extra></extra>\",\"legendgroup\":\"Fiji\",\"marker\":{\"color\":\"#FECB52\",\"symbol\":\"circle\"},\"mode\":\"markers\",\"name\":\"Fiji\",\"orientation\":\"v\",\"showlegend\":true,\"x\":[4463.480825744139],\"xaxis\":\"x\",\"y\":[67.8],\"yaxis\":\"y\",\"type\":\"scatter\"},{\"hovertemplate\":\"Entity=Finland<br>gdp_per_capita=%{x}<br>Life expectancy=%{y}<extra></extra>\",\"legendgroup\":\"Finland\",\"marker\":{\"color\":\"#636efa\",\"symbol\":\"circle\"},\"mode\":\"markers\",\"name\":\"Finland\",\"orientation\":\"v\",\"showlegend\":true,\"x\":[47060.206319573386],\"xaxis\":\"x\",\"y\":[81.5],\"yaxis\":\"y\",\"type\":\"scatter\"},{\"hovertemplate\":\"Entity=France<br>gdp_per_capita=%{x}<br>Life expectancy=%{y}<extra></extra>\",\"legendgroup\":\"France\",\"marker\":{\"color\":\"#EF553B\",\"symbol\":\"circle\"},\"mode\":\"markers\",\"name\":\"France\",\"orientation\":\"v\",\"showlegend\":true,\"x\":[44061.64739521614],\"xaxis\":\"x\",\"y\":[82.5],\"yaxis\":\"y\",\"type\":\"scatter\"},{\"hovertemplate\":\"Entity=Gabon<br>gdp_per_capita=%{x}<br>Life expectancy=%{y}<extra></extra>\",\"legendgroup\":\"Gabon\",\"marker\":{\"color\":\"#00cc96\",\"symbol\":\"circle\"},\"mode\":\"markers\",\"name\":\"Gabon\",\"orientation\":\"v\",\"showlegend\":true,\"x\":[9259.756310496272],\"xaxis\":\"x\",\"y\":[66.2],\"yaxis\":\"y\",\"type\":\"scatter\"},{\"hovertemplate\":\"Entity=Ghana<br>gdp_per_capita=%{x}<br>Life expectancy=%{y}<extra></extra>\",\"legendgroup\":\"Ghana\",\"marker\":{\"color\":\"#ab63fa\",\"symbol\":\"circle\"},\"mode\":\"markers\",\"name\":\"Ghana\",\"orientation\":\"v\",\"showlegend\":true,\"x\":[1795.9363436799663],\"xaxis\":\"x\",\"y\":[64.0],\"yaxis\":\"y\",\"type\":\"scatter\"},{\"hovertemplate\":\"Entity=Greece<br>gdp_per_capita=%{x}<br>Life expectancy=%{y}<extra></extra>\",\"legendgroup\":\"Greece\",\"marker\":{\"color\":\"#FFA15A\",\"symbol\":\"circle\"},\"mode\":\"markers\",\"name\":\"Greece\",\"orientation\":\"v\",\"showlegend\":true,\"x\":[23444.475664032358],\"xaxis\":\"x\",\"y\":[80.9],\"yaxis\":\"y\",\"type\":\"scatter\"},{\"hovertemplate\":\"Entity=Guatemala<br>gdp_per_capita=%{x}<br>Life expectancy=%{y}<extra></extra>\",\"legendgroup\":\"Guatemala\",\"marker\":{\"color\":\"#19d3f3\",\"symbol\":\"circle\"},\"mode\":\"markers\",\"name\":\"Guatemala\",\"orientation\":\"v\",\"showlegend\":true,\"x\":[3123.933862583884],\"xaxis\":\"x\",\"y\":[72.6],\"yaxis\":\"y\",\"type\":\"scatter\"},{\"hovertemplate\":\"Entity=Guyana<br>gdp_per_capita=%{x}<br>Life expectancy=%{y}<extra></extra>\",\"legendgroup\":\"Guyana\",\"marker\":{\"color\":\"#FF6692\",\"symbol\":\"circle\"},\"mode\":\"markers\",\"name\":\"Guyana\",\"orientation\":\"v\",\"showlegend\":true,\"x\":[3885.6723798626967],\"xaxis\":\"x\",\"y\":[68.7],\"yaxis\":\"y\",\"type\":\"scatter\"},{\"hovertemplate\":\"Entity=Honduras<br>gdp_per_capita=%{x}<br>Life expectancy=%{y}<extra></extra>\",\"legendgroup\":\"Honduras\",\"marker\":{\"color\":\"#B6E880\",\"symbol\":\"circle\"},\"mode\":\"markers\",\"name\":\"Honduras\",\"orientation\":\"v\",\"showlegend\":true,\"x\":[2172.15391486848],\"xaxis\":\"x\",\"y\":[72.7],\"yaxis\":\"y\",\"type\":\"scatter\"},{\"hovertemplate\":\"Entity=India<br>gdp_per_capita=%{x}<br>Life expectancy=%{y}<extra></extra>\",\"legendgroup\":\"India\",\"marker\":{\"color\":\"#FF97FF\",\"symbol\":\"circle\"},\"mode\":\"markers\",\"name\":\"India\",\"orientation\":\"v\",\"showlegend\":true,\"x\":[1964.284310117216],\"xaxis\":\"x\",\"y\":[70.5],\"yaxis\":\"y\",\"type\":\"scatter\"},{\"hovertemplate\":\"Entity=Indonesia<br>gdp_per_capita=%{x}<br>Life expectancy=%{y}<extra></extra>\",\"legendgroup\":\"Indonesia\",\"marker\":{\"color\":\"#FECB52\",\"symbol\":\"circle\"},\"mode\":\"markers\",\"name\":\"Indonesia\",\"orientation\":\"v\",\"showlegend\":true,\"x\":[4120.367810496154],\"xaxis\":\"x\",\"y\":[69.9],\"yaxis\":\"y\",\"type\":\"scatter\"},{\"hovertemplate\":\"Entity=Iran<br>gdp_per_capita=%{x}<br>Life expectancy=%{y}<extra></extra>\",\"legendgroup\":\"Iran\",\"marker\":{\"color\":\"#636efa\",\"symbol\":\"circle\"},\"mode\":\"markers\",\"name\":\"Iran\",\"orientation\":\"v\",\"showlegend\":true,\"x\":[6988.946227555693],\"xaxis\":\"x\",\"y\":[76.0],\"yaxis\":\"y\",\"type\":\"scatter\"},{\"hovertemplate\":\"Entity=Israel<br>gdp_per_capita=%{x}<br>Life expectancy=%{y}<extra></extra>\",\"legendgroup\":\"Israel\",\"marker\":{\"color\":\"#EF553B\",\"symbol\":\"circle\"},\"mode\":\"markers\",\"name\":\"Israel\",\"orientation\":\"v\",\"showlegend\":true,\"x\":[36074.24555591012],\"xaxis\":\"x\",\"y\":[82.7],\"yaxis\":\"y\",\"type\":\"scatter\"},{\"hovertemplate\":\"Entity=Italy<br>gdp_per_capita=%{x}<br>Life expectancy=%{y}<extra></extra>\",\"legendgroup\":\"Italy\",\"marker\":{\"color\":\"#00cc96\",\"symbol\":\"circle\"},\"mode\":\"markers\",\"name\":\"Italy\",\"orientation\":\"v\",\"showlegend\":true,\"x\":[34807.36298025678],\"xaxis\":\"x\",\"y\":[82.7],\"yaxis\":\"y\",\"type\":\"scatter\"},{\"hovertemplate\":\"Entity=Japan<br>gdp_per_capita=%{x}<br>Life expectancy=%{y}<extra></extra>\",\"legendgroup\":\"Japan\",\"marker\":{\"color\":\"#ab63fa\",\"symbol\":\"circle\"},\"mode\":\"markers\",\"name\":\"Japan\",\"orientation\":\"v\",\"showlegend\":true,\"x\":[48283.79505249767],\"xaxis\":\"x\",\"y\":[84.2],\"yaxis\":\"y\",\"type\":\"scatter\"},{\"hovertemplate\":\"Entity=Kenya<br>gdp_per_capita=%{x}<br>Life expectancy=%{y}<extra></extra>\",\"legendgroup\":\"Kenya\",\"marker\":{\"color\":\"#FFA15A\",\"symbol\":\"circle\"},\"mode\":\"markers\",\"name\":\"Kenya\",\"orientation\":\"v\",\"showlegend\":true,\"x\":[1157.2094917223153],\"xaxis\":\"x\",\"y\":[62.5],\"yaxis\":\"y\",\"type\":\"scatter\"},{\"hovertemplate\":\"Entity=Lesotho<br>gdp_per_capita=%{x}<br>Life expectancy=%{y}<extra></extra>\",\"legendgroup\":\"Lesotho\",\"marker\":{\"color\":\"#19d3f3\",\"symbol\":\"circle\"},\"mode\":\"markers\",\"name\":\"Lesotho\",\"orientation\":\"v\",\"showlegend\":true,\"x\":[1504.425989499173],\"xaxis\":\"x\",\"y\":[53.1],\"yaxis\":\"y\",\"type\":\"scatter\"},{\"hovertemplate\":\"Entity=Liberia<br>gdp_per_capita=%{x}<br>Life expectancy=%{y}<extra></extra>\",\"legendgroup\":\"Liberia\",\"marker\":{\"color\":\"#FF6692\",\"symbol\":\"circle\"},\"mode\":\"markers\",\"name\":\"Liberia\",\"orientation\":\"v\",\"showlegend\":true,\"x\":[354.5265876589813],\"xaxis\":\"x\",\"y\":[60.6],\"yaxis\":\"y\",\"type\":\"scatter\"},{\"hovertemplate\":\"Entity=Luxembourg<br>gdp_per_capita=%{x}<br>Life expectancy=%{y}<extra></extra>\",\"legendgroup\":\"Luxembourg\",\"marker\":{\"color\":\"#B6E880\",\"symbol\":\"circle\"},\"mode\":\"markers\",\"name\":\"Luxembourg\",\"orientation\":\"v\",\"showlegend\":true,\"x\":[109222.51748804915],\"xaxis\":\"x\",\"y\":[81.7],\"yaxis\":\"y\",\"type\":\"scatter\"},{\"hovertemplate\":\"Entity=Madagascar<br>gdp_per_capita=%{x}<br>Life expectancy=%{y}<extra></extra>\",\"legendgroup\":\"Madagascar\",\"marker\":{\"color\":\"#FF97FF\",\"symbol\":\"circle\"},\"mode\":\"markers\",\"name\":\"Madagascar\",\"orientation\":\"v\",\"showlegend\":true,\"x\":[421.8895132896171],\"xaxis\":\"x\",\"y\":[65.1],\"yaxis\":\"y\",\"type\":\"scatter\"},{\"hovertemplate\":\"Entity=Malawi<br>gdp_per_capita=%{x}<br>Life expectancy=%{y}<extra></extra>\",\"legendgroup\":\"Malawi\",\"marker\":{\"color\":\"#FECB52\",\"symbol\":\"circle\"},\"mode\":\"markers\",\"name\":\"Malawi\",\"orientation\":\"v\",\"showlegend\":true,\"x\":[512.6562214324799],\"xaxis\":\"x\",\"y\":[63.0],\"yaxis\":\"y\",\"type\":\"scatter\"},{\"hovertemplate\":\"Entity=Malaysia<br>gdp_per_capita=%{x}<br>Life expectancy=%{y}<extra></extra>\",\"legendgroup\":\"Malaysia\",\"marker\":{\"color\":\"#636efa\",\"symbol\":\"circle\"},\"mode\":\"markers\",\"name\":\"Malaysia\",\"orientation\":\"v\",\"showlegend\":true,\"x\":[11713.792561266839],\"xaxis\":\"x\",\"y\":[75.5],\"yaxis\":\"y\",\"type\":\"scatter\"},{\"hovertemplate\":\"Entity=Mauritania<br>gdp_per_capita=%{x}<br>Life expectancy=%{y}<extra></extra>\",\"legendgroup\":\"Mauritania\",\"marker\":{\"color\":\"#EF553B\",\"symbol\":\"circle\"},\"mode\":\"markers\",\"name\":\"Mauritania\",\"orientation\":\"v\",\"showlegend\":true,\"x\":[1347.0106110759748],\"xaxis\":\"x\",\"y\":[65.1],\"yaxis\":\"y\",\"type\":\"scatter\"},{\"hovertemplate\":\"Entity=Mexico<br>gdp_per_capita=%{x}<br>Life expectancy=%{y}<extra></extra>\",\"legendgroup\":\"Mexico\",\"marker\":{\"color\":\"#00cc96\",\"symbol\":\"circle\"},\"mode\":\"markers\",\"name\":\"Mexico\",\"orientation\":\"v\",\"showlegend\":true,\"x\":[10295.794498827267],\"xaxis\":\"x\",\"y\":[74.1],\"yaxis\":\"y\",\"type\":\"scatter\"},{\"hovertemplate\":\"Entity=Myanmar<br>gdp_per_capita=%{x}<br>Life expectancy=%{y}<extra></extra>\",\"legendgroup\":\"Myanmar\",\"marker\":{\"color\":\"#ab63fa\",\"symbol\":\"circle\"},\"mode\":\"markers\",\"name\":\"Myanmar\",\"orientation\":\"v\",\"showlegend\":true,\"x\":[1483.856240995092],\"xaxis\":\"x\",\"y\":[65.8],\"yaxis\":\"y\",\"type\":\"scatter\"},{\"hovertemplate\":\"Entity=Nepal<br>gdp_per_capita=%{x}<br>Life expectancy=%{y}<extra></extra>\",\"legendgroup\":\"Nepal\",\"marker\":{\"color\":\"#FFA15A\",\"symbol\":\"circle\"},\"mode\":\"markers\",\"name\":\"Nepal\",\"orientation\":\"v\",\"showlegend\":true,\"x\":[772.4735975500814],\"xaxis\":\"x\",\"y\":[68.9],\"yaxis\":\"y\",\"type\":\"scatter\"},{\"hovertemplate\":\"Entity=Netherlands<br>gdp_per_capita=%{x}<br>Life expectancy=%{y}<extra></extra>\",\"legendgroup\":\"Netherlands\",\"marker\":{\"color\":\"#19d3f3\",\"symbol\":\"circle\"},\"mode\":\"markers\",\"name\":\"Netherlands\",\"orientation\":\"v\",\"showlegend\":true,\"x\":[53950.0540635468],\"xaxis\":\"x\",\"y\":[81.7],\"yaxis\":\"y\",\"type\":\"scatter\"},{\"hovertemplate\":\"Entity=Nicaragua<br>gdp_per_capita=%{x}<br>Life expectancy=%{y}<extra></extra>\",\"legendgroup\":\"Nicaragua\",\"marker\":{\"color\":\"#FF6692\",\"symbol\":\"circle\"},\"mode\":\"markers\",\"name\":\"Nicaragua\",\"orientation\":\"v\",\"showlegend\":true,\"x\":[1963.4506830054502],\"xaxis\":\"x\",\"y\":[73.6],\"yaxis\":\"y\",\"type\":\"scatter\"},{\"hovertemplate\":\"Entity=Niger<br>gdp_per_capita=%{x}<br>Life expectancy=%{y}<extra></extra>\",\"legendgroup\":\"Niger\",\"marker\":{\"color\":\"#B6E880\",\"symbol\":\"circle\"},\"mode\":\"markers\",\"name\":\"Niger\",\"orientation\":\"v\",\"showlegend\":true,\"x\":[393.6525754495546],\"xaxis\":\"x\",\"y\":[62.2],\"yaxis\":\"y\",\"type\":\"scatter\"},{\"hovertemplate\":\"Entity=Nigeria<br>gdp_per_capita=%{x}<br>Life expectancy=%{y}<extra></extra>\",\"legendgroup\":\"Nigeria\",\"marker\":{\"color\":\"#FF97FF\",\"symbol\":\"circle\"},\"mode\":\"markers\",\"name\":\"Nigeria\",\"orientation\":\"v\",\"showlegend\":true,\"x\":[2412.5783360682376],\"xaxis\":\"x\",\"y\":[52.3],\"yaxis\":\"y\",\"type\":\"scatter\"},{\"hovertemplate\":\"Entity=Norway<br>gdp_per_capita=%{x}<br>Life expectancy=%{y}<extra></extra>\",\"legendgroup\":\"Norway\",\"marker\":{\"color\":\"#FECB52\",\"symbol\":\"circle\"},\"mode\":\"markers\",\"name\":\"Norway\",\"orientation\":\"v\",\"showlegend\":true,\"x\":[90981.32256139029],\"xaxis\":\"x\",\"y\":[82.6],\"yaxis\":\"y\",\"type\":\"scatter\"},{\"hovertemplate\":\"Entity=Pakistan<br>gdp_per_capita=%{x}<br>Life expectancy=%{y}<extra></extra>\",\"legendgroup\":\"Pakistan\",\"marker\":{\"color\":\"#636efa\",\"symbol\":\"circle\"},\"mode\":\"markers\",\"name\":\"Pakistan\",\"orientation\":\"v\",\"showlegend\":true,\"x\":[1158.4885232469962],\"xaxis\":\"x\",\"y\":[66.3],\"yaxis\":\"y\",\"type\":\"scatter\"},{\"hovertemplate\":\"Entity=Panama<br>gdp_per_capita=%{x}<br>Life expectancy=%{y}<extra></extra>\",\"legendgroup\":\"Panama\",\"marker\":{\"color\":\"#EF553B\",\"symbol\":\"circle\"},\"mode\":\"markers\",\"name\":\"Panama\",\"orientation\":\"v\",\"showlegend\":true,\"x\":[11489.693265479986],\"xaxis\":\"x\",\"y\":[77.8],\"yaxis\":\"y\",\"type\":\"scatter\"},{\"hovertemplate\":\"Entity=Papua New Guinea<br>gdp_per_capita=%{x}<br>Life expectancy=%{y}<extra></extra>\",\"legendgroup\":\"Papua New Guinea\",\"marker\":{\"color\":\"#00cc96\",\"symbol\":\"circle\"},\"mode\":\"markers\",\"name\":\"Papua New Guinea\",\"orientation\":\"v\",\"showlegend\":true,\"x\":[2348.3947050418583],\"xaxis\":\"x\",\"y\":[65.1],\"yaxis\":\"y\",\"type\":\"scatter\"},{\"hovertemplate\":\"Entity=Paraguay<br>gdp_per_capita=%{x}<br>Life expectancy=%{y}<extra></extra>\",\"legendgroup\":\"Paraguay\",\"marker\":{\"color\":\"#ab63fa\",\"symbol\":\"circle\"},\"mode\":\"markers\",\"name\":\"Paraguay\",\"orientation\":\"v\",\"showlegend\":true,\"x\":[3874.246263594248],\"xaxis\":\"x\",\"y\":[73.6],\"yaxis\":\"y\",\"type\":\"scatter\"},{\"hovertemplate\":\"Entity=Peru<br>gdp_per_capita=%{x}<br>Life expectancy=%{y}<extra></extra>\",\"legendgroup\":\"Peru\",\"marker\":{\"color\":\"#FFA15A\",\"symbol\":\"circle\"},\"mode\":\"markers\",\"name\":\"Peru\",\"orientation\":\"v\",\"showlegend\":true,\"x\":[6314.326519317802],\"xaxis\":\"x\",\"y\":[75.9],\"yaxis\":\"y\",\"type\":\"scatter\"},{\"hovertemplate\":\"Entity=Philippines<br>gdp_per_capita=%{x}<br>Life expectancy=%{y}<extra></extra>\",\"legendgroup\":\"Philippines\",\"marker\":{\"color\":\"#19d3f3\",\"symbol\":\"circle\"},\"mode\":\"markers\",\"name\":\"Philippines\",\"orientation\":\"v\",\"showlegend\":true,\"x\":[2884.3510430859346],\"xaxis\":\"x\",\"y\":[71.5],\"yaxis\":\"y\",\"type\":\"scatter\"},{\"hovertemplate\":\"Entity=Portugal<br>gdp_per_capita=%{x}<br>Life expectancy=%{y}<extra></extra>\",\"legendgroup\":\"Portugal\",\"marker\":{\"color\":\"#FF6692\",\"symbol\":\"circle\"},\"mode\":\"markers\",\"name\":\"Portugal\",\"orientation\":\"v\",\"showlegend\":true,\"x\":[23127.1793929723],\"xaxis\":\"x\",\"y\":[81.5],\"yaxis\":\"y\",\"type\":\"scatter\"},{\"hovertemplate\":\"Entity=Rwanda<br>gdp_per_capita=%{x}<br>Life expectancy=%{y}<extra></extra>\",\"legendgroup\":\"Rwanda\",\"marker\":{\"color\":\"#B6E880\",\"symbol\":\"circle\"},\"mode\":\"markers\",\"name\":\"Rwanda\",\"orientation\":\"v\",\"showlegend\":true,\"x\":[779.7490066089041],\"xaxis\":\"x\",\"y\":[65.9],\"yaxis\":\"y\",\"type\":\"scatter\"},{\"hovertemplate\":\"Entity=Saint Vincent and the Grenadines<br>gdp_per_capita=%{x}<br>Life expectancy=%{y}<extra></extra>\",\"legendgroup\":\"Saint Vincent and the Grenadines\",\"marker\":{\"color\":\"#FF97FF\",\"symbol\":\"circle\"},\"mode\":\"markers\",\"name\":\"Saint Vincent and the Grenadines\",\"orientation\":\"v\",\"showlegend\":true,\"x\":[6735.514265390299],\"xaxis\":\"x\",\"y\":[74.3],\"yaxis\":\"y\",\"type\":\"scatter\"},{\"hovertemplate\":\"Entity=Senegal<br>gdp_per_capita=%{x}<br>Life expectancy=%{y}<extra></extra>\",\"legendgroup\":\"Senegal\",\"marker\":{\"color\":\"#FECB52\",\"symbol\":\"circle\"},\"mode\":\"markers\",\"name\":\"Senegal\",\"orientation\":\"v\",\"showlegend\":true,\"x\":[1165.824407244004],\"xaxis\":\"x\",\"y\":[67.8],\"yaxis\":\"y\",\"type\":\"scatter\"},{\"hovertemplate\":\"Entity=Seychelles<br>gdp_per_capita=%{x}<br>Life expectancy=%{y}<extra></extra>\",\"legendgroup\":\"Seychelles\",\"marker\":{\"color\":\"#636efa\",\"symbol\":\"circle\"},\"mode\":\"markers\",\"name\":\"Seychelles\",\"orientation\":\"v\",\"showlegend\":true,\"x\":[13974.193431753958],\"xaxis\":\"x\",\"y\":[73.8],\"yaxis\":\"y\",\"type\":\"scatter\"},{\"hovertemplate\":\"Entity=Sierra Leone<br>gdp_per_capita=%{x}<br>Life expectancy=%{y}<extra></extra>\",\"legendgroup\":\"Sierra Leone\",\"marker\":{\"color\":\"#EF553B\",\"symbol\":\"circle\"},\"mode\":\"markers\",\"name\":\"Sierra Leone\",\"orientation\":\"v\",\"showlegend\":true,\"x\":[466.7321194998571],\"xaxis\":\"x\",\"y\":[58.7],\"yaxis\":\"y\",\"type\":\"scatter\"},{\"hovertemplate\":\"Entity=Singapore<br>gdp_per_capita=%{x}<br>Life expectancy=%{y}<extra></extra>\",\"legendgroup\":\"Singapore\",\"marker\":{\"color\":\"#00cc96\",\"symbol\":\"circle\"},\"mode\":\"markers\",\"name\":\"Singapore\",\"orientation\":\"v\",\"showlegend\":true,\"x\":[54308.982638511385],\"xaxis\":\"x\",\"y\":[83.2],\"yaxis\":\"y\",\"type\":\"scatter\"},{\"hovertemplate\":\"Entity=South Africa<br>gdp_per_capita=%{x}<br>Life expectancy=%{y}<extra></extra>\",\"legendgroup\":\"South Africa\",\"marker\":{\"color\":\"#ab63fa\",\"symbol\":\"circle\"},\"mode\":\"markers\",\"name\":\"South Africa\",\"orientation\":\"v\",\"showlegend\":true,\"x\":[7485.8599310439395],\"xaxis\":\"x\",\"y\":[65.4],\"yaxis\":\"y\",\"type\":\"scatter\"},{\"hovertemplate\":\"Entity=South Korea<br>gdp_per_capita=%{x}<br>Life expectancy=%{y}<extra></extra>\",\"legendgroup\":\"South Korea\",\"marker\":{\"color\":\"#FFA15A\",\"symbol\":\"circle\"},\"mode\":\"markers\",\"name\":\"South Korea\",\"orientation\":\"v\",\"showlegend\":true,\"x\":[26341.50760170933],\"xaxis\":\"x\",\"y\":[83.3],\"yaxis\":\"y\",\"type\":\"scatter\"},{\"hovertemplate\":\"Entity=Spain<br>gdp_per_capita=%{x}<br>Life expectancy=%{y}<extra></extra>\",\"legendgroup\":\"Spain\",\"marker\":{\"color\":\"#19d3f3\",\"symbol\":\"circle\"},\"mode\":\"markers\",\"name\":\"Spain\",\"orientation\":\"v\",\"showlegend\":true,\"x\":[32353.667637547966],\"xaxis\":\"x\",\"y\":[83.0],\"yaxis\":\"y\",\"type\":\"scatter\"},{\"hovertemplate\":\"Entity=Sudan<br>gdp_per_capita=%{x}<br>Life expectancy=%{y}<extra></extra>\",\"legendgroup\":\"Sudan\",\"marker\":{\"color\":\"#FF6692\",\"symbol\":\"circle\"},\"mode\":\"markers\",\"name\":\"Sudan\",\"orientation\":\"v\",\"showlegend\":true,\"x\":[1945.7284749482765],\"xaxis\":\"x\",\"y\":[65.4],\"yaxis\":\"y\",\"type\":\"scatter\"},{\"hovertemplate\":\"Entity=Sweden<br>gdp_per_capita=%{x}<br>Life expectancy=%{y}<extra></extra>\",\"legendgroup\":\"Sweden\",\"marker\":{\"color\":\"#B6E880\",\"symbol\":\"circle\"},\"mode\":\"markers\",\"name\":\"Sweden\",\"orientation\":\"v\",\"showlegend\":true,\"x\":[57870.66129200807],\"xaxis\":\"x\",\"y\":[82.4],\"yaxis\":\"y\",\"type\":\"scatter\"},{\"hovertemplate\":\"Entity=Thailand<br>gdp_per_capita=%{x}<br>Life expectancy=%{y}<extra></extra>\",\"legendgroup\":\"Thailand\",\"marker\":{\"color\":\"#FF97FF\",\"symbol\":\"circle\"},\"mode\":\"markers\",\"name\":\"Thailand\",\"orientation\":\"v\",\"showlegend\":true,\"x\":[6110.393755646091],\"xaxis\":\"x\",\"y\":[78.4],\"yaxis\":\"y\",\"type\":\"scatter\"},{\"hovertemplate\":\"Entity=Togo<br>gdp_per_capita=%{x}<br>Life expectancy=%{y}<extra></extra>\",\"legendgroup\":\"Togo\",\"marker\":{\"color\":\"#FECB52\",\"symbol\":\"circle\"},\"mode\":\"markers\",\"name\":\"Togo\",\"orientation\":\"v\",\"showlegend\":true,\"x\":[584.8597238590712],\"xaxis\":\"x\",\"y\":[60.2],\"yaxis\":\"y\",\"type\":\"scatter\"},{\"hovertemplate\":\"Entity=Trinidad and Tobago<br>gdp_per_capita=%{x}<br>Life expectancy=%{y}<extra></extra>\",\"legendgroup\":\"Trinidad and Tobago\",\"marker\":{\"color\":\"#636efa\",\"symbol\":\"circle\"},\"mode\":\"markers\",\"name\":\"Trinidad and Tobago\",\"orientation\":\"v\",\"showlegend\":true,\"x\":[15185.862214853612],\"xaxis\":\"x\",\"y\":[74.2],\"yaxis\":\"y\",\"type\":\"scatter\"},{\"hovertemplate\":\"Entity=Turkey<br>gdp_per_capita=%{x}<br>Life expectancy=%{y}<extra></extra>\",\"legendgroup\":\"Turkey\",\"marker\":{\"color\":\"#EF553B\",\"symbol\":\"circle\"},\"mode\":\"markers\",\"name\":\"Turkey\",\"orientation\":\"v\",\"showlegend\":true,\"x\":[14864.968662745698],\"xaxis\":\"x\",\"y\":[77.1],\"yaxis\":\"y\",\"type\":\"scatter\"},{\"hovertemplate\":\"Entity=United Kingdom<br>gdp_per_capita=%{x}<br>Life expectancy=%{y}<extra></extra>\",\"legendgroup\":\"United Kingdom\",\"marker\":{\"color\":\"#00cc96\",\"symbol\":\"circle\"},\"mode\":\"markers\",\"name\":\"United Kingdom\",\"orientation\":\"v\",\"showlegend\":true,\"x\":[42065.47719657815],\"xaxis\":\"x\",\"y\":[81.2],\"yaxis\":\"y\",\"type\":\"scatter\"},{\"hovertemplate\":\"Entity=United States<br>gdp_per_capita=%{x}<br>Life expectancy=%{y}<extra></extra>\",\"legendgroup\":\"United States\",\"marker\":{\"color\":\"#ab63fa\",\"symbol\":\"circle\"},\"mode\":\"markers\",\"name\":\"United States\",\"orientation\":\"v\",\"showlegend\":true,\"x\":[53232.18452176347],\"xaxis\":\"x\",\"y\":[78.8],\"yaxis\":\"y\",\"type\":\"scatter\"},{\"hovertemplate\":\"Entity=Uruguay<br>gdp_per_capita=%{x}<br>Life expectancy=%{y}<extra></extra>\",\"legendgroup\":\"Uruguay\",\"marker\":{\"color\":\"#FFA15A\",\"symbol\":\"circle\"},\"mode\":\"markers\",\"name\":\"Uruguay\",\"orientation\":\"v\",\"showlegend\":true,\"x\":[14445.09266111056],\"xaxis\":\"x\",\"y\":[77.6],\"yaxis\":\"y\",\"type\":\"scatter\"},{\"hovertemplate\":\"Entity=Zambia<br>gdp_per_capita=%{x}<br>Life expectancy=%{y}<extra></extra>\",\"legendgroup\":\"Zambia\",\"marker\":{\"color\":\"#19d3f3\",\"symbol\":\"circle\"},\"mode\":\"markers\",\"name\":\"Zambia\",\"orientation\":\"v\",\"showlegend\":true,\"x\":[1669.5975269283852],\"xaxis\":\"x\",\"y\":[62.1],\"yaxis\":\"y\",\"type\":\"scatter\"},{\"hovertemplate\":\"Entity=Zimbabwe<br>gdp_per_capita=%{x}<br>Life expectancy=%{y}<extra></extra>\",\"legendgroup\":\"Zimbabwe\",\"marker\":{\"color\":\"#FF6692\",\"symbol\":\"circle\"},\"mode\":\"markers\",\"name\":\"Zimbabwe\",\"orientation\":\"v\",\"showlegend\":true,\"x\":[1076.7585014988622],\"xaxis\":\"x\",\"y\":[60.7],\"yaxis\":\"y\",\"type\":\"scatter\"}],                        {\"template\":{\"data\":{\"histogram2dcontour\":[{\"type\":\"histogram2dcontour\",\"colorbar\":{\"outlinewidth\":0,\"ticks\":\"\"},\"colorscale\":[[0.0,\"#0d0887\"],[0.1111111111111111,\"#46039f\"],[0.2222222222222222,\"#7201a8\"],[0.3333333333333333,\"#9c179e\"],[0.4444444444444444,\"#bd3786\"],[0.5555555555555556,\"#d8576b\"],[0.6666666666666666,\"#ed7953\"],[0.7777777777777778,\"#fb9f3a\"],[0.8888888888888888,\"#fdca26\"],[1.0,\"#f0f921\"]]}],\"choropleth\":[{\"type\":\"choropleth\",\"colorbar\":{\"outlinewidth\":0,\"ticks\":\"\"}}],\"histogram2d\":[{\"type\":\"histogram2d\",\"colorbar\":{\"outlinewidth\":0,\"ticks\":\"\"},\"colorscale\":[[0.0,\"#0d0887\"],[0.1111111111111111,\"#46039f\"],[0.2222222222222222,\"#7201a8\"],[0.3333333333333333,\"#9c179e\"],[0.4444444444444444,\"#bd3786\"],[0.5555555555555556,\"#d8576b\"],[0.6666666666666666,\"#ed7953\"],[0.7777777777777778,\"#fb9f3a\"],[0.8888888888888888,\"#fdca26\"],[1.0,\"#f0f921\"]]}],\"heatmap\":[{\"type\":\"heatmap\",\"colorbar\":{\"outlinewidth\":0,\"ticks\":\"\"},\"colorscale\":[[0.0,\"#0d0887\"],[0.1111111111111111,\"#46039f\"],[0.2222222222222222,\"#7201a8\"],[0.3333333333333333,\"#9c179e\"],[0.4444444444444444,\"#bd3786\"],[0.5555555555555556,\"#d8576b\"],[0.6666666666666666,\"#ed7953\"],[0.7777777777777778,\"#fb9f3a\"],[0.8888888888888888,\"#fdca26\"],[1.0,\"#f0f921\"]]}],\"heatmapgl\":[{\"type\":\"heatmapgl\",\"colorbar\":{\"outlinewidth\":0,\"ticks\":\"\"},\"colorscale\":[[0.0,\"#0d0887\"],[0.1111111111111111,\"#46039f\"],[0.2222222222222222,\"#7201a8\"],[0.3333333333333333,\"#9c179e\"],[0.4444444444444444,\"#bd3786\"],[0.5555555555555556,\"#d8576b\"],[0.6666666666666666,\"#ed7953\"],[0.7777777777777778,\"#fb9f3a\"],[0.8888888888888888,\"#fdca26\"],[1.0,\"#f0f921\"]]}],\"contourcarpet\":[{\"type\":\"contourcarpet\",\"colorbar\":{\"outlinewidth\":0,\"ticks\":\"\"}}],\"contour\":[{\"type\":\"contour\",\"colorbar\":{\"outlinewidth\":0,\"ticks\":\"\"},\"colorscale\":[[0.0,\"#0d0887\"],[0.1111111111111111,\"#46039f\"],[0.2222222222222222,\"#7201a8\"],[0.3333333333333333,\"#9c179e\"],[0.4444444444444444,\"#bd3786\"],[0.5555555555555556,\"#d8576b\"],[0.6666666666666666,\"#ed7953\"],[0.7777777777777778,\"#fb9f3a\"],[0.8888888888888888,\"#fdca26\"],[1.0,\"#f0f921\"]]}],\"surface\":[{\"type\":\"surface\",\"colorbar\":{\"outlinewidth\":0,\"ticks\":\"\"},\"colorscale\":[[0.0,\"#0d0887\"],[0.1111111111111111,\"#46039f\"],[0.2222222222222222,\"#7201a8\"],[0.3333333333333333,\"#9c179e\"],[0.4444444444444444,\"#bd3786\"],[0.5555555555555556,\"#d8576b\"],[0.6666666666666666,\"#ed7953\"],[0.7777777777777778,\"#fb9f3a\"],[0.8888888888888888,\"#fdca26\"],[1.0,\"#f0f921\"]]}],\"mesh3d\":[{\"type\":\"mesh3d\",\"colorbar\":{\"outlinewidth\":0,\"ticks\":\"\"}}],\"scatter\":[{\"fillpattern\":{\"fillmode\":\"overlay\",\"size\":10,\"solidity\":0.2},\"type\":\"scatter\"}],\"parcoords\":[{\"type\":\"parcoords\",\"line\":{\"colorbar\":{\"outlinewidth\":0,\"ticks\":\"\"}}}],\"scatterpolargl\":[{\"type\":\"scatterpolargl\",\"marker\":{\"colorbar\":{\"outlinewidth\":0,\"ticks\":\"\"}}}],\"bar\":[{\"error_x\":{\"color\":\"#2a3f5f\"},\"error_y\":{\"color\":\"#2a3f5f\"},\"marker\":{\"line\":{\"color\":\"#E5ECF6\",\"width\":0.5},\"pattern\":{\"fillmode\":\"overlay\",\"size\":10,\"solidity\":0.2}},\"type\":\"bar\"}],\"scattergeo\":[{\"type\":\"scattergeo\",\"marker\":{\"colorbar\":{\"outlinewidth\":0,\"ticks\":\"\"}}}],\"scatterpolar\":[{\"type\":\"scatterpolar\",\"marker\":{\"colorbar\":{\"outlinewidth\":0,\"ticks\":\"\"}}}],\"histogram\":[{\"marker\":{\"pattern\":{\"fillmode\":\"overlay\",\"size\":10,\"solidity\":0.2}},\"type\":\"histogram\"}],\"scattergl\":[{\"type\":\"scattergl\",\"marker\":{\"colorbar\":{\"outlinewidth\":0,\"ticks\":\"\"}}}],\"scatter3d\":[{\"type\":\"scatter3d\",\"line\":{\"colorbar\":{\"outlinewidth\":0,\"ticks\":\"\"}},\"marker\":{\"colorbar\":{\"outlinewidth\":0,\"ticks\":\"\"}}}],\"scattermapbox\":[{\"type\":\"scattermapbox\",\"marker\":{\"colorbar\":{\"outlinewidth\":0,\"ticks\":\"\"}}}],\"scatterternary\":[{\"type\":\"scatterternary\",\"marker\":{\"colorbar\":{\"outlinewidth\":0,\"ticks\":\"\"}}}],\"scattercarpet\":[{\"type\":\"scattercarpet\",\"marker\":{\"colorbar\":{\"outlinewidth\":0,\"ticks\":\"\"}}}],\"carpet\":[{\"aaxis\":{\"endlinecolor\":\"#2a3f5f\",\"gridcolor\":\"white\",\"linecolor\":\"white\",\"minorgridcolor\":\"white\",\"startlinecolor\":\"#2a3f5f\"},\"baxis\":{\"endlinecolor\":\"#2a3f5f\",\"gridcolor\":\"white\",\"linecolor\":\"white\",\"minorgridcolor\":\"white\",\"startlinecolor\":\"#2a3f5f\"},\"type\":\"carpet\"}],\"table\":[{\"cells\":{\"fill\":{\"color\":\"#EBF0F8\"},\"line\":{\"color\":\"white\"}},\"header\":{\"fill\":{\"color\":\"#C8D4E3\"},\"line\":{\"color\":\"white\"}},\"type\":\"table\"}],\"barpolar\":[{\"marker\":{\"line\":{\"color\":\"#E5ECF6\",\"width\":0.5},\"pattern\":{\"fillmode\":\"overlay\",\"size\":10,\"solidity\":0.2}},\"type\":\"barpolar\"}],\"pie\":[{\"automargin\":true,\"type\":\"pie\"}]},\"layout\":{\"autotypenumbers\":\"strict\",\"colorway\":[\"#636efa\",\"#EF553B\",\"#00cc96\",\"#ab63fa\",\"#FFA15A\",\"#19d3f3\",\"#FF6692\",\"#B6E880\",\"#FF97FF\",\"#FECB52\"],\"font\":{\"color\":\"#2a3f5f\"},\"hovermode\":\"closest\",\"hoverlabel\":{\"align\":\"left\"},\"paper_bgcolor\":\"white\",\"plot_bgcolor\":\"#E5ECF6\",\"polar\":{\"bgcolor\":\"#E5ECF6\",\"angularaxis\":{\"gridcolor\":\"white\",\"linecolor\":\"white\",\"ticks\":\"\"},\"radialaxis\":{\"gridcolor\":\"white\",\"linecolor\":\"white\",\"ticks\":\"\"}},\"ternary\":{\"bgcolor\":\"#E5ECF6\",\"aaxis\":{\"gridcolor\":\"white\",\"linecolor\":\"white\",\"ticks\":\"\"},\"baxis\":{\"gridcolor\":\"white\",\"linecolor\":\"white\",\"ticks\":\"\"},\"caxis\":{\"gridcolor\":\"white\",\"linecolor\":\"white\",\"ticks\":\"\"}},\"coloraxis\":{\"colorbar\":{\"outlinewidth\":0,\"ticks\":\"\"}},\"colorscale\":{\"sequential\":[[0.0,\"#0d0887\"],[0.1111111111111111,\"#46039f\"],[0.2222222222222222,\"#7201a8\"],[0.3333333333333333,\"#9c179e\"],[0.4444444444444444,\"#bd3786\"],[0.5555555555555556,\"#d8576b\"],[0.6666666666666666,\"#ed7953\"],[0.7777777777777778,\"#fb9f3a\"],[0.8888888888888888,\"#fdca26\"],[1.0,\"#f0f921\"]],\"sequentialminus\":[[0.0,\"#0d0887\"],[0.1111111111111111,\"#46039f\"],[0.2222222222222222,\"#7201a8\"],[0.3333333333333333,\"#9c179e\"],[0.4444444444444444,\"#bd3786\"],[0.5555555555555556,\"#d8576b\"],[0.6666666666666666,\"#ed7953\"],[0.7777777777777778,\"#fb9f3a\"],[0.8888888888888888,\"#fdca26\"],[1.0,\"#f0f921\"]],\"diverging\":[[0,\"#8e0152\"],[0.1,\"#c51b7d\"],[0.2,\"#de77ae\"],[0.3,\"#f1b6da\"],[0.4,\"#fde0ef\"],[0.5,\"#f7f7f7\"],[0.6,\"#e6f5d0\"],[0.7,\"#b8e186\"],[0.8,\"#7fbc41\"],[0.9,\"#4d9221\"],[1,\"#276419\"]]},\"xaxis\":{\"gridcolor\":\"white\",\"linecolor\":\"white\",\"ticks\":\"\",\"title\":{\"standoff\":15},\"zerolinecolor\":\"white\",\"automargin\":true,\"zerolinewidth\":2},\"yaxis\":{\"gridcolor\":\"white\",\"linecolor\":\"white\",\"ticks\":\"\",\"title\":{\"standoff\":15},\"zerolinecolor\":\"white\",\"automargin\":true,\"zerolinewidth\":2},\"scene\":{\"xaxis\":{\"backgroundcolor\":\"#E5ECF6\",\"gridcolor\":\"white\",\"linecolor\":\"white\",\"showbackground\":true,\"ticks\":\"\",\"zerolinecolor\":\"white\",\"gridwidth\":2},\"yaxis\":{\"backgroundcolor\":\"#E5ECF6\",\"gridcolor\":\"white\",\"linecolor\":\"white\",\"showbackground\":true,\"ticks\":\"\",\"zerolinecolor\":\"white\",\"gridwidth\":2},\"zaxis\":{\"backgroundcolor\":\"#E5ECF6\",\"gridcolor\":\"white\",\"linecolor\":\"white\",\"showbackground\":true,\"ticks\":\"\",\"zerolinecolor\":\"white\",\"gridwidth\":2}},\"shapedefaults\":{\"line\":{\"color\":\"#2a3f5f\"}},\"annotationdefaults\":{\"arrowcolor\":\"#2a3f5f\",\"arrowhead\":0,\"arrowwidth\":1},\"geo\":{\"bgcolor\":\"white\",\"landcolor\":\"#E5ECF6\",\"subunitcolor\":\"white\",\"showland\":true,\"showlakes\":true,\"lakecolor\":\"white\"},\"title\":{\"x\":0.05},\"mapbox\":{\"style\":\"light\"}}},\"xaxis\":{\"anchor\":\"y\",\"domain\":[0.0,1.0],\"title\":{\"text\":\"gdp_per_capita\"},\"type\":\"log\"},\"yaxis\":{\"anchor\":\"x\",\"domain\":[0.0,1.0],\"title\":{\"text\":\"Life expectancy\"}},\"legend\":{\"title\":{\"text\":\"Entity\"},\"tracegroupgap\":0},\"margin\":{\"t\":60}},                        {\"responsive\": true}                    ).then(function(){\n",
       "                            \n",
       "var gd = document.getElementById('8d81d4e6-b601-445e-8dc4-4b8c264d3ba1');\n",
       "var x = new MutationObserver(function (mutations, observer) {{\n",
       "        var display = window.getComputedStyle(gd).display;\n",
       "        if (!display || display === 'none') {{\n",
       "            console.log([gd, 'removed!']);\n",
       "            Plotly.purge(gd);\n",
       "            observer.disconnect();\n",
       "        }}\n",
       "}});\n",
       "\n",
       "// Listen for the removal of the full notebook cells\n",
       "var notebookContainer = gd.closest('#notebook-container');\n",
       "if (notebookContainer) {{\n",
       "    x.observe(notebookContainer, {childList: true});\n",
       "}}\n",
       "\n",
       "// Listen for the clearing of the current output cell\n",
       "var outputEl = gd.closest('.output');\n",
       "if (outputEl) {{\n",
       "    x.observe(outputEl, {childList: true});\n",
       "}}\n",
       "\n",
       "                        })                };                });            </script>        </div>"
      ]
     },
     "metadata": {},
     "output_type": "display_data"
    }
   ],
   "source": [
    "# show a logarithmic axis \n",
    "px.scatter(gdp_pop_le.query(\"Year == 2017\"), x = \"gdp_per_capita\", y = \"Life expectancy\", color = \"Entity\", log_x = True)"
   ]
  }
 ],
 "metadata": {
  "kernelspec": {
   "display_name": "Python 3 (ipykernel)",
   "language": "python",
   "name": "python3"
  },
  "language_info": {
   "codemirror_mode": {
    "name": "ipython",
    "version": 3
   },
   "file_extension": ".py",
   "mimetype": "text/x-python",
   "name": "python",
   "nbconvert_exporter": "python",
   "pygments_lexer": "ipython3",
   "version": "3.10.9"
  }
 },
 "nbformat": 4,
 "nbformat_minor": 5
}
